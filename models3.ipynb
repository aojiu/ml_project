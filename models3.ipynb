{
 "cells": [
  {
   "cell_type": "markdown",
   "metadata": {},
   "source": [
    "# Datasets description"
   ]
  },
  {
   "cell_type": "markdown",
   "metadata": {},
   "source": [
    "dataset:\n",
    "three dataset:\n",
    "first:\n",
    "y: close price, x : all news parameters and extra info\n",
    "file: close_all_news_extra check\n",
    "second:\n",
    "y: close price, x : three news parameters and extra info\n",
    "file: close_three_news_extra check \n",
    "third:\n",
    "y: close price - open price, x : all news parameters and extra info\n",
    "file: different_all_news_extra\n",
    "fourth:\n",
    "y: close price - open price, x :  three news parameters and extra info\n",
    "file: different_three_news_extra check"
   ]
  },
  {
   "cell_type": "code",
   "execution_count": 86,
   "metadata": {},
   "outputs": [],
   "source": [
    "import pandas as pd\n",
    "import numpy as np\n",
    "\n",
    "from sklearn.preprocessing import StandardScaler  # It is important in neural networks to scale the date\n",
    "from sklearn.model_selection import train_test_split  # The standard - train/test to prevent overfitting and choose hyperparameters\n",
    "from sklearn.metrics import accuracy_score # \n",
    "from sklearn import datasets, linear_model, preprocessing\n",
    "import sklearn\n",
    "from sklearn.preprocessing import PolynomialFeatures\n",
    "from sklearn.preprocessing import scale\n",
    "import sklearn.linear_model\n",
    "from sklearn.linear_model import Ridge\n",
    "from sklearn.decomposition import PCA\n",
    "from sklearn import svm\n",
    "import tensorflow as tf\n",
    "from tensorflow import keras\n",
    "import numpy.random as r\n",
    "from keras import metrics\n",
    "\n",
    "from sklearn.preprocessing import StandardScaler\n",
    "import matplotlib.pyplot as plt\n",
    "\n",
    "%matplotlib inline"
   ]
  },
  {
   "cell_type": "code",
   "execution_count": 87,
   "metadata": {},
   "outputs": [],
   "source": [
    "from keras.models import Model, Sequential\n",
    "from keras.layers import Dense, Activation\n",
    "from keras import regularizers\n",
    "from keras import optimizers\n",
    "import keras.backend as K\n",
    "K.clear_session()"
   ]
  },
  {
   "cell_type": "code",
   "execution_count": 88,
   "metadata": {},
   "outputs": [
    {
     "name": "stdout",
     "output_type": "stream",
     "text": [
      "(658, 40)\n",
      "(658, 40)\n"
     ]
    }
   ],
   "source": [
    "close_all_news_extra = pd.read_csv(\"close_all_news_extra.csv\")\n",
    "close_all_news_extra = close_all_news_extra.drop(columns= [\"appear\"])\n",
    "\n",
    "close_three_news_extra = pd.read_csv(\"close_three_news_extra.csv\")\n",
    "close_three_news_extra = close_three_news_extra.drop(columns= [\"appearence\"])\n",
    "\n",
    "different_all_news_extra = pd.read_csv(\"different_all_news_extra.csv\")\n",
    "different_all_news_extra = different_all_news_extra.drop(columns= [\"appear\"])\n",
    "\n",
    "different_three_news_extra = pd.read_csv(\"different_three_news_extra.csv\")\n",
    "different_three_news_extra = different_three_news_extra.drop(columns= [\"appearence\"])\n",
    "\n",
    "print(different_all_news_extra.shape)\n",
    "print(close_all_news_extra.shape)"
   ]
  },
  {
   "cell_type": "code",
   "execution_count": 89,
   "metadata": {},
   "outputs": [],
   "source": [
    "xx = [1,2,3,4,5]\n",
    "yy = [1,2,3,4,5]\n"
   ]
  },
  {
   "cell_type": "code",
   "execution_count": 90,
   "metadata": {},
   "outputs": [
    {
     "data": {
      "text/plain": [
       "Index(['Unnamed: 0', 'Euro exchange rate', 'Date', 'Hong Kong exchange rate',\n",
       "       'Canada exchange rate', 'China exchange rate', 'QCOM close price',\n",
       "       'MSFT close price', 'TXN close price', 'APPL close price',\n",
       "       'social_media', 'computer', 'business', 'programming', 'hearing',\n",
       "       'urban', 'shopping', 'science', 'work', 'valuable', 'fashion',\n",
       "       'technology', 'competing', 'economics', 'office', 'cheerfulness',\n",
       "       'optimism', 'celebration', 'trust', 'positive_emotion', 'hate',\n",
       "       'aggression', 'horror', 'suffering', 'ridicule', 'irritability',\n",
       "       'deception', 'disappointment', 'negative_emotion', 'nervousness'],\n",
       "      dtype='object')"
      ]
     },
     "execution_count": 90,
     "metadata": {},
     "output_type": "execute_result"
    }
   ],
   "source": [
    "close_all_news_extra.columns"
   ]
  },
  {
   "cell_type": "code",
   "execution_count": 91,
   "metadata": {},
   "outputs": [
    {
     "data": {
      "text/plain": [
       "Index(['Unnamed: 0', 'Euro exchange rate', 'Date', 'Hong Kong exchange rate',\n",
       "       'Canada exchange rate', 'China exchange rate', 'QCOM close price',\n",
       "       'MSFT close price', 'TXN close price', 'APPL close price',\n",
       "       'new_correlation', 'pos_re', 'neg_re'],\n",
       "      dtype='object')"
      ]
     },
     "execution_count": 91,
     "metadata": {},
     "output_type": "execute_result"
    }
   ],
   "source": [
    "close_three_news_extra.columns"
   ]
  },
  {
   "cell_type": "code",
   "execution_count": 92,
   "metadata": {},
   "outputs": [],
   "source": [
    "def plot(test, prediction, num, title):\n",
    "    plt.plot(num, prediction, 'r-', label = \"prediction\")\n",
    "    plt.plot(num, test, 'b-', label =\"real value\")\n",
    "    plt.title(title)\n",
    "    plt.legend(loc = \"upper right\")\n",
    "    plt.show()"
   ]
  },
  {
   "cell_type": "code",
   "execution_count": 93,
   "metadata": {},
   "outputs": [],
   "source": [
    "# pull out the y and x, and transfer into dataset:\n",
    "def transfer_dataframe_to_x_y(dataframe, y_colum):\n",
    "    #y_dataframe = dataframe[y_colum]\n",
    "    dataframe = dataframe.dropna()\n",
    "    y = dataframe[y_colum].values\n",
    "    y = y.reshape(y.shape[0],1)\n",
    "    x_dataframe = dataframe.drop(columns= [y_colum,\"Date\"])\n",
    "    x = x_dataframe.values\n",
    "    return x,y"
   ]
  },
  {
   "cell_type": "code",
   "execution_count": null,
   "metadata": {},
   "outputs": [],
   "source": []
  },
  {
   "cell_type": "markdown",
   "metadata": {},
   "source": [
    "# Linear Regression models\n",
    "now we have a table that:\n",
    "        redge degree:   0, 0.35, 0.5, 0.75\n",
    "        polynomial degree: 1, 2\n"
   ]
  },
  {
   "cell_type": "code",
   "execution_count": 94,
   "metadata": {},
   "outputs": [
    {
     "name": "stdout",
     "output_type": "stream",
     "text": [
      "\n"
     ]
    }
   ],
   "source": [
    "X_close_three_news_extra,Y_close_three_news_extra = transfer_dataframe_to_x_y(close_three_news_extra,\"APPL close price\")\n",
    "X_different_three_news_extra,Y_different_three_news_extra = transfer_dataframe_to_x_y(different_three_news_extra,\"APPL diff\")\n",
    "X_close_all_news_extra, Y_close_all_news_extra = transfer_dataframe_to_x_y(close_all_news_extra,\"APPL close price\")\n",
    "X_different_all_news_extra, Y_different_all_news_extra = transfer_dataframe_to_x_y(different_all_news_extra,\"APPL diff\")\n",
    "print()"
   ]
  },
  {
   "cell_type": "code",
   "execution_count": 95,
   "metadata": {},
   "outputs": [],
   "source": [
    "def linear_fit(X_train, X_test, Y_train, Y_test, alpha):\n",
    "    ridge = Ridge(alpha)\n",
    "    ridge.fit(X_train,Y_train)\n",
    "    train_error = (1/Y_train.shape[0])*np.sum((Y_train-ridge.predict(X_train))**2)\n",
    "    test_error = (1/Y_test.shape[0])*np.sum((Y_test-ridge.predict(X_test))**2)\n",
    "    R2 = 1 - np.sum((Y_train - ridge.predict(X_train))**2) / np.sum((Y_train - np.mean(Y_train))**2)\n",
    "    return train_error, test_error, R2, ridge"
   ]
  },
  {
   "cell_type": "code",
   "execution_count": 96,
   "metadata": {},
   "outputs": [],
   "source": [
    "def model_selection(X, Y):\n",
    "    deg_list = [1,2,3,4,5]\n",
    "    alpha_list = [0,0.35,0.5,0.75]\n",
    "    mse_tr = []\n",
    "    mse_test = []\n",
    "    for elem in deg_list:\n",
    "        temp_mse_tr = None\n",
    "        temp_mse_test = None\n",
    "        if elem != 1:\n",
    "    #         print(elem)\n",
    "            poly = PolynomialFeatures(int(elem))\n",
    "            X_poly = poly.fit_transform(X)\n",
    "            Y_poly = Y\n",
    "            X_train_poly, X_test_poly, Y_train_poly, Y_test_poly = train_test_split(X_poly, Y_poly, test_size=0.3)\n",
    "        else:\n",
    "            Y_poly = Y\n",
    "            X_train_poly, X_test_poly, Y_train_poly, Y_test_poly = train_test_split(X, Y, test_size=0.3)            \n",
    "        for alpha in alpha_list:\n",
    "#             print(alpha)\n",
    "            train_error, test_error, R2, ridge = linear_fit(X_train_poly, X_test_poly, Y_train_poly, Y_test_poly, float(alpha))\n",
    "#             print(\"train_error: \", train_error, \"alpha: \", alpha)\n",
    "#             print(\"before condition: \", temp_mse_tr)\n",
    "            if temp_mse_tr is None:\n",
    "                temp_mse_tr = (train_error, float(alpha))\n",
    "            elif temp_mse_tr[0] > train_error:\n",
    "#                 print(\"updating: \", alpha)\n",
    "                temp_mse_tr = (train_error, float(alpha))\n",
    "                \n",
    "            if temp_mse_test is None:\n",
    "                temp_mse_test = (test_error, float(alpha))\n",
    "            elif temp_mse_test[0] > test_error:\n",
    "                temp_mse_test = (test_error, float(alpha))\n",
    "        mse_tr.append(temp_mse_tr)  \n",
    "        mse_test.append(temp_mse_test) \n",
    "        \n",
    "            \n",
    "    return mse_tr, mse_test"
   ]
  },
  {
   "cell_type": "code",
   "execution_count": 97,
   "metadata": {},
   "outputs": [],
   "source": [
    "def plot_model_sel(X,Y,alpha):\n",
    "\n",
    "    deg_list = [1,2,3,4,5]\n",
    "    mse_tr = []\n",
    "    mse_test = []\n",
    "    for elem in deg_list:\n",
    "        temp_mse_tr = None\n",
    "        temp_mse_test = None\n",
    "        if elem == 1:\n",
    "            X_train_poly, X_test_poly, Y_train_poly, Y_test_poly = train_test_split(X, Y, test_size=0.3)\n",
    "            train_error, test_error, R2, ridge = linear_fit(X_train_poly, X_test_poly, Y_train_poly, Y_test_poly, float(alpha))\n",
    "            mse_tr.append(train_error)\n",
    "            mse_test.append(test_error)\n",
    "        else:\n",
    "            poly = PolynomialFeatures(int(elem))\n",
    "            X_poly = poly.fit_transform(X)\n",
    "            Y_poly = Y\n",
    "            X_train_poly, X_test_poly, Y_train_poly, Y_test_poly = train_test_split(X_poly, Y_poly, test_size=0.3)\n",
    "            train_error, test_error, R2, ridge = linear_fit(X_train_poly, X_test_poly, Y_train_poly, Y_test_poly, float(alpha))\n",
    "            mse_tr.append(train_error)\n",
    "            mse_test.append(test_error)\n",
    "\n",
    "    plt.plot(deg_list, mse_tr, \"r-\", label = \"train_mse\")\n",
    "    plt.plot(deg_list, mse_test, \"b-\", label = \"test_mse\")\n",
    "    plt.xlabel(\"Model order\")\n",
    "    plt.ylabel(\"MSE\")\n",
    "    plt.grid()\n",
    "    plt.ylim(0,300)\n",
    "    plt.legend(loc = \"upper right\")\n",
    "    plt.show()\n",
    "    "
   ]
  },
  {
   "cell_type": "code",
   "execution_count": 99,
   "metadata": {},
   "outputs": [
    {
     "name": "stderr",
     "output_type": "stream",
     "text": [
      "/usr/local/lib/python3.7/site-packages/sklearn/linear_model/ridge.py:125: LinAlgWarning: Ill-conditioned matrix (rcond=4.7639e-21): result may not be accurate.\n",
      "  overwrite_a=True).T\n",
      "/usr/local/lib/python3.7/site-packages/sklearn/linear_model/ridge.py:125: LinAlgWarning: Ill-conditioned matrix (rcond=7.03622e-21): result may not be accurate.\n",
      "  overwrite_a=True).T\n",
      "/usr/local/lib/python3.7/site-packages/sklearn/linear_model/ridge.py:125: LinAlgWarning: Ill-conditioned matrix (rcond=1.05709e-20): result may not be accurate.\n",
      "  overwrite_a=True).T\n",
      "/usr/local/lib/python3.7/site-packages/sklearn/linear_model/ridge.py:167: UserWarning: Singular matrix in solving dual problem. Using least-squares solution instead.\n",
      "  warnings.warn(\"Singular matrix in solving dual problem. Using \"\n",
      "/usr/local/lib/python3.7/site-packages/sklearn/linear_model/ridge.py:167: UserWarning: Singular matrix in solving dual problem. Using least-squares solution instead.\n",
      "  warnings.warn(\"Singular matrix in solving dual problem. Using \"\n",
      "/usr/local/lib/python3.7/site-packages/sklearn/linear_model/ridge.py:167: UserWarning: Singular matrix in solving dual problem. Using least-squares solution instead.\n",
      "  warnings.warn(\"Singular matrix in solving dual problem. Using \"\n",
      "/usr/local/lib/python3.7/site-packages/sklearn/linear_model/ridge.py:167: UserWarning: Singular matrix in solving dual problem. Using least-squares solution instead.\n",
      "  warnings.warn(\"Singular matrix in solving dual problem. Using \"\n"
     ]
    },
    {
     "name": "stdout",
     "output_type": "stream",
     "text": [
      "[(58.96308105995245, 0.0), (10.434014541782737, 0.0), (2.923469094021495, 0.0), (7.884356038691094, 0.0), (63.04001214974655, 0.0)]\n",
      "[(65.45405856701485, 0.0), (33.358722754792424, 0.35), (165.14837183732752, 0.35), (9.790510550223711, 0.0), (1456.911302995494, 0.0)]\n"
     ]
    },
    {
     "name": "stderr",
     "output_type": "stream",
     "text": [
      "/usr/local/lib/python3.7/site-packages/sklearn/linear_model/ridge.py:167: UserWarning: Singular matrix in solving dual problem. Using least-squares solution instead.\n",
      "  warnings.warn(\"Singular matrix in solving dual problem. Using \"\n",
      "/usr/local/lib/python3.7/site-packages/sklearn/linear_model/ridge.py:167: UserWarning: Singular matrix in solving dual problem. Using least-squares solution instead.\n",
      "  warnings.warn(\"Singular matrix in solving dual problem. Using \"\n",
      "/usr/local/lib/python3.7/site-packages/sklearn/linear_model/ridge.py:167: UserWarning: Singular matrix in solving dual problem. Using least-squares solution instead.\n",
      "  warnings.warn(\"Singular matrix in solving dual problem. Using \"\n",
      "/usr/local/lib/python3.7/site-packages/sklearn/linear_model/ridge.py:167: UserWarning: Singular matrix in solving dual problem. Using least-squares solution instead.\n",
      "  warnings.warn(\"Singular matrix in solving dual problem. Using \"\n"
     ]
    }
   ],
   "source": [
    "a, b = model_selection(X_close_three_news_extra,Y_close_three_news_extra)\n",
    "print(a)\n",
    "print(b)"
   ]
  },
  {
   "cell_type": "code",
   "execution_count": 105,
   "metadata": {},
   "outputs": [
    {
     "name": "stdout",
     "output_type": "stream",
     "text": [
      "[(44.234167923580564, 0.0), (14.939385793544867, 0.35), (5.808510825594093, 0.75), (15.76515063303518, 0.0), (7.2431922117364955, 0.0)] [(59.4454762985425, 0.0), (37.78642003574772, 0.75), (231.26656518663987, 0.5), (346.24485625466156, 0.0), (8.636795476286968, 0.0)]\n"
     ]
    }
   ],
   "source": [
    "print(\"[(44.234167923580564, 0.0), (14.939385793544867, 0.35), (5.808510825594093, 0.75), (15.76515063303518, 0.0), (7.2431922117364955, 0.0)] [(59.4454762985425, 0.0), (37.78642003574772, 0.75), (231.26656518663987, 0.5), (346.24485625466156, 0.0), (8.636795476286968, 0.0)]\")"
   ]
  },
  {
   "cell_type": "code",
   "execution_count": 106,
   "metadata": {},
   "outputs": [
    {
     "name": "stderr",
     "output_type": "stream",
     "text": [
      "/usr/local/lib/python3.7/site-packages/sklearn/linear_model/ridge.py:125: LinAlgWarning: Ill-conditioned matrix (rcond=6.11157e-21): result may not be accurate.\n",
      "  overwrite_a=True).T\n",
      "/usr/local/lib/python3.7/site-packages/sklearn/linear_model/ridge.py:167: UserWarning: Singular matrix in solving dual problem. Using least-squares solution instead.\n",
      "  warnings.warn(\"Singular matrix in solving dual problem. Using \"\n",
      "/usr/local/lib/python3.7/site-packages/sklearn/linear_model/ridge.py:167: UserWarning: Singular matrix in solving dual problem. Using least-squares solution instead.\n",
      "  warnings.warn(\"Singular matrix in solving dual problem. Using \"\n"
     ]
    },
    {
     "data": {
      "image/png": "[encoded data removed]",
      "text/plain": [
       "<Figure size 432x288 with 1 Axes>"
      ]
     },
     "metadata": {
      "needs_background": "light"
     },
     "output_type": "display_data"
    }
   ],
   "source": [
    "plot_model_sel(X_close_three_news_extra,Y_close_three_news_extra, 0.35)"
   ]
  },
  {
   "cell_type": "code",
   "execution_count": 107,
   "metadata": {},
   "outputs": [],
   "source": [
    "def linear_regression_model(X, Y, degree, alpha, start, end):\n",
    "    # dataset poly transfor:\n",
    "    poly = PolynomialFeatures(int(alpha))\n",
    "    X_poly = poly.fit_transform(X)\n",
    "    Y_poly = Y\n",
    "    y_plot = Y[int(start):int(end)]\n",
    "    x_plot = X[int(start):int(end)]\n",
    "    x_plot2 = X_poly[int(start):int(end)]\n",
    "    y_plot2 = Y_poly[int(start):int(end)]\n",
    "    \n",
    "\n",
    "    \n",
    "    X_train, X_test, Y_train, Y_test = train_test_split(X, Y, test_size=0.3)\n",
    "    X_train_poly, X_test_ploy, Y_train_poly, Y_test_poly = train_test_split(X_poly, Y_poly, test_size=0.3)\n",
    "    num = np.arange(len(X_test))\n",
    "    # non poly, non redge:\n",
    "    train_error, test_error, R2,ridge = linear_fit(X_train, X_test, Y_train, Y_test,0)\n",
    "    prediction = ridge.predict(x_plot)\n",
    "    \n",
    "    num = np.arange(len(x_plot))\n",
    "    plot(y_plot, prediction, num, \"2 poly, 0.75 ridge\")\n",
    "    print( str(degree) + \" poly,\" + str(alpha) + \"non redge: train_error = {0:.2f} and test_error = {1:.2f}, r^2 = {2:.2f}\".format(train_error,test_error,R2))\n",
    "    "
   ]
  },
  {
   "cell_type": "code",
   "execution_count": 108,
   "metadata": {},
   "outputs": [
    {
     "data": {
      "image/png": "[encoded data removed]",
      "text/plain": [
       "<Figure size 432x288 with 1 Axes>"
      ]
     },
     "metadata": {
      "needs_background": "light"
     },
     "output_type": "display_data"
    },
    {
     "name": "stdout",
     "output_type": "stream",
     "text": [
      "2 poly,0.75non redge: train_error = 60.75 and test_error = 60.47, r^2 = 0.79\n"
     ]
    }
   ],
   "source": [
    "linear_regression_model(X_close_three_news_extra,Y_close_three_news_extra,2,0.75, 500, 600)"
   ]
  },
  {
   "cell_type": "code",
   "execution_count": 109,
   "metadata": {},
   "outputs": [
    {
     "data": {
      "image/png": "[encoded data removed]",
      "text/plain": [
       "<Figure size 432x288 with 1 Axes>"
      ]
     },
     "metadata": {
      "needs_background": "light"
     },
     "output_type": "display_data"
    },
    {
     "name": "stdout",
     "output_type": "stream",
     "text": [
      "2 poly,0.75non redge: train_error = 1.27 and test_error = 1.48, r^2 = 0.23\n"
     ]
    }
   ],
   "source": [
    "linear_regression_model(X_different_three_news_extra,Y_different_three_news_extra,2, 0.75, 500, 600)"
   ]
  },
  {
   "cell_type": "code",
   "execution_count": 110,
   "metadata": {},
   "outputs": [
    {
     "data": {
      "image/png": "[encoded data removed]",
      "text/plain": [
       "<Figure size 432x288 with 1 Axes>"
      ]
     },
     "metadata": {
      "needs_background": "light"
     },
     "output_type": "display_data"
    },
    {
     "name": "stdout",
     "output_type": "stream",
     "text": [
      "2 poly,0.75non redge: train_error = 46.90 and test_error = 54.20, r^2 = 0.84\n"
     ]
    }
   ],
   "source": [
    "linear_regression_model(X_close_all_news_extra,Y_close_all_news_extra,2,0.75, 500, 600)"
   ]
  },
  {
   "cell_type": "code",
   "execution_count": 113,
   "metadata": {},
   "outputs": [
    {
     "data": {
      "image/png": "[encoded data removed]",
      "text/plain": [
       "<Figure size 432x288 with 1 Axes>"
      ]
     },
     "metadata": {
      "needs_background": "light"
     },
     "output_type": "display_data"
    },
    {
     "name": "stdout",
     "output_type": "stream",
     "text": [
      "2 poly,0.75non redge: train_error = 1.33 and test_error = 1.07, r^2 = 0.28\n"
     ]
    }
   ],
   "source": [
    "linear_regression_model(X_different_all_news_extra,Y_different_all_news_extra,2,0.75, 500, 600)"
   ]
  },
  {
   "cell_type": "markdown",
   "metadata": {},
   "source": [
    "# SVM models"
   ]
  },
  {
   "cell_type": "markdown",
   "metadata": {},
   "source": [
    "Before process the SVM models, we need to transfer the y to 1 or -1"
   ]
  },
  {
   "cell_type": "code",
   "execution_count": 114,
   "metadata": {},
   "outputs": [],
   "source": [
    "def transfer_y_binary(value):\n",
    "    if value < 0:\n",
    "        out = -1\n",
    "    else:\n",
    "        out = 1\n",
    "    return out"
   ]
  },
  {
   "cell_type": "code",
   "execution_count": 115,
   "metadata": {},
   "outputs": [],
   "source": [
    "def transfer_dataframe_to_x_y_for_SVM(dataframe, y_colum):\n",
    "    #y_dataframe = dataframe[y_colum]\n",
    "    dataframe = dataframe.dropna()\n",
    "    y = dataframe[y_colum].values\n",
    "    x_dataframe = dataframe.drop(columns= [y_colum,\"Date\"])\n",
    "    x = x_dataframe.values\n",
    "    return x,y"
   ]
  },
  {
   "cell_type": "code",
   "execution_count": 116,
   "metadata": {},
   "outputs": [],
   "source": [
    "different_all_news_extra[\"APPL diff\"] = different_all_news_extra[\"APPL diff\"].apply(transfer_y_binary)\n",
    "different_three_news_extra[\"APPL diff\"] = different_three_news_extra[\"APPL diff\"].apply(transfer_y_binary)"
   ]
  },
  {
   "cell_type": "code",
   "execution_count": 117,
   "metadata": {},
   "outputs": [],
   "source": [
    "X_different_three_news_extra,Y_different_three_news_extra = transfer_dataframe_to_x_y_for_SVM(different_three_news_extra,\"APPL diff\")\n",
    "X_different_all_news_extra, Y_different_all_news_extra = transfer_dataframe_to_x_y_for_SVM(different_all_news_extra,\"APPL diff\")\n"
   ]
  },
  {
   "cell_type": "markdown",
   "metadata": {},
   "source": [
    "We need three kernals, with mutiple c as soft margin. <br>\n",
    "kernal one: linear <br>\n",
    "kernal two: RBF <br>\n",
    "kernal three: Polynomial Kernel <br>"
   ]
  },
  {
   "cell_type": "markdown",
   "metadata": {},
   "source": [
    "## SVM_linear"
   ]
  },
  {
   "cell_type": "code",
   "execution_count": 118,
   "metadata": {},
   "outputs": [],
   "source": [
    "acc_train_svm_linear = []\n",
    "acc_test_svm_linear = []\n",
    "c_svm_linear = []"
   ]
  },
  {
   "cell_type": "code",
   "execution_count": 119,
   "metadata": {},
   "outputs": [],
   "source": [
    "def svm_linear(X_train, X_test, Y_train, Y_test,c):\n",
    "    svc_linear = svm.SVC(probability = False, kernel = \"linear\", C = c)\n",
    "    \n",
    "    svc_linear.fit(X_train,Y_train)\n",
    "    Yhat_svc_linear_train = svc_linear.predict(X_train)\n",
    "    acc_train = np.mean(Yhat_svc_linear_train == Y_train)\n",
    "    \n",
    "    acc_train_svm_linear.append(acc_train)\n",
    "    print('Train Accuracy = {0:f}'.format(acc_train))\n",
    "\n",
    "    \n",
    "    Yhat_svc_linear_test = svc_linear.predict(X_test)\n",
    "    acc_test = np.mean(Yhat_svc_linear_test == Y_test)\n",
    "    \n",
    "    \n",
    "    acc_test_svm_linear.append(acc_test)\n",
    "    print('Test Accuracy = {0:f}'.format(acc_test))\n",
    "    c_svm_linear.append(c)"
   ]
  },
  {
   "cell_type": "code",
   "execution_count": 120,
   "metadata": {},
   "outputs": [],
   "source": [
    "def plot_svm(c_svm_linear, acc_train_svm_linear, acc_test_svm_linear):\n",
    "    plt.plot(c_svm_linear,acc_train_svm_linear,'g.-',label='train accuracy')\n",
    "    plt.plot(c_svm_linear,acc_test_svm_linear,'r.-',label='test accuracy')\n",
    "    plt.legend(loc='upper right')\n",
    "    plt.show()"
   ]
  },
  {
   "cell_type": "code",
   "execution_count": 121,
   "metadata": {},
   "outputs": [],
   "source": [
    "def SVM_linear(X, Y):\n",
    "    X_train, X_test, Y_train, Y_test = train_test_split(X, Y, test_size=0.3)\n",
    "    cVals = list(np.arange(0.001,5,0.5))\n",
    "\n",
    "    for c in cVals:\n",
    "        print(c)\n",
    "        svm_linear(X_train, X_test, Y_train, Y_test ,c)\n",
    "    plot_svm(c_svm_linear, acc_train_svm_linear, acc_test_svm_linear)\n"
   ]
  },
  {
   "cell_type": "code",
   "execution_count": 122,
   "metadata": {},
   "outputs": [
    {
     "name": "stdout",
     "output_type": "stream",
     "text": [
      "[0.001, 0.051000000000000004, 0.101, 0.15100000000000002, 0.201, 0.251, 0.30100000000000005, 0.35100000000000003, 0.401, 0.451, 0.501, 0.551, 0.6010000000000001, 0.651, 0.7010000000000001, 0.751, 0.801, 0.8510000000000001, 0.901, 0.9510000000000001, 1.001, 1.051, 1.101, 1.151, 1.201, 1.251, 1.301, 1.351, 1.401, 1.451, 1.501, 1.551, 1.601, 1.651, 1.701, 1.751, 1.801, 1.851, 1.901, 1.951]\n"
     ]
    }
   ],
   "source": [
    "cVals = list(np.arange(0.001,2,0.05))\n",
    "print(cVals)"
   ]
  },
  {
   "cell_type": "code",
   "execution_count": 123,
   "metadata": {},
   "outputs": [
    {
     "name": "stdout",
     "output_type": "stream",
     "text": [
      "0.001\n",
      "Train Accuracy = 0.517621\n",
      "Test Accuracy = 0.584615\n",
      "0.501\n",
      "Train Accuracy = 0.671806\n",
      "Test Accuracy = 0.692308\n",
      "1.001\n",
      "Train Accuracy = 0.682819\n",
      "Test Accuracy = 0.692308\n",
      "1.501\n",
      "Train Accuracy = 0.671806\n",
      "Test Accuracy = 0.692308\n",
      "2.001\n",
      "Train Accuracy = 0.669604\n",
      "Test Accuracy = 0.697436\n",
      "2.501\n",
      "Train Accuracy = 0.680617\n",
      "Test Accuracy = 0.682051\n",
      "3.001\n",
      "Train Accuracy = 0.674009\n",
      "Test Accuracy = 0.682051\n",
      "3.501\n",
      "Train Accuracy = 0.678414\n",
      "Test Accuracy = 0.682051\n",
      "4.001\n",
      "Train Accuracy = 0.674009\n",
      "Test Accuracy = 0.702564\n",
      "4.501\n",
      "Train Accuracy = 0.680617\n",
      "Test Accuracy = 0.692308\n"
     ]
    },
    {
     "data": {
      "image/png": "[encoded data removed]",
      "text/plain": [
       "<Figure size 432x288 with 1 Axes>"
      ]
     },
     "metadata": {
      "needs_background": "light"
     },
     "output_type": "display_data"
    }
   ],
   "source": [
    "SVM_linear(X_different_three_news_extra,Y_different_three_news_extra)\n"
   ]
  },
  {
   "cell_type": "code",
   "execution_count": 124,
   "metadata": {},
   "outputs": [],
   "source": [
    "def pca(X, k):\n",
    "    X = StandardScaler().fit_transform(X)\n",
    "    pca = PCA(n_components=k)\n",
    "    lst = []\n",
    "    for i in range(k):\n",
    "        name = \"principal component \" + str(i + 1)\n",
    "        lst.append(name)\n",
    "\n",
    "    principalComponents = pca.fit_transform(X)\n",
    "\n",
    "    principalDf = pd.DataFrame(data = principalComponents\n",
    "                 , columns = lst)\n",
    "    return principalDf\n"
   ]
  },
  {
   "cell_type": "code",
   "execution_count": 125,
   "metadata": {},
   "outputs": [
    {
     "name": "stdout",
     "output_type": "stream",
     "text": [
      "0.001\n",
      "Train Accuracy = 0.585903\n",
      "Test Accuracy = 0.579487\n",
      "0.501\n",
      "Train Accuracy = 0.665198\n",
      "Test Accuracy = 0.656410\n",
      "1.001\n",
      "Train Accuracy = 0.665198\n",
      "Test Accuracy = 0.651282\n",
      "1.501\n",
      "Train Accuracy = 0.665198\n",
      "Test Accuracy = 0.651282\n",
      "2.001\n",
      "Train Accuracy = 0.665198\n",
      "Test Accuracy = 0.651282\n",
      "2.501\n",
      "Train Accuracy = 0.665198\n",
      "Test Accuracy = 0.651282\n",
      "3.001\n",
      "Train Accuracy = 0.665198\n",
      "Test Accuracy = 0.651282\n",
      "3.501\n",
      "Train Accuracy = 0.665198\n",
      "Test Accuracy = 0.651282\n",
      "4.001\n",
      "Train Accuracy = 0.665198\n",
      "Test Accuracy = 0.651282\n",
      "4.501\n",
      "Train Accuracy = 0.667401\n",
      "Test Accuracy = 0.651282\n"
     ]
    },
    {
     "data": {
      "image/png": "[encoded data removed]",
      "text/plain": [
       "<Figure size 432x288 with 1 Axes>"
      ]
     },
     "metadata": {
      "needs_background": "light"
     },
     "output_type": "display_data"
    }
   ],
   "source": [
    "x_diff_three_pca = pca(X_different_three_news_extra, 5)\n",
    "acc_train_svm_linear = []\n",
    "acc_test_svm_linear = []\n",
    "c_svm_linear = []\n",
    "SVM_linear(x_diff_three_pca,Y_different_three_news_extra)"
   ]
  },
  {
   "cell_type": "code",
   "execution_count": 126,
   "metadata": {},
   "outputs": [
    {
     "name": "stdout",
     "output_type": "stream",
     "text": [
      "0.001\n",
      "Train Accuracy = 0.560870\n",
      "Test Accuracy = 0.484848\n",
      "0.501\n",
      "Train Accuracy = 0.673913\n",
      "Test Accuracy = 0.691919\n",
      "1.001\n",
      "Train Accuracy = 0.658696\n",
      "Test Accuracy = 0.702020\n",
      "1.501\n",
      "Train Accuracy = 0.658696\n",
      "Test Accuracy = 0.691919\n",
      "2.001\n",
      "Train Accuracy = 0.658696\n",
      "Test Accuracy = 0.676768\n",
      "2.501\n",
      "Train Accuracy = 0.658696\n",
      "Test Accuracy = 0.671717\n",
      "3.001\n",
      "Train Accuracy = 0.656522\n",
      "Test Accuracy = 0.671717\n",
      "3.501\n",
      "Train Accuracy = 0.663043\n",
      "Test Accuracy = 0.671717\n",
      "4.001\n",
      "Train Accuracy = 0.669565\n",
      "Test Accuracy = 0.671717\n",
      "4.501\n",
      "Train Accuracy = 0.669565\n",
      "Test Accuracy = 0.661616\n"
     ]
    },
    {
     "data": {
      "image/png": "[encoded data removed]",
      "text/plain": [
       "<Figure size 432x288 with 1 Axes>"
      ]
     },
     "metadata": {
      "needs_background": "light"
     },
     "output_type": "display_data"
    }
   ],
   "source": [
    "acc_train_svm_linear = []\n",
    "acc_test_svm_linear = []\n",
    "c_svm_linear = []\n",
    "SVM_linear(X_different_all_news_extra, Y_different_all_news_extra )"
   ]
  },
  {
   "cell_type": "code",
   "execution_count": 127,
   "metadata": {},
   "outputs": [
    {
     "name": "stdout",
     "output_type": "stream",
     "text": [
      "0.001\n",
      "Train Accuracy = 0.563043\n",
      "Test Accuracy = 0.540404\n",
      "0.501\n",
      "Train Accuracy = 0.676087\n",
      "Test Accuracy = 0.646465\n",
      "1.001\n",
      "Train Accuracy = 0.676087\n",
      "Test Accuracy = 0.646465\n",
      "1.501\n",
      "Train Accuracy = 0.676087\n",
      "Test Accuracy = 0.651515\n",
      "2.001\n",
      "Train Accuracy = 0.676087\n",
      "Test Accuracy = 0.651515\n",
      "2.501\n",
      "Train Accuracy = 0.676087\n",
      "Test Accuracy = 0.651515\n",
      "3.001\n",
      "Train Accuracy = 0.676087\n",
      "Test Accuracy = 0.651515\n",
      "3.501\n",
      "Train Accuracy = 0.676087\n",
      "Test Accuracy = 0.651515\n",
      "4.001\n",
      "Train Accuracy = 0.676087\n",
      "Test Accuracy = 0.651515\n",
      "4.501\n",
      "Train Accuracy = 0.676087\n",
      "Test Accuracy = 0.651515\n"
     ]
    },
    {
     "data": {
      "image/png": "[encoded data removed]",
      "text/plain": [
       "<Figure size 432x288 with 1 Axes>"
      ]
     },
     "metadata": {
      "needs_background": "light"
     },
     "output_type": "display_data"
    }
   ],
   "source": [
    "x_all_three_pca = pca(X_different_all_news_extra, 5)\n",
    "acc_train_svm_linear = []\n",
    "acc_test_svm_linear = []\n",
    "c_svm_linear = []\n",
    "SVM_linear(x_all_three_pca,Y_different_all_news_extra)"
   ]
  },
  {
   "cell_type": "markdown",
   "metadata": {},
   "source": [
    "## SVM with RBF"
   ]
  },
  {
   "cell_type": "code",
   "execution_count": 128,
   "metadata": {},
   "outputs": [],
   "source": [
    "acc_train_svm_rbf = []\n",
    "acc_test_svm_rbf = []\n",
    "c_svm_rbf = []"
   ]
  },
  {
   "cell_type": "code",
   "execution_count": 129,
   "metadata": {},
   "outputs": [],
   "source": [
    "def svm_rbf(X_train, X_test, Y_train, Y_test,c):\n",
    "    svc_linear = svm.SVC(probability = False, kernel = \"rbf\", C = c)\n",
    "    \n",
    "    svc_linear.fit(X_train,Y_train)\n",
    "    Yhat_svc_linear_train = svc_linear.predict(X_train)\n",
    "    acc_train = np.mean(Yhat_svc_linear_train == Y_train)\n",
    "    \n",
    "    acc_train_svm_rbf.append(acc_train)\n",
    "    print('Train Accuracy = {0:f}'.format(acc_train))\n",
    "    \n",
    "    Yhat_svc_linear_test = svc_linear.predict(X_test)\n",
    "    acc_test = np.mean(Yhat_svc_linear_test == Y_test)\n",
    "    \n",
    "    acc_test_svm_rbf.append(acc_test)\n",
    "    print('Test Accuracy = {0:f}'.format(acc_test))\n",
    "    \n",
    "    c_svm_rbf.append(c)"
   ]
  },
  {
   "cell_type": "code",
   "execution_count": 130,
   "metadata": {},
   "outputs": [],
   "source": [
    "def SVM_rbf(X, Y):\n",
    "    X_train, X_test, Y_train, Y_test = train_test_split(X, Y, test_size=0.3)\n",
    "    \n",
    "    cVals = list(np.arange(0.001,5,0.5))\n",
    "\n",
    "    for c in cVals:\n",
    "        print(c)\n",
    "        svm_rbf(X_train, X_test, Y_train, Y_test ,c)\n",
    "    plot_svm(c_svm_rbf,acc_train_svm_rbf,acc_test_svm_rbf)"
   ]
  },
  {
   "cell_type": "code",
   "execution_count": 131,
   "metadata": {},
   "outputs": [
    {
     "name": "stdout",
     "output_type": "stream",
     "text": [
      "0.001\n",
      "Train Accuracy = 0.552863\n",
      "Test Accuracy = 0.502564\n",
      "0.501\n",
      "Train Accuracy = 0.733480\n",
      "Test Accuracy = 0.507692\n",
      "1.001\n",
      "Train Accuracy = 0.837004\n",
      "Test Accuracy = 0.523077\n",
      "1.501\n",
      "Train Accuracy = 0.848018\n",
      "Test Accuracy = 0.528205\n",
      "2.001\n",
      "Train Accuracy = 0.870044\n",
      "Test Accuracy = 0.507692\n",
      "2.501\n",
      "Train Accuracy = 0.883260\n",
      "Test Accuracy = 0.528205\n",
      "3.001\n",
      "Train Accuracy = 0.885463\n",
      "Test Accuracy = 0.523077\n",
      "3.501\n",
      "Train Accuracy = 0.892070\n",
      "Test Accuracy = 0.523077\n",
      "4.001\n",
      "Train Accuracy = 0.898678\n",
      "Test Accuracy = 0.538462\n",
      "4.501\n",
      "Train Accuracy = 0.907489\n",
      "Test Accuracy = 0.543590\n"
     ]
    },
    {
     "name": "stderr",
     "output_type": "stream",
     "text": [
      "/usr/local/lib/python3.7/site-packages/sklearn/svm/base.py:196: FutureWarning: The default value of gamma will change from 'auto' to 'scale' in version 0.22 to account better for unscaled features. Set gamma explicitly to 'auto' or 'scale' to avoid this warning.\n",
      "  \"avoid this warning.\", FutureWarning)\n",
      "/usr/local/lib/python3.7/site-packages/sklearn/svm/base.py:196: FutureWarning: The default value of gamma will change from 'auto' to 'scale' in version 0.22 to account better for unscaled features. Set gamma explicitly to 'auto' or 'scale' to avoid this warning.\n",
      "  \"avoid this warning.\", FutureWarning)\n",
      "/usr/local/lib/python3.7/site-packages/sklearn/svm/base.py:196: FutureWarning: The default value of gamma will change from 'auto' to 'scale' in version 0.22 to account better for unscaled features. Set gamma explicitly to 'auto' or 'scale' to avoid this warning.\n",
      "  \"avoid this warning.\", FutureWarning)\n",
      "/usr/local/lib/python3.7/site-packages/sklearn/svm/base.py:196: FutureWarning: The default value of gamma will change from 'auto' to 'scale' in version 0.22 to account better for unscaled features. Set gamma explicitly to 'auto' or 'scale' to avoid this warning.\n",
      "  \"avoid this warning.\", FutureWarning)\n",
      "/usr/local/lib/python3.7/site-packages/sklearn/svm/base.py:196: FutureWarning: The default value of gamma will change from 'auto' to 'scale' in version 0.22 to account better for unscaled features. Set gamma explicitly to 'auto' or 'scale' to avoid this warning.\n",
      "  \"avoid this warning.\", FutureWarning)\n",
      "/usr/local/lib/python3.7/site-packages/sklearn/svm/base.py:196: FutureWarning: The default value of gamma will change from 'auto' to 'scale' in version 0.22 to account better for unscaled features. Set gamma explicitly to 'auto' or 'scale' to avoid this warning.\n",
      "  \"avoid this warning.\", FutureWarning)\n",
      "/usr/local/lib/python3.7/site-packages/sklearn/svm/base.py:196: FutureWarning: The default value of gamma will change from 'auto' to 'scale' in version 0.22 to account better for unscaled features. Set gamma explicitly to 'auto' or 'scale' to avoid this warning.\n",
      "  \"avoid this warning.\", FutureWarning)\n",
      "/usr/local/lib/python3.7/site-packages/sklearn/svm/base.py:196: FutureWarning: The default value of gamma will change from 'auto' to 'scale' in version 0.22 to account better for unscaled features. Set gamma explicitly to 'auto' or 'scale' to avoid this warning.\n",
      "  \"avoid this warning.\", FutureWarning)\n",
      "/usr/local/lib/python3.7/site-packages/sklearn/svm/base.py:196: FutureWarning: The default value of gamma will change from 'auto' to 'scale' in version 0.22 to account better for unscaled features. Set gamma explicitly to 'auto' or 'scale' to avoid this warning.\n",
      "  \"avoid this warning.\", FutureWarning)\n",
      "/usr/local/lib/python3.7/site-packages/sklearn/svm/base.py:196: FutureWarning: The default value of gamma will change from 'auto' to 'scale' in version 0.22 to account better for unscaled features. Set gamma explicitly to 'auto' or 'scale' to avoid this warning.\n",
      "  \"avoid this warning.\", FutureWarning)\n"
     ]
    },
    {
     "data": {
      "image/png": "[encoded data removed]",
      "text/plain": [
       "<Figure size 432x288 with 1 Axes>"
      ]
     },
     "metadata": {
      "needs_background": "light"
     },
     "output_type": "display_data"
    }
   ],
   "source": [
    "SVM_rbf(X_different_three_news_extra,Y_different_three_news_extra)"
   ]
  },
  {
   "cell_type": "code",
   "execution_count": 132,
   "metadata": {},
   "outputs": [
    {
     "name": "stdout",
     "output_type": "stream",
     "text": [
      "0.001\n",
      "Train Accuracy = 0.559471\n",
      "Test Accuracy = 0.487179\n",
      "0.501\n",
      "Train Accuracy = 0.682819\n",
      "Test Accuracy = 0.620513\n",
      "1.001\n",
      "Train Accuracy = 0.693833\n",
      "Test Accuracy = 0.625641\n",
      "1.501\n",
      "Train Accuracy = 0.707048\n",
      "Test Accuracy = 0.615385\n",
      "2.001\n",
      "Train Accuracy = 0.713656\n",
      "Test Accuracy = 0.600000\n",
      "2.501\n",
      "Train Accuracy = 0.720264\n",
      "Test Accuracy = 0.594872\n",
      "3.001\n",
      "Train Accuracy = 0.731278\n",
      "Test Accuracy = 0.600000\n",
      "3.501\n",
      "Train Accuracy = 0.740088\n",
      "Test Accuracy = 0.589744\n",
      "4.001\n",
      "Train Accuracy = 0.742291\n",
      "Test Accuracy = 0.579487\n",
      "4.501\n",
      "Train Accuracy = 0.744493\n",
      "Test Accuracy = 0.589744\n"
     ]
    },
    {
     "name": "stderr",
     "output_type": "stream",
     "text": [
      "/usr/local/lib/python3.7/site-packages/sklearn/svm/base.py:196: FutureWarning: The default value of gamma will change from 'auto' to 'scale' in version 0.22 to account better for unscaled features. Set gamma explicitly to 'auto' or 'scale' to avoid this warning.\n",
      "  \"avoid this warning.\", FutureWarning)\n",
      "/usr/local/lib/python3.7/site-packages/sklearn/svm/base.py:196: FutureWarning: The default value of gamma will change from 'auto' to 'scale' in version 0.22 to account better for unscaled features. Set gamma explicitly to 'auto' or 'scale' to avoid this warning.\n",
      "  \"avoid this warning.\", FutureWarning)\n",
      "/usr/local/lib/python3.7/site-packages/sklearn/svm/base.py:196: FutureWarning: The default value of gamma will change from 'auto' to 'scale' in version 0.22 to account better for unscaled features. Set gamma explicitly to 'auto' or 'scale' to avoid this warning.\n",
      "  \"avoid this warning.\", FutureWarning)\n",
      "/usr/local/lib/python3.7/site-packages/sklearn/svm/base.py:196: FutureWarning: The default value of gamma will change from 'auto' to 'scale' in version 0.22 to account better for unscaled features. Set gamma explicitly to 'auto' or 'scale' to avoid this warning.\n",
      "  \"avoid this warning.\", FutureWarning)\n",
      "/usr/local/lib/python3.7/site-packages/sklearn/svm/base.py:196: FutureWarning: The default value of gamma will change from 'auto' to 'scale' in version 0.22 to account better for unscaled features. Set gamma explicitly to 'auto' or 'scale' to avoid this warning.\n",
      "  \"avoid this warning.\", FutureWarning)\n",
      "/usr/local/lib/python3.7/site-packages/sklearn/svm/base.py:196: FutureWarning: The default value of gamma will change from 'auto' to 'scale' in version 0.22 to account better for unscaled features. Set gamma explicitly to 'auto' or 'scale' to avoid this warning.\n",
      "  \"avoid this warning.\", FutureWarning)\n",
      "/usr/local/lib/python3.7/site-packages/sklearn/svm/base.py:196: FutureWarning: The default value of gamma will change from 'auto' to 'scale' in version 0.22 to account better for unscaled features. Set gamma explicitly to 'auto' or 'scale' to avoid this warning.\n",
      "  \"avoid this warning.\", FutureWarning)\n",
      "/usr/local/lib/python3.7/site-packages/sklearn/svm/base.py:196: FutureWarning: The default value of gamma will change from 'auto' to 'scale' in version 0.22 to account better for unscaled features. Set gamma explicitly to 'auto' or 'scale' to avoid this warning.\n",
      "  \"avoid this warning.\", FutureWarning)\n",
      "/usr/local/lib/python3.7/site-packages/sklearn/svm/base.py:196: FutureWarning: The default value of gamma will change from 'auto' to 'scale' in version 0.22 to account better for unscaled features. Set gamma explicitly to 'auto' or 'scale' to avoid this warning.\n",
      "  \"avoid this warning.\", FutureWarning)\n",
      "/usr/local/lib/python3.7/site-packages/sklearn/svm/base.py:196: FutureWarning: The default value of gamma will change from 'auto' to 'scale' in version 0.22 to account better for unscaled features. Set gamma explicitly to 'auto' or 'scale' to avoid this warning.\n",
      "  \"avoid this warning.\", FutureWarning)\n"
     ]
    },
    {
     "data": {
      "image/png": "[encoded data removed]",
      "text/plain": [
       "<Figure size 432x288 with 1 Axes>"
      ]
     },
     "metadata": {
      "needs_background": "light"
     },
     "output_type": "display_data"
    }
   ],
   "source": [
    "acc_train_svm_rbf = []\n",
    "acc_test_svm_rbf = []\n",
    "c_svm_rbf = []\n",
    "X_different_three_news_extra_pca = pca(X_different_three_news_extra, 5)\n",
    "SVM_rbf(X_different_three_news_extra_pca,Y_different_three_news_extra)"
   ]
  },
  {
   "cell_type": "code",
   "execution_count": 133,
   "metadata": {},
   "outputs": [
    {
     "name": "stdout",
     "output_type": "stream",
     "text": [
      "0.001\n",
      "Train Accuracy = 0.545652\n",
      "Test Accuracy = 0.520202\n",
      "0.501\n",
      "Train Accuracy = 0.693478\n",
      "Test Accuracy = 0.550505\n",
      "1.001\n",
      "Train Accuracy = 0.702174\n",
      "Test Accuracy = 0.575758\n",
      "1.501\n",
      "Train Accuracy = 0.702174\n",
      "Test Accuracy = 0.555556\n",
      "2.001\n",
      "Train Accuracy = 0.719565\n",
      "Test Accuracy = 0.555556\n",
      "2.501\n",
      "Train Accuracy = 0.730435\n",
      "Test Accuracy = 0.560606\n",
      "3.001\n"
     ]
    },
    {
     "name": "stderr",
     "output_type": "stream",
     "text": [
      "/usr/local/lib/python3.7/site-packages/sklearn/svm/base.py:196: FutureWarning: The default value of gamma will change from 'auto' to 'scale' in version 0.22 to account better for unscaled features. Set gamma explicitly to 'auto' or 'scale' to avoid this warning.\n",
      "  \"avoid this warning.\", FutureWarning)\n",
      "/usr/local/lib/python3.7/site-packages/sklearn/svm/base.py:196: FutureWarning: The default value of gamma will change from 'auto' to 'scale' in version 0.22 to account better for unscaled features. Set gamma explicitly to 'auto' or 'scale' to avoid this warning.\n",
      "  \"avoid this warning.\", FutureWarning)\n",
      "/usr/local/lib/python3.7/site-packages/sklearn/svm/base.py:196: FutureWarning: The default value of gamma will change from 'auto' to 'scale' in version 0.22 to account better for unscaled features. Set gamma explicitly to 'auto' or 'scale' to avoid this warning.\n",
      "  \"avoid this warning.\", FutureWarning)\n",
      "/usr/local/lib/python3.7/site-packages/sklearn/svm/base.py:196: FutureWarning: The default value of gamma will change from 'auto' to 'scale' in version 0.22 to account better for unscaled features. Set gamma explicitly to 'auto' or 'scale' to avoid this warning.\n",
      "  \"avoid this warning.\", FutureWarning)\n",
      "/usr/local/lib/python3.7/site-packages/sklearn/svm/base.py:196: FutureWarning: The default value of gamma will change from 'auto' to 'scale' in version 0.22 to account better for unscaled features. Set gamma explicitly to 'auto' or 'scale' to avoid this warning.\n",
      "  \"avoid this warning.\", FutureWarning)\n",
      "/usr/local/lib/python3.7/site-packages/sklearn/svm/base.py:196: FutureWarning: The default value of gamma will change from 'auto' to 'scale' in version 0.22 to account better for unscaled features. Set gamma explicitly to 'auto' or 'scale' to avoid this warning.\n",
      "  \"avoid this warning.\", FutureWarning)\n",
      "/usr/local/lib/python3.7/site-packages/sklearn/svm/base.py:196: FutureWarning: The default value of gamma will change from 'auto' to 'scale' in version 0.22 to account better for unscaled features. Set gamma explicitly to 'auto' or 'scale' to avoid this warning.\n",
      "  \"avoid this warning.\", FutureWarning)\n"
     ]
    },
    {
     "name": "stdout",
     "output_type": "stream",
     "text": [
      "Train Accuracy = 0.732609\n",
      "Test Accuracy = 0.555556\n",
      "3.501\n",
      "Train Accuracy = 0.739130\n",
      "Test Accuracy = 0.560606\n",
      "4.001\n",
      "Train Accuracy = 0.747826\n",
      "Test Accuracy = 0.560606\n",
      "4.501\n",
      "Train Accuracy = 0.750000\n",
      "Test Accuracy = 0.565657\n"
     ]
    },
    {
     "name": "stderr",
     "output_type": "stream",
     "text": [
      "/usr/local/lib/python3.7/site-packages/sklearn/svm/base.py:196: FutureWarning: The default value of gamma will change from 'auto' to 'scale' in version 0.22 to account better for unscaled features. Set gamma explicitly to 'auto' or 'scale' to avoid this warning.\n",
      "  \"avoid this warning.\", FutureWarning)\n",
      "/usr/local/lib/python3.7/site-packages/sklearn/svm/base.py:196: FutureWarning: The default value of gamma will change from 'auto' to 'scale' in version 0.22 to account better for unscaled features. Set gamma explicitly to 'auto' or 'scale' to avoid this warning.\n",
      "  \"avoid this warning.\", FutureWarning)\n",
      "/usr/local/lib/python3.7/site-packages/sklearn/svm/base.py:196: FutureWarning: The default value of gamma will change from 'auto' to 'scale' in version 0.22 to account better for unscaled features. Set gamma explicitly to 'auto' or 'scale' to avoid this warning.\n",
      "  \"avoid this warning.\", FutureWarning)\n"
     ]
    },
    {
     "data": {
      "image/png": "[encoded data removed]",
      "text/plain": [
       "<Figure size 432x288 with 1 Axes>"
      ]
     },
     "metadata": {
      "needs_background": "light"
     },
     "output_type": "display_data"
    }
   ],
   "source": [
    "acc_train_svm_rbf = []\n",
    "acc_test_svm_rbf = []\n",
    "c_svm_rbf = []\n",
    "SVM_rbf(X_different_all_news_extra, Y_different_all_news_extra )"
   ]
  },
  {
   "cell_type": "code",
   "execution_count": 134,
   "metadata": {},
   "outputs": [
    {
     "name": "stdout",
     "output_type": "stream",
     "text": [
      "0.001\n",
      "Train Accuracy = 0.519565\n",
      "Test Accuracy = 0.580808\n",
      "0.501\n",
      "Train Accuracy = 0.697826\n",
      "Test Accuracy = 0.520202\n",
      "1.001\n",
      "Train Accuracy = 0.702174\n",
      "Test Accuracy = 0.530303\n",
      "1.501\n",
      "Train Accuracy = 0.723913\n",
      "Test Accuracy = 0.515152\n",
      "2.001\n",
      "Train Accuracy = 0.736957\n",
      "Test Accuracy = 0.530303\n",
      "2.501\n",
      "Train Accuracy = 0.745652\n",
      "Test Accuracy = 0.525253\n",
      "3.001\n"
     ]
    },
    {
     "name": "stderr",
     "output_type": "stream",
     "text": [
      "/usr/local/lib/python3.7/site-packages/sklearn/svm/base.py:196: FutureWarning: The default value of gamma will change from 'auto' to 'scale' in version 0.22 to account better for unscaled features. Set gamma explicitly to 'auto' or 'scale' to avoid this warning.\n",
      "  \"avoid this warning.\", FutureWarning)\n",
      "/usr/local/lib/python3.7/site-packages/sklearn/svm/base.py:196: FutureWarning: The default value of gamma will change from 'auto' to 'scale' in version 0.22 to account better for unscaled features. Set gamma explicitly to 'auto' or 'scale' to avoid this warning.\n",
      "  \"avoid this warning.\", FutureWarning)\n",
      "/usr/local/lib/python3.7/site-packages/sklearn/svm/base.py:196: FutureWarning: The default value of gamma will change from 'auto' to 'scale' in version 0.22 to account better for unscaled features. Set gamma explicitly to 'auto' or 'scale' to avoid this warning.\n",
      "  \"avoid this warning.\", FutureWarning)\n",
      "/usr/local/lib/python3.7/site-packages/sklearn/svm/base.py:196: FutureWarning: The default value of gamma will change from 'auto' to 'scale' in version 0.22 to account better for unscaled features. Set gamma explicitly to 'auto' or 'scale' to avoid this warning.\n",
      "  \"avoid this warning.\", FutureWarning)\n",
      "/usr/local/lib/python3.7/site-packages/sklearn/svm/base.py:196: FutureWarning: The default value of gamma will change from 'auto' to 'scale' in version 0.22 to account better for unscaled features. Set gamma explicitly to 'auto' or 'scale' to avoid this warning.\n",
      "  \"avoid this warning.\", FutureWarning)\n",
      "/usr/local/lib/python3.7/site-packages/sklearn/svm/base.py:196: FutureWarning: The default value of gamma will change from 'auto' to 'scale' in version 0.22 to account better for unscaled features. Set gamma explicitly to 'auto' or 'scale' to avoid this warning.\n",
      "  \"avoid this warning.\", FutureWarning)\n",
      "/usr/local/lib/python3.7/site-packages/sklearn/svm/base.py:196: FutureWarning: The default value of gamma will change from 'auto' to 'scale' in version 0.22 to account better for unscaled features. Set gamma explicitly to 'auto' or 'scale' to avoid this warning.\n",
      "  \"avoid this warning.\", FutureWarning)\n"
     ]
    },
    {
     "name": "stdout",
     "output_type": "stream",
     "text": [
      "Train Accuracy = 0.747826\n",
      "Test Accuracy = 0.520202\n",
      "3.501\n",
      "Train Accuracy = 0.750000\n",
      "Test Accuracy = 0.545455\n",
      "4.001\n",
      "Train Accuracy = 0.750000\n",
      "Test Accuracy = 0.540404\n",
      "4.501\n",
      "Train Accuracy = 0.763043\n",
      "Test Accuracy = 0.550505\n"
     ]
    },
    {
     "name": "stderr",
     "output_type": "stream",
     "text": [
      "/usr/local/lib/python3.7/site-packages/sklearn/svm/base.py:196: FutureWarning: The default value of gamma will change from 'auto' to 'scale' in version 0.22 to account better for unscaled features. Set gamma explicitly to 'auto' or 'scale' to avoid this warning.\n",
      "  \"avoid this warning.\", FutureWarning)\n",
      "/usr/local/lib/python3.7/site-packages/sklearn/svm/base.py:196: FutureWarning: The default value of gamma will change from 'auto' to 'scale' in version 0.22 to account better for unscaled features. Set gamma explicitly to 'auto' or 'scale' to avoid this warning.\n",
      "  \"avoid this warning.\", FutureWarning)\n",
      "/usr/local/lib/python3.7/site-packages/sklearn/svm/base.py:196: FutureWarning: The default value of gamma will change from 'auto' to 'scale' in version 0.22 to account better for unscaled features. Set gamma explicitly to 'auto' or 'scale' to avoid this warning.\n",
      "  \"avoid this warning.\", FutureWarning)\n"
     ]
    },
    {
     "data": {
      "image/png": "[encoded data removed]",
      "text/plain": [
       "<Figure size 432x288 with 1 Axes>"
      ]
     },
     "metadata": {
      "needs_background": "light"
     },
     "output_type": "display_data"
    }
   ],
   "source": [
    "acc_train_svm_rbf = []\n",
    "acc_test_svm_rbf = []\n",
    "c_svm_rbf = []\n",
    "X_different_all_news_extra_pca = pca(X_different_all_news_extra, 5)\n",
    "SVM_rbf(X_different_all_news_extra, Y_different_all_news_extra )"
   ]
  },
  {
   "cell_type": "code",
   "execution_count": 135,
   "metadata": {},
   "outputs": [],
   "source": [
    "acc_train_svm_poly = []\n",
    "acc_test_svm_poly = []\n",
    "c_svm_poly = []"
   ]
  },
  {
   "cell_type": "code",
   "execution_count": 136,
   "metadata": {},
   "outputs": [],
   "source": [
    "def svm_poly(X_train, X_test, Y_train, Y_test,c):\n",
    "    svc_linear = svm.SVC(probability = False, kernel = \"poly\", C = c)\n",
    "    \n",
    "    svc_linear.fit(X_train,Y_train)\n",
    "    Yhat_svc_linear_train = svc_linear.predict(X_train)\n",
    "    acc_train = np.mean(Yhat_svc_linear_train == Y_train)\n",
    "    \n",
    "    acc_train_svm_poly.append(acc_train)\n",
    "    print('Train Accuracy = {0:f}'.format(acc_train))\n",
    "    \n",
    "    Yhat_svc_linear_test = svc_linear.predict(X_test)\n",
    "    acc_test = np.mean(Yhat_svc_linear_test == Y_test)\n",
    "    \n",
    "    acc_test_svm_poly.append(acc_test)\n",
    "    print('Test Accuracy = {0:f}'.format(acc_test))\n",
    "    \n",
    "    c_svm_poly.append(c)"
   ]
  },
  {
   "cell_type": "code",
   "execution_count": null,
   "metadata": {},
   "outputs": [],
   "source": []
  },
  {
   "cell_type": "code",
   "execution_count": 137,
   "metadata": {},
   "outputs": [],
   "source": [
    "def SVM_poly(X, Y):\n",
    "    X_train, X_test, Y_train, Y_test = train_test_split(X, Y, test_size=0.3)\n",
    "    \n",
    "    cVals = list(np.arange(0.001,5,0.5))\n",
    "\n",
    "    for c in cVals:\n",
    "        print(c)\n",
    "        svm_poly(X_train, X_test, Y_train, Y_test ,c)\n",
    "    plot_svm(c_svm_poly,acc_train_svm_poly,acc_test_svm_poly)"
   ]
  },
  {
   "cell_type": "code",
   "execution_count": 41,
   "metadata": {},
   "outputs": [
    {
     "name": "stdout",
     "output_type": "stream",
     "text": [
      "0.001\n",
      "Train Accuracy = 0.533040\n",
      "Test Accuracy = 0.548718\n",
      "0.501\n",
      "Train Accuracy = 0.788546\n",
      "Test Accuracy = 0.487179\n",
      "1.001\n",
      "Train Accuracy = 0.828194\n",
      "Test Accuracy = 0.502564\n",
      "1.501\n",
      "Train Accuracy = 0.848018\n",
      "Test Accuracy = 0.512821\n",
      "2.001\n",
      "Train Accuracy = 0.861233\n",
      "Test Accuracy = 0.512821\n",
      "2.501\n",
      "Train Accuracy = 0.881057\n",
      "Test Accuracy = 0.517949\n",
      "3.001\n",
      "Train Accuracy = 0.887665\n",
      "Test Accuracy = 0.507692\n",
      "3.501\n",
      "Train Accuracy = 0.892070\n",
      "Test Accuracy = 0.502564\n",
      "4.001\n",
      "Train Accuracy = 0.905286\n",
      "Test Accuracy = 0.497436\n",
      "4.501\n",
      "Train Accuracy = 0.918502\n",
      "Test Accuracy = 0.497436\n"
     ]
    },
    {
     "name": "stderr",
     "output_type": "stream",
     "text": [
      "/Library/Frameworks/Python.framework/Versions/3.7/lib/python3.7/site-packages/sklearn/svm/base.py:196: FutureWarning: The default value of gamma will change from 'auto' to 'scale' in version 0.22 to account better for unscaled features. Set gamma explicitly to 'auto' or 'scale' to avoid this warning.\n",
      "  \"avoid this warning.\", FutureWarning)\n",
      "/Library/Frameworks/Python.framework/Versions/3.7/lib/python3.7/site-packages/sklearn/svm/base.py:196: FutureWarning: The default value of gamma will change from 'auto' to 'scale' in version 0.22 to account better for unscaled features. Set gamma explicitly to 'auto' or 'scale' to avoid this warning.\n",
      "  \"avoid this warning.\", FutureWarning)\n",
      "/Library/Frameworks/Python.framework/Versions/3.7/lib/python3.7/site-packages/sklearn/svm/base.py:196: FutureWarning: The default value of gamma will change from 'auto' to 'scale' in version 0.22 to account better for unscaled features. Set gamma explicitly to 'auto' or 'scale' to avoid this warning.\n",
      "  \"avoid this warning.\", FutureWarning)\n",
      "/Library/Frameworks/Python.framework/Versions/3.7/lib/python3.7/site-packages/sklearn/svm/base.py:196: FutureWarning: The default value of gamma will change from 'auto' to 'scale' in version 0.22 to account better for unscaled features. Set gamma explicitly to 'auto' or 'scale' to avoid this warning.\n",
      "  \"avoid this warning.\", FutureWarning)\n",
      "/Library/Frameworks/Python.framework/Versions/3.7/lib/python3.7/site-packages/sklearn/svm/base.py:196: FutureWarning: The default value of gamma will change from 'auto' to 'scale' in version 0.22 to account better for unscaled features. Set gamma explicitly to 'auto' or 'scale' to avoid this warning.\n",
      "  \"avoid this warning.\", FutureWarning)\n",
      "/Library/Frameworks/Python.framework/Versions/3.7/lib/python3.7/site-packages/sklearn/svm/base.py:196: FutureWarning: The default value of gamma will change from 'auto' to 'scale' in version 0.22 to account better for unscaled features. Set gamma explicitly to 'auto' or 'scale' to avoid this warning.\n",
      "  \"avoid this warning.\", FutureWarning)\n",
      "/Library/Frameworks/Python.framework/Versions/3.7/lib/python3.7/site-packages/sklearn/svm/base.py:196: FutureWarning: The default value of gamma will change from 'auto' to 'scale' in version 0.22 to account better for unscaled features. Set gamma explicitly to 'auto' or 'scale' to avoid this warning.\n",
      "  \"avoid this warning.\", FutureWarning)\n",
      "/Library/Frameworks/Python.framework/Versions/3.7/lib/python3.7/site-packages/sklearn/svm/base.py:196: FutureWarning: The default value of gamma will change from 'auto' to 'scale' in version 0.22 to account better for unscaled features. Set gamma explicitly to 'auto' or 'scale' to avoid this warning.\n",
      "  \"avoid this warning.\", FutureWarning)\n",
      "/Library/Frameworks/Python.framework/Versions/3.7/lib/python3.7/site-packages/sklearn/svm/base.py:196: FutureWarning: The default value of gamma will change from 'auto' to 'scale' in version 0.22 to account better for unscaled features. Set gamma explicitly to 'auto' or 'scale' to avoid this warning.\n",
      "  \"avoid this warning.\", FutureWarning)\n",
      "/Library/Frameworks/Python.framework/Versions/3.7/lib/python3.7/site-packages/sklearn/svm/base.py:196: FutureWarning: The default value of gamma will change from 'auto' to 'scale' in version 0.22 to account better for unscaled features. Set gamma explicitly to 'auto' or 'scale' to avoid this warning.\n",
      "  \"avoid this warning.\", FutureWarning)\n"
     ]
    },
    {
     "data": {
      "image/png": "[encoded data removed]",
      "text/plain": [
       "<Figure size 432x288 with 1 Axes>"
      ]
     },
     "metadata": {
      "needs_background": "light"
     },
     "output_type": "display_data"
    }
   ],
   "source": [
    "SVM_poly(X_different_three_news_extra,Y_different_three_news_extra)"
   ]
  },
  {
   "cell_type": "code",
   "execution_count": 138,
   "metadata": {},
   "outputs": [
    {
     "name": "stdout",
     "output_type": "stream",
     "text": [
      "0.001\n",
      "Train Accuracy = 0.583700\n",
      "Test Accuracy = 0.528205\n",
      "0.501\n",
      "Train Accuracy = 0.651982\n",
      "Test Accuracy = 0.569231\n",
      "1.001\n",
      "Train Accuracy = 0.649780\n",
      "Test Accuracy = 0.569231\n",
      "1.501\n",
      "Train Accuracy = 0.649780\n",
      "Test Accuracy = 0.569231\n",
      "2.001\n",
      "Train Accuracy = 0.649780\n",
      "Test Accuracy = 0.569231\n",
      "2.501\n",
      "Train Accuracy = 0.649780\n",
      "Test Accuracy = 0.569231\n",
      "3.001\n"
     ]
    },
    {
     "name": "stderr",
     "output_type": "stream",
     "text": [
      "/usr/local/lib/python3.7/site-packages/sklearn/svm/base.py:196: FutureWarning: The default value of gamma will change from 'auto' to 'scale' in version 0.22 to account better for unscaled features. Set gamma explicitly to 'auto' or 'scale' to avoid this warning.\n",
      "  \"avoid this warning.\", FutureWarning)\n",
      "/usr/local/lib/python3.7/site-packages/sklearn/svm/base.py:196: FutureWarning: The default value of gamma will change from 'auto' to 'scale' in version 0.22 to account better for unscaled features. Set gamma explicitly to 'auto' or 'scale' to avoid this warning.\n",
      "  \"avoid this warning.\", FutureWarning)\n",
      "/usr/local/lib/python3.7/site-packages/sklearn/svm/base.py:196: FutureWarning: The default value of gamma will change from 'auto' to 'scale' in version 0.22 to account better for unscaled features. Set gamma explicitly to 'auto' or 'scale' to avoid this warning.\n",
      "  \"avoid this warning.\", FutureWarning)\n",
      "/usr/local/lib/python3.7/site-packages/sklearn/svm/base.py:196: FutureWarning: The default value of gamma will change from 'auto' to 'scale' in version 0.22 to account better for unscaled features. Set gamma explicitly to 'auto' or 'scale' to avoid this warning.\n",
      "  \"avoid this warning.\", FutureWarning)\n",
      "/usr/local/lib/python3.7/site-packages/sklearn/svm/base.py:196: FutureWarning: The default value of gamma will change from 'auto' to 'scale' in version 0.22 to account better for unscaled features. Set gamma explicitly to 'auto' or 'scale' to avoid this warning.\n",
      "  \"avoid this warning.\", FutureWarning)\n",
      "/usr/local/lib/python3.7/site-packages/sklearn/svm/base.py:196: FutureWarning: The default value of gamma will change from 'auto' to 'scale' in version 0.22 to account better for unscaled features. Set gamma explicitly to 'auto' or 'scale' to avoid this warning.\n",
      "  \"avoid this warning.\", FutureWarning)\n",
      "/usr/local/lib/python3.7/site-packages/sklearn/svm/base.py:196: FutureWarning: The default value of gamma will change from 'auto' to 'scale' in version 0.22 to account better for unscaled features. Set gamma explicitly to 'auto' or 'scale' to avoid this warning.\n",
      "  \"avoid this warning.\", FutureWarning)\n"
     ]
    },
    {
     "name": "stdout",
     "output_type": "stream",
     "text": [
      "Train Accuracy = 0.649780\n",
      "Test Accuracy = 0.569231\n",
      "3.501\n",
      "Train Accuracy = 0.649780\n",
      "Test Accuracy = 0.569231\n",
      "4.001\n",
      "Train Accuracy = 0.649780\n",
      "Test Accuracy = 0.569231\n",
      "4.501\n",
      "Train Accuracy = 0.649780\n",
      "Test Accuracy = 0.569231\n"
     ]
    },
    {
     "name": "stderr",
     "output_type": "stream",
     "text": [
      "/usr/local/lib/python3.7/site-packages/sklearn/svm/base.py:196: FutureWarning: The default value of gamma will change from 'auto' to 'scale' in version 0.22 to account better for unscaled features. Set gamma explicitly to 'auto' or 'scale' to avoid this warning.\n",
      "  \"avoid this warning.\", FutureWarning)\n",
      "/usr/local/lib/python3.7/site-packages/sklearn/svm/base.py:196: FutureWarning: The default value of gamma will change from 'auto' to 'scale' in version 0.22 to account better for unscaled features. Set gamma explicitly to 'auto' or 'scale' to avoid this warning.\n",
      "  \"avoid this warning.\", FutureWarning)\n",
      "/usr/local/lib/python3.7/site-packages/sklearn/svm/base.py:196: FutureWarning: The default value of gamma will change from 'auto' to 'scale' in version 0.22 to account better for unscaled features. Set gamma explicitly to 'auto' or 'scale' to avoid this warning.\n",
      "  \"avoid this warning.\", FutureWarning)\n"
     ]
    },
    {
     "data": {
      "image/png": "[encoded data removed]",
      "text/plain": [
       "<Figure size 432x288 with 1 Axes>"
      ]
     },
     "metadata": {
      "needs_background": "light"
     },
     "output_type": "display_data"
    }
   ],
   "source": [
    "acc_train_svm_poly = []\n",
    "acc_test_svm_poly = []\n",
    "c_svm_poly = []\n",
    "X_different_three_news_extra_pca = pca(X_different_three_news_extra,3)\n",
    "SVM_poly(X_different_three_news_extra_pca, Y_different_three_news_extra)"
   ]
  },
  {
   "cell_type": "code",
   "execution_count": 139,
   "metadata": {},
   "outputs": [
    {
     "name": "stdout",
     "output_type": "stream",
     "text": [
      "0.001\n"
     ]
    },
    {
     "name": "stderr",
     "output_type": "stream",
     "text": [
      "/usr/local/lib/python3.7/site-packages/sklearn/svm/base.py:196: FutureWarning: The default value of gamma will change from 'auto' to 'scale' in version 0.22 to account better for unscaled features. Set gamma explicitly to 'auto' or 'scale' to avoid this warning.\n",
      "  \"avoid this warning.\", FutureWarning)\n"
     ]
    },
    {
     "ename": "KeyboardInterrupt",
     "evalue": "",
     "output_type": "error",
     "traceback": [
      "\u001b[0;31m---------------------------------------------------------------------------\u001b[0m",
      "\u001b[0;31mKeyboardInterrupt\u001b[0m                         Traceback (most recent call last)",
      "\u001b[0;32m<ipython-input-139-01eeee2a20b0>\u001b[0m in \u001b[0;36m<module>\u001b[0;34m\u001b[0m\n\u001b[1;32m      2\u001b[0m \u001b[0macc_test_svm_poly\u001b[0m \u001b[0;34m=\u001b[0m \u001b[0;34m[\u001b[0m\u001b[0;34m]\u001b[0m\u001b[0;34m\u001b[0m\u001b[0;34m\u001b[0m\u001b[0m\n\u001b[1;32m      3\u001b[0m \u001b[0mc_svm_poly\u001b[0m \u001b[0;34m=\u001b[0m \u001b[0;34m[\u001b[0m\u001b[0;34m]\u001b[0m\u001b[0;34m\u001b[0m\u001b[0;34m\u001b[0m\u001b[0m\n\u001b[0;32m----> 4\u001b[0;31m \u001b[0mSVM_poly\u001b[0m\u001b[0;34m(\u001b[0m\u001b[0mX_different_all_news_extra\u001b[0m\u001b[0;34m,\u001b[0m \u001b[0mY_different_all_news_extra\u001b[0m \u001b[0;34m)\u001b[0m\u001b[0;34m\u001b[0m\u001b[0;34m\u001b[0m\u001b[0m\n\u001b[0m",
      "\u001b[0;32m<ipython-input-137-8a78d9bbd3dd>\u001b[0m in \u001b[0;36mSVM_poly\u001b[0;34m(X, Y)\u001b[0m\n\u001b[1;32m      6\u001b[0m     \u001b[0;32mfor\u001b[0m \u001b[0mc\u001b[0m \u001b[0;32min\u001b[0m \u001b[0mcVals\u001b[0m\u001b[0;34m:\u001b[0m\u001b[0;34m\u001b[0m\u001b[0;34m\u001b[0m\u001b[0m\n\u001b[1;32m      7\u001b[0m         \u001b[0mprint\u001b[0m\u001b[0;34m(\u001b[0m\u001b[0mc\u001b[0m\u001b[0;34m)\u001b[0m\u001b[0;34m\u001b[0m\u001b[0;34m\u001b[0m\u001b[0m\n\u001b[0;32m----> 8\u001b[0;31m         \u001b[0msvm_poly\u001b[0m\u001b[0;34m(\u001b[0m\u001b[0mX_train\u001b[0m\u001b[0;34m,\u001b[0m \u001b[0mX_test\u001b[0m\u001b[0;34m,\u001b[0m \u001b[0mY_train\u001b[0m\u001b[0;34m,\u001b[0m \u001b[0mY_test\u001b[0m \u001b[0;34m,\u001b[0m\u001b[0mc\u001b[0m\u001b[0;34m)\u001b[0m\u001b[0;34m\u001b[0m\u001b[0;34m\u001b[0m\u001b[0m\n\u001b[0m\u001b[1;32m      9\u001b[0m     \u001b[0mplot_svm\u001b[0m\u001b[0;34m(\u001b[0m\u001b[0mc_svm_poly\u001b[0m\u001b[0;34m,\u001b[0m\u001b[0macc_train_svm_poly\u001b[0m\u001b[0;34m,\u001b[0m\u001b[0macc_test_svm_poly\u001b[0m\u001b[0;34m)\u001b[0m\u001b[0;34m\u001b[0m\u001b[0;34m\u001b[0m\u001b[0m\n",
      "\u001b[0;32m<ipython-input-136-20108ad068c3>\u001b[0m in \u001b[0;36msvm_poly\u001b[0;34m(X_train, X_test, Y_train, Y_test, c)\u001b[0m\n\u001b[1;32m      2\u001b[0m     \u001b[0msvc_linear\u001b[0m \u001b[0;34m=\u001b[0m \u001b[0msvm\u001b[0m\u001b[0;34m.\u001b[0m\u001b[0mSVC\u001b[0m\u001b[0;34m(\u001b[0m\u001b[0mprobability\u001b[0m \u001b[0;34m=\u001b[0m \u001b[0;32mFalse\u001b[0m\u001b[0;34m,\u001b[0m \u001b[0mkernel\u001b[0m \u001b[0;34m=\u001b[0m \u001b[0;34m\"poly\"\u001b[0m\u001b[0;34m,\u001b[0m \u001b[0mC\u001b[0m \u001b[0;34m=\u001b[0m \u001b[0mc\u001b[0m\u001b[0;34m)\u001b[0m\u001b[0;34m\u001b[0m\u001b[0;34m\u001b[0m\u001b[0m\n\u001b[1;32m      3\u001b[0m \u001b[0;34m\u001b[0m\u001b[0m\n\u001b[0;32m----> 4\u001b[0;31m     \u001b[0msvc_linear\u001b[0m\u001b[0;34m.\u001b[0m\u001b[0mfit\u001b[0m\u001b[0;34m(\u001b[0m\u001b[0mX_train\u001b[0m\u001b[0;34m,\u001b[0m\u001b[0mY_train\u001b[0m\u001b[0;34m)\u001b[0m\u001b[0;34m\u001b[0m\u001b[0;34m\u001b[0m\u001b[0m\n\u001b[0m\u001b[1;32m      5\u001b[0m     \u001b[0mYhat_svc_linear_train\u001b[0m \u001b[0;34m=\u001b[0m \u001b[0msvc_linear\u001b[0m\u001b[0;34m.\u001b[0m\u001b[0mpredict\u001b[0m\u001b[0;34m(\u001b[0m\u001b[0mX_train\u001b[0m\u001b[0;34m)\u001b[0m\u001b[0;34m\u001b[0m\u001b[0;34m\u001b[0m\u001b[0m\n\u001b[1;32m      6\u001b[0m     \u001b[0macc_train\u001b[0m \u001b[0;34m=\u001b[0m \u001b[0mnp\u001b[0m\u001b[0;34m.\u001b[0m\u001b[0mmean\u001b[0m\u001b[0;34m(\u001b[0m\u001b[0mYhat_svc_linear_train\u001b[0m \u001b[0;34m==\u001b[0m \u001b[0mY_train\u001b[0m\u001b[0;34m)\u001b[0m\u001b[0;34m\u001b[0m\u001b[0;34m\u001b[0m\u001b[0m\n",
      "\u001b[0;32m/usr/local/lib/python3.7/site-packages/sklearn/svm/base.py\u001b[0m in \u001b[0;36mfit\u001b[0;34m(self, X, y, sample_weight)\u001b[0m\n\u001b[1;32m    210\u001b[0m \u001b[0;34m\u001b[0m\u001b[0m\n\u001b[1;32m    211\u001b[0m         \u001b[0mseed\u001b[0m \u001b[0;34m=\u001b[0m \u001b[0mrnd\u001b[0m\u001b[0;34m.\u001b[0m\u001b[0mrandint\u001b[0m\u001b[0;34m(\u001b[0m\u001b[0mnp\u001b[0m\u001b[0;34m.\u001b[0m\u001b[0miinfo\u001b[0m\u001b[0;34m(\u001b[0m\u001b[0;34m'i'\u001b[0m\u001b[0;34m)\u001b[0m\u001b[0;34m.\u001b[0m\u001b[0mmax\u001b[0m\u001b[0;34m)\u001b[0m\u001b[0;34m\u001b[0m\u001b[0;34m\u001b[0m\u001b[0m\n\u001b[0;32m--> 212\u001b[0;31m         \u001b[0mfit\u001b[0m\u001b[0;34m(\u001b[0m\u001b[0mX\u001b[0m\u001b[0;34m,\u001b[0m \u001b[0my\u001b[0m\u001b[0;34m,\u001b[0m \u001b[0msample_weight\u001b[0m\u001b[0;34m,\u001b[0m \u001b[0msolver_type\u001b[0m\u001b[0;34m,\u001b[0m \u001b[0mkernel\u001b[0m\u001b[0;34m,\u001b[0m \u001b[0mrandom_seed\u001b[0m\u001b[0;34m=\u001b[0m\u001b[0mseed\u001b[0m\u001b[0;34m)\u001b[0m\u001b[0;34m\u001b[0m\u001b[0;34m\u001b[0m\u001b[0m\n\u001b[0m\u001b[1;32m    213\u001b[0m         \u001b[0;31m# see comment on the other call to np.iinfo in this file\u001b[0m\u001b[0;34m\u001b[0m\u001b[0;34m\u001b[0m\u001b[0;34m\u001b[0m\u001b[0m\n\u001b[1;32m    214\u001b[0m \u001b[0;34m\u001b[0m\u001b[0m\n",
      "\u001b[0;32m/usr/local/lib/python3.7/site-packages/sklearn/svm/base.py\u001b[0m in \u001b[0;36m_dense_fit\u001b[0;34m(self, X, y, sample_weight, solver_type, kernel, random_seed)\u001b[0m\n\u001b[1;32m    269\u001b[0m                 \u001b[0mcache_size\u001b[0m\u001b[0;34m=\u001b[0m\u001b[0mself\u001b[0m\u001b[0;34m.\u001b[0m\u001b[0mcache_size\u001b[0m\u001b[0;34m,\u001b[0m \u001b[0mcoef0\u001b[0m\u001b[0;34m=\u001b[0m\u001b[0mself\u001b[0m\u001b[0;34m.\u001b[0m\u001b[0mcoef0\u001b[0m\u001b[0;34m,\u001b[0m\u001b[0;34m\u001b[0m\u001b[0;34m\u001b[0m\u001b[0m\n\u001b[1;32m    270\u001b[0m                 \u001b[0mgamma\u001b[0m\u001b[0;34m=\u001b[0m\u001b[0mself\u001b[0m\u001b[0;34m.\u001b[0m\u001b[0m_gamma\u001b[0m\u001b[0;34m,\u001b[0m \u001b[0mepsilon\u001b[0m\u001b[0;34m=\u001b[0m\u001b[0mself\u001b[0m\u001b[0;34m.\u001b[0m\u001b[0mepsilon\u001b[0m\u001b[0;34m,\u001b[0m\u001b[0;34m\u001b[0m\u001b[0;34m\u001b[0m\u001b[0m\n\u001b[0;32m--> 271\u001b[0;31m                 max_iter=self.max_iter, random_seed=random_seed)\n\u001b[0m\u001b[1;32m    272\u001b[0m \u001b[0;34m\u001b[0m\u001b[0m\n\u001b[1;32m    273\u001b[0m         \u001b[0mself\u001b[0m\u001b[0;34m.\u001b[0m\u001b[0m_warn_from_fit_status\u001b[0m\u001b[0;34m(\u001b[0m\u001b[0;34m)\u001b[0m\u001b[0;34m\u001b[0m\u001b[0;34m\u001b[0m\u001b[0m\n",
      "\u001b[0;31mKeyboardInterrupt\u001b[0m: "
     ]
    }
   ],
   "source": [
    "acc_train_svm_poly = []\n",
    "acc_test_svm_poly = []\n",
    "c_svm_poly = []\n",
    "SVM_poly(X_different_all_news_extra, Y_different_all_news_extra )"
   ]
  },
  {
   "cell_type": "code",
   "execution_count": 140,
   "metadata": {},
   "outputs": [
    {
     "name": "stdout",
     "output_type": "stream",
     "text": [
      "0.001\n",
      "Train Accuracy = 0.597826\n",
      "Test Accuracy = 0.520202\n",
      "0.501\n"
     ]
    },
    {
     "name": "stderr",
     "output_type": "stream",
     "text": [
      "/usr/local/lib/python3.7/site-packages/sklearn/svm/base.py:196: FutureWarning: The default value of gamma will change from 'auto' to 'scale' in version 0.22 to account better for unscaled features. Set gamma explicitly to 'auto' or 'scale' to avoid this warning.\n",
      "  \"avoid this warning.\", FutureWarning)\n",
      "/usr/local/lib/python3.7/site-packages/sklearn/svm/base.py:196: FutureWarning: The default value of gamma will change from 'auto' to 'scale' in version 0.22 to account better for unscaled features. Set gamma explicitly to 'auto' or 'scale' to avoid this warning.\n",
      "  \"avoid this warning.\", FutureWarning)\n"
     ]
    },
    {
     "name": "stdout",
     "output_type": "stream",
     "text": [
      "Train Accuracy = 0.610870\n",
      "Test Accuracy = 0.515152\n",
      "1.001\n"
     ]
    },
    {
     "name": "stderr",
     "output_type": "stream",
     "text": [
      "/usr/local/lib/python3.7/site-packages/sklearn/svm/base.py:196: FutureWarning: The default value of gamma will change from 'auto' to 'scale' in version 0.22 to account better for unscaled features. Set gamma explicitly to 'auto' or 'scale' to avoid this warning.\n",
      "  \"avoid this warning.\", FutureWarning)\n"
     ]
    },
    {
     "name": "stdout",
     "output_type": "stream",
     "text": [
      "Train Accuracy = 0.610870\n",
      "Test Accuracy = 0.515152\n",
      "1.501\n"
     ]
    },
    {
     "name": "stderr",
     "output_type": "stream",
     "text": [
      "/usr/local/lib/python3.7/site-packages/sklearn/svm/base.py:196: FutureWarning: The default value of gamma will change from 'auto' to 'scale' in version 0.22 to account better for unscaled features. Set gamma explicitly to 'auto' or 'scale' to avoid this warning.\n",
      "  \"avoid this warning.\", FutureWarning)\n"
     ]
    },
    {
     "name": "stdout",
     "output_type": "stream",
     "text": [
      "Train Accuracy = 0.610870\n",
      "Test Accuracy = 0.515152\n",
      "2.001\n"
     ]
    },
    {
     "name": "stderr",
     "output_type": "stream",
     "text": [
      "/usr/local/lib/python3.7/site-packages/sklearn/svm/base.py:196: FutureWarning: The default value of gamma will change from 'auto' to 'scale' in version 0.22 to account better for unscaled features. Set gamma explicitly to 'auto' or 'scale' to avoid this warning.\n",
      "  \"avoid this warning.\", FutureWarning)\n"
     ]
    },
    {
     "name": "stdout",
     "output_type": "stream",
     "text": [
      "Train Accuracy = 0.610870\n",
      "Test Accuracy = 0.515152\n",
      "2.501\n"
     ]
    },
    {
     "name": "stderr",
     "output_type": "stream",
     "text": [
      "/usr/local/lib/python3.7/site-packages/sklearn/svm/base.py:196: FutureWarning: The default value of gamma will change from 'auto' to 'scale' in version 0.22 to account better for unscaled features. Set gamma explicitly to 'auto' or 'scale' to avoid this warning.\n",
      "  \"avoid this warning.\", FutureWarning)\n"
     ]
    },
    {
     "name": "stdout",
     "output_type": "stream",
     "text": [
      "Train Accuracy = 0.610870\n",
      "Test Accuracy = 0.515152\n",
      "3.001\n"
     ]
    },
    {
     "name": "stderr",
     "output_type": "stream",
     "text": [
      "/usr/local/lib/python3.7/site-packages/sklearn/svm/base.py:196: FutureWarning: The default value of gamma will change from 'auto' to 'scale' in version 0.22 to account better for unscaled features. Set gamma explicitly to 'auto' or 'scale' to avoid this warning.\n",
      "  \"avoid this warning.\", FutureWarning)\n"
     ]
    },
    {
     "name": "stdout",
     "output_type": "stream",
     "text": [
      "Train Accuracy = 0.610870\n",
      "Test Accuracy = 0.515152\n",
      "3.501\n"
     ]
    },
    {
     "name": "stderr",
     "output_type": "stream",
     "text": [
      "/usr/local/lib/python3.7/site-packages/sklearn/svm/base.py:196: FutureWarning: The default value of gamma will change from 'auto' to 'scale' in version 0.22 to account better for unscaled features. Set gamma explicitly to 'auto' or 'scale' to avoid this warning.\n",
      "  \"avoid this warning.\", FutureWarning)\n"
     ]
    },
    {
     "name": "stdout",
     "output_type": "stream",
     "text": [
      "Train Accuracy = 0.610870\n",
      "Test Accuracy = 0.515152\n",
      "4.001\n"
     ]
    },
    {
     "name": "stderr",
     "output_type": "stream",
     "text": [
      "/usr/local/lib/python3.7/site-packages/sklearn/svm/base.py:196: FutureWarning: The default value of gamma will change from 'auto' to 'scale' in version 0.22 to account better for unscaled features. Set gamma explicitly to 'auto' or 'scale' to avoid this warning.\n",
      "  \"avoid this warning.\", FutureWarning)\n"
     ]
    },
    {
     "name": "stdout",
     "output_type": "stream",
     "text": [
      "Train Accuracy = 0.610870\n",
      "Test Accuracy = 0.515152\n",
      "4.501\n"
     ]
    },
    {
     "name": "stderr",
     "output_type": "stream",
     "text": [
      "/usr/local/lib/python3.7/site-packages/sklearn/svm/base.py:196: FutureWarning: The default value of gamma will change from 'auto' to 'scale' in version 0.22 to account better for unscaled features. Set gamma explicitly to 'auto' or 'scale' to avoid this warning.\n",
      "  \"avoid this warning.\", FutureWarning)\n"
     ]
    },
    {
     "name": "stdout",
     "output_type": "stream",
     "text": [
      "Train Accuracy = 0.610870\n",
      "Test Accuracy = 0.515152\n"
     ]
    },
    {
     "data": {
      "image/png": "[encoded data removed]",
      "text/plain": [
       "<Figure size 432x288 with 1 Axes>"
      ]
     },
     "metadata": {
      "needs_background": "light"
     },
     "output_type": "display_data"
    }
   ],
   "source": [
    "acc_train_svm_poly = []\n",
    "acc_test_svm_poly = []\n",
    "c_svm_poly = []\n",
    "X_different_all_news_extra_pca = pca(X_different_all_news_extra,3)\n",
    "SVM_poly(X_different_all_news_extra_pca, Y_different_all_news_extra)"
   ]
  },
  {
   "cell_type": "markdown",
   "metadata": {},
   "source": [
    "# Neural Network models"
   ]
  },
  {
   "cell_type": "markdown",
   "metadata": {},
   "source": [
    "### non-lib"
   ]
  },
  {
   "cell_type": "code",
   "execution_count": 49,
   "metadata": {},
   "outputs": [],
   "source": [
    "def convert_y_to_vect(y):\n",
    "    y_vect = np.zeros((len(y), 2))\n",
    "    for i in range(len(y)):\n",
    "        if y[i] <= 0:\n",
    "            y_vect[i][0] = 1\n",
    "        else:\n",
    "            y_vect[i][1] = 1\n",
    "    return y_vect\n",
    "\n",
    "def f(z):\n",
    "    return 1 / (1 + np.exp(-z))\n",
    "\n",
    "\n",
    "def f_deriv(z):\n",
    "    return f(z) * (1 - f(z))\n",
    "\n",
    "def setup_and_init_weights(nn_structure):\n",
    "    W = {} #creating a dictionary i.e. a set of key: value pairs\n",
    "    b = {}\n",
    "    for l in range(1, len(nn_structure)):\n",
    "        W[l] = r.random_sample((nn_structure[l], nn_structure[l-1])) #Return “continuous uniform” random floats in the half-open interval [0.0, 1.0). \n",
    "        b[l] = r.random_sample((nn_structure[l],))\n",
    "    return W, b\n",
    "\n",
    "def init_tri_values(nn_structure):\n",
    "    tri_W = {}\n",
    "    tri_b = {}\n",
    "    for l in range(1, len(nn_structure)):\n",
    "        tri_W[l] = np.zeros((nn_structure[l], nn_structure[l-1]))\n",
    "        tri_b[l] = np.zeros((nn_structure[l],))\n",
    "    return tri_W, tri_b\n",
    "\n",
    "def feed_forward(x, W, b):\n",
    "    a = {1: x} # create a dictionary for holding the a values for all levels\n",
    "    z = { } # create a dictionary for holding the z values for all the layers\n",
    "    for l in range(1, len(W) + 1): # for each layer\n",
    "        node_in = a[l]\n",
    "        z[l+1] = W[l].dot(node_in) + b[l]  # z^(l+1) = W^(l)*a^(l) + b^(l)\n",
    "        a[l+1] = f(z[l+1]) # a^(l+1) = f(z^(l+1))\n",
    "    return a, z\n",
    "\n",
    "def calculate_out_layer_delta(y, a_out, z_out):\n",
    "    # delta^(nl) = -(y_i - a_i^(nl)) * f'(z_i^(nl))\n",
    "    return -(y-a_out) * f_deriv(z_out) \n",
    "\n",
    "\n",
    "def calculate_hidden_delta(delta_plus_1, w_l, z_l):\n",
    "    # delta^(l) = (transpose(W^(l)) * delta^(l+1)) * f'(z^(l))\n",
    "    return np.dot(np.transpose(w_l), delta_plus_1) * f_deriv(z_l)\n",
    "\n",
    "def train_nn(nn_structure, X, y, iter_num=3000, alpha=0.25):\n",
    "    W, b = setup_and_init_weights(nn_structure)\n",
    "    cnt = 0\n",
    "    N = len(y)\n",
    "    avg_cost_func = []\n",
    "    print('Starting gradient descent for {} iterations'.format(iter_num))\n",
    "    while cnt < iter_num:\n",
    "        if cnt%1000 == 0:\n",
    "            print('Iteration {} of {}'.format(cnt, iter_num))\n",
    "        tri_W, tri_b = init_tri_values(nn_structure)\n",
    "        avg_cost = 0\n",
    "        for i in range(N):\n",
    "            delta = {}\n",
    "            # perform the feed forward pass and return the stored a and z values, to be used in the\n",
    "            # gradient descent step\n",
    "            a, z = feed_forward(X[i, :], W, b)\n",
    "            # loop from nl-1 to 1 backpropagating the errors\n",
    "            for l in range(len(nn_structure), 0, -1):\n",
    "                if l == len(nn_structure):\n",
    "                    delta[l] = calculate_out_layer_delta(y[i,:], a[l], z[l])\n",
    "                    avg_cost += np.linalg.norm((y[i,:]-a[l]))\n",
    "                else:\n",
    "                    if l > 1:\n",
    "                        delta[l] = calculate_hidden_delta(delta[l+1], W[l], z[l])\n",
    "                    # triW^(l) = triW^(l) + delta^(l+1) * transpose(a^(l))\n",
    "                    tri_W[l] += np.dot(delta[l+1][:,np.newaxis], np.transpose(a[l][:,np.newaxis]))# np.newaxis increase the number of dimensions\n",
    "                    # trib^(l) = trib^(l) + delta^(l+1)\n",
    "                    tri_b[l] += delta[l+1]\n",
    "        # perform the gradient descent step for the weights in each layer\n",
    "        for l in range(len(nn_structure) - 1, 0, -1):\n",
    "            W[l] += -alpha * (1.0/N * tri_W[l])\n",
    "            b[l] += -alpha * (1.0/N * tri_b[l])\n",
    "        # complete the average cost calculation\n",
    "        avg_cost = 1.0/N * avg_cost\n",
    "        avg_cost_func.append(avg_cost)\n",
    "        cnt += 1\n",
    "    return W, b, avg_cost_func\n",
    "\n",
    "\n",
    "def predict_y(W, b, X, n_layers):\n",
    "    N = X.shape[0]\n",
    "    y = np.zeros((N,))\n",
    "    for i in range(N):\n",
    "        a, z = feed_forward(X[i, :], W, b)\n",
    "        y[i] = np.argmax(a[n_layers])\n",
    "    print(y)\n",
    "    return y"
   ]
  },
  {
   "cell_type": "code",
   "execution_count": 50,
   "metadata": {},
   "outputs": [],
   "source": [
    "# convert y to [1,0] and [0,1]"
   ]
  },
  {
   "cell_type": "code",
   "execution_count": 51,
   "metadata": {},
   "outputs": [],
   "source": [
    "different_all_news_extra[\"APPL diff\"] = different_all_news_extra[\"APPL diff\"].apply(transfer_y_binary)\n",
    "different_three_news_extra[\"APPL diff\"] = different_three_news_extra[\"APPL diff\"].apply(transfer_y_binary)"
   ]
  },
  {
   "cell_type": "code",
   "execution_count": 52,
   "metadata": {},
   "outputs": [],
   "source": [
    "X_different_three_news_extra,Y_different_three_news_extra = transfer_dataframe_to_x_y_for_SVM(different_three_news_extra,\"APPL diff\")\n",
    "X_different_all_news_extra, Y_different_all_news_extra = transfer_dataframe_to_x_y_for_SVM(different_all_news_extra,\"APPL diff\")\n"
   ]
  },
  {
   "cell_type": "code",
   "execution_count": 53,
   "metadata": {},
   "outputs": [
    {
     "name": "stdout",
     "output_type": "stream",
     "text": [
      "(649, 11)\n"
     ]
    }
   ],
   "source": [
    "print(X_different_three_news_extra.shape)"
   ]
  },
  {
   "cell_type": "code",
   "execution_count": 54,
   "metadata": {},
   "outputs": [
    {
     "ename": "NameError",
     "evalue": "name 'r' is not defined",
     "output_type": "error",
     "traceback": [
      "\u001b[0;31m---------------------------------------------------------------------------\u001b[0m",
      "\u001b[0;31mNameError\u001b[0m                                 Traceback (most recent call last)",
      "\u001b[0;32m<ipython-input-54-ad285b7ba09b>\u001b[0m in \u001b[0;36m<module>\u001b[0;34m\u001b[0m\n\u001b[1;32m      7\u001b[0m \u001b[0mY_V_test\u001b[0m \u001b[0;34m=\u001b[0m \u001b[0mconvert_y_to_vect\u001b[0m\u001b[0;34m(\u001b[0m\u001b[0mY_test\u001b[0m\u001b[0;34m)\u001b[0m\u001b[0;34m\u001b[0m\u001b[0;34m\u001b[0m\u001b[0m\n\u001b[1;32m      8\u001b[0m \u001b[0;31m# train the NN\u001b[0m\u001b[0;34m\u001b[0m\u001b[0;34m\u001b[0m\u001b[0;34m\u001b[0m\u001b[0m\n\u001b[0;32m----> 9\u001b[0;31m \u001b[0mW\u001b[0m\u001b[0;34m,\u001b[0m \u001b[0mb\u001b[0m\u001b[0;34m,\u001b[0m \u001b[0mavg_cost_func\u001b[0m \u001b[0;34m=\u001b[0m \u001b[0mtrain_nn\u001b[0m\u001b[0;34m(\u001b[0m\u001b[0mnn_structure\u001b[0m\u001b[0;34m,\u001b[0m \u001b[0mX_train\u001b[0m\u001b[0;34m,\u001b[0m \u001b[0mY_V_train\u001b[0m\u001b[0;34m,\u001b[0m \u001b[0;36m3000\u001b[0m\u001b[0;34m)\u001b[0m\u001b[0;34m\u001b[0m\u001b[0;34m\u001b[0m\u001b[0m\n\u001b[0m\u001b[1;32m     10\u001b[0m \u001b[0;34m\u001b[0m\u001b[0m\n\u001b[1;32m     11\u001b[0m \u001b[0;31m# get the prediction accuracy and print\u001b[0m\u001b[0;34m\u001b[0m\u001b[0;34m\u001b[0m\u001b[0;34m\u001b[0m\u001b[0m\n",
      "\u001b[0;32m<ipython-input-49-cd467e98614a>\u001b[0m in \u001b[0;36mtrain_nn\u001b[0;34m(nn_structure, X, y, iter_num, alpha)\u001b[0m\n\u001b[1;32m     50\u001b[0m \u001b[0;34m\u001b[0m\u001b[0m\n\u001b[1;32m     51\u001b[0m \u001b[0;32mdef\u001b[0m \u001b[0mtrain_nn\u001b[0m\u001b[0;34m(\u001b[0m\u001b[0mnn_structure\u001b[0m\u001b[0;34m,\u001b[0m \u001b[0mX\u001b[0m\u001b[0;34m,\u001b[0m \u001b[0my\u001b[0m\u001b[0;34m,\u001b[0m \u001b[0miter_num\u001b[0m\u001b[0;34m=\u001b[0m\u001b[0;36m3000\u001b[0m\u001b[0;34m,\u001b[0m \u001b[0malpha\u001b[0m\u001b[0;34m=\u001b[0m\u001b[0;36m0.25\u001b[0m\u001b[0;34m)\u001b[0m\u001b[0;34m:\u001b[0m\u001b[0;34m\u001b[0m\u001b[0;34m\u001b[0m\u001b[0m\n\u001b[0;32m---> 52\u001b[0;31m     \u001b[0mW\u001b[0m\u001b[0;34m,\u001b[0m \u001b[0mb\u001b[0m \u001b[0;34m=\u001b[0m \u001b[0msetup_and_init_weights\u001b[0m\u001b[0;34m(\u001b[0m\u001b[0mnn_structure\u001b[0m\u001b[0;34m)\u001b[0m\u001b[0;34m\u001b[0m\u001b[0;34m\u001b[0m\u001b[0m\n\u001b[0m\u001b[1;32m     53\u001b[0m     \u001b[0mcnt\u001b[0m \u001b[0;34m=\u001b[0m \u001b[0;36m0\u001b[0m\u001b[0;34m\u001b[0m\u001b[0;34m\u001b[0m\u001b[0m\n\u001b[1;32m     54\u001b[0m     \u001b[0mN\u001b[0m \u001b[0;34m=\u001b[0m \u001b[0mlen\u001b[0m\u001b[0;34m(\u001b[0m\u001b[0my\u001b[0m\u001b[0;34m)\u001b[0m\u001b[0;34m\u001b[0m\u001b[0;34m\u001b[0m\u001b[0m\n",
      "\u001b[0;32m<ipython-input-49-cd467e98614a>\u001b[0m in \u001b[0;36msetup_and_init_weights\u001b[0;34m(nn_structure)\u001b[0m\n\u001b[1;32m     19\u001b[0m     \u001b[0mb\u001b[0m \u001b[0;34m=\u001b[0m \u001b[0;34m{\u001b[0m\u001b[0;34m}\u001b[0m\u001b[0;34m\u001b[0m\u001b[0;34m\u001b[0m\u001b[0m\n\u001b[1;32m     20\u001b[0m     \u001b[0;32mfor\u001b[0m \u001b[0ml\u001b[0m \u001b[0;32min\u001b[0m \u001b[0mrange\u001b[0m\u001b[0;34m(\u001b[0m\u001b[0;36m1\u001b[0m\u001b[0;34m,\u001b[0m \u001b[0mlen\u001b[0m\u001b[0;34m(\u001b[0m\u001b[0mnn_structure\u001b[0m\u001b[0;34m)\u001b[0m\u001b[0;34m)\u001b[0m\u001b[0;34m:\u001b[0m\u001b[0;34m\u001b[0m\u001b[0;34m\u001b[0m\u001b[0m\n\u001b[0;32m---> 21\u001b[0;31m         \u001b[0mW\u001b[0m\u001b[0;34m[\u001b[0m\u001b[0ml\u001b[0m\u001b[0;34m]\u001b[0m \u001b[0;34m=\u001b[0m \u001b[0mr\u001b[0m\u001b[0;34m.\u001b[0m\u001b[0mrandom_sample\u001b[0m\u001b[0;34m(\u001b[0m\u001b[0;34m(\u001b[0m\u001b[0mnn_structure\u001b[0m\u001b[0;34m[\u001b[0m\u001b[0ml\u001b[0m\u001b[0;34m]\u001b[0m\u001b[0;34m,\u001b[0m \u001b[0mnn_structure\u001b[0m\u001b[0;34m[\u001b[0m\u001b[0ml\u001b[0m\u001b[0;34m-\u001b[0m\u001b[0;36m1\u001b[0m\u001b[0;34m]\u001b[0m\u001b[0;34m)\u001b[0m\u001b[0;34m)\u001b[0m \u001b[0;31m#Return “continuous uniform” random floats in the half-open interval [0.0, 1.0).\u001b[0m\u001b[0;34m\u001b[0m\u001b[0;34m\u001b[0m\u001b[0m\n\u001b[0m\u001b[1;32m     22\u001b[0m         \u001b[0mb\u001b[0m\u001b[0;34m[\u001b[0m\u001b[0ml\u001b[0m\u001b[0;34m]\u001b[0m \u001b[0;34m=\u001b[0m \u001b[0mr\u001b[0m\u001b[0;34m.\u001b[0m\u001b[0mrandom_sample\u001b[0m\u001b[0;34m(\u001b[0m\u001b[0;34m(\u001b[0m\u001b[0mnn_structure\u001b[0m\u001b[0;34m[\u001b[0m\u001b[0ml\u001b[0m\u001b[0;34m]\u001b[0m\u001b[0;34m,\u001b[0m\u001b[0;34m)\u001b[0m\u001b[0;34m)\u001b[0m\u001b[0;34m\u001b[0m\u001b[0;34m\u001b[0m\u001b[0m\n\u001b[1;32m     23\u001b[0m     \u001b[0;32mreturn\u001b[0m \u001b[0mW\u001b[0m\u001b[0;34m,\u001b[0m \u001b[0mb\u001b[0m\u001b[0;34m\u001b[0m\u001b[0;34m\u001b[0m\u001b[0m\n",
      "\u001b[0;31mNameError\u001b[0m: name 'r' is not defined"
     ]
    }
   ],
   "source": [
    "nn_structure = [11, 12, 2]\n",
    "\n",
    "nn_structure2 = []\n",
    "\n",
    "X_train, X_test, Y_train, Y_test = train_test_split(X_different_three_news_extra, Y_different_three_news_extra, test_size=0.3)\n",
    "Y_V_train = convert_y_to_vect(Y_train)\n",
    "Y_V_test = convert_y_to_vect(Y_test)\n",
    "# train the NN\n",
    "W, b, avg_cost_func = train_nn(nn_structure, X_train, Y_V_train, 3000)\n",
    "\n",
    "# get the prediction accuracy and print\n",
    "y_pred = predict_y(W, b, X_test, 3)\n",
    "print('Prediction accuracy is {}%'.format(accuracy_score(Y_test, y_pred) * 100))"
   ]
  },
  {
   "cell_type": "markdown",
   "metadata": {},
   "source": [
    "### keras lib\n"
   ]
  },
  {
   "cell_type": "code",
   "execution_count": 45,
   "metadata": {},
   "outputs": [],
   "source": [
    "def transfer_y_binary_keras(value):\n",
    "    if value < 0:\n",
    "        out = 0\n",
    "    else:\n",
    "        out = 1\n",
    "    return out"
   ]
  },
  {
   "cell_type": "code",
   "execution_count": 46,
   "metadata": {},
   "outputs": [],
   "source": [
    "def transfer_dataframe_to_x_y_for_SVM(dataframe, y_colum):\n",
    "    #y_dataframe = dataframe[y_colum]\n",
    "    dataframe = dataframe.dropna()\n",
    "    y = dataframe[y_colum].values\n",
    "    x_dataframe = dataframe.drop(columns= [y_colum,\"Date\"])\n",
    "    x = x_dataframe.values\n",
    "    return x,y"
   ]
  },
  {
   "cell_type": "code",
   "execution_count": 47,
   "metadata": {},
   "outputs": [],
   "source": [
    "different_all_news_extra[\"APPL diff\"] = different_all_news_extra[\"APPL diff\"].apply(transfer_y_binary_keras)\n",
    "different_three_news_extra[\"APPL diff\"] = different_three_news_extra[\"APPL diff\"].apply(transfer_y_binary_keras)\n"
   ]
  },
  {
   "cell_type": "code",
   "execution_count": 48,
   "metadata": {},
   "outputs": [],
   "source": [
    "X_different_three_news_extra,Y_different_three_news_extra = transfer_dataframe_to_x_y_for_SVM(different_three_news_extra,\"APPL diff\")\n",
    "X_different_all_news_extra, Y_different_all_news_extra = transfer_dataframe_to_x_y_for_SVM(different_all_news_extra,\"APPL diff\")\n",
    "X_different_three_news_extra = StandardScaler().fit_transform(X_different_three_news_extra)\n",
    "X_different_all_news_extra =  StandardScaler().fit_transform(X_different_all_news_extra)\n"
   ]
  },
  {
   "cell_type": "code",
   "execution_count": 66,
   "metadata": {},
   "outputs": [],
   "source": [
    "# passing x, y before separate into train and test\n",
    "# hidenLayer is hidden layer as list. eg [10,4,2] is three hiden layer with 10 number of Neural etc. \n",
    "# activation is activation function\n",
    "# activity_regularizer is how much to regularizer\n",
    "### kernel_constraint is for constraint number using \n",
    "# optimizer is optimiz function such as sgd\n",
    "# batch_size is smaple size for each gd renew, 每次梯度更新的样本数\n",
    "# epochs: number iterations of generation\n",
    "def nn_classifier(x, y, hidenLayer, activation, regularizer, \n",
    "                  optimizer, batch_size, epochs):\n",
    "    \n",
    "    model = Sequential()\n",
    "    n_parameter = x.shape[1]\n",
    "    model.add(Dense(hidenLayer[0], input_shape = (n_parameter,), activation = activation, name = \"hidden\",\n",
    "                   activity_regularizer = regularizers.l2(regularizer)))\n",
    "    \n",
    "    if len(hidenLayer) > 1:\n",
    "        for layer in range(1,len(hidenLayer)):\n",
    "            name_in = \"hidden\" + str(layer)\n",
    "            model.add(Dense(hidenLayer[layer], activation = activation, name = name_in,\n",
    "                   activity_regularizer = regularizers.l2(regularizer)))\n",
    "            \n",
    "    model.add(Dense(1, activation=activation,activity_regularizer = regularizers.l2(regularizer), \n",
    "                    name='output'))\n",
    "    \n",
    "    model.compile(optimizer=optimizer,\n",
    "                  loss='binary_crossentropy',\n",
    "                  metrics=[metrics.binary_accuracy])\n",
    "    \n",
    "    X_train, X_test, Y_train, Y_test = train_test_split(x, y, test_size=0.2)\n",
    "\n",
    "    model.fit(X_train, Y_train, epochs = epochs, batch_size = batch_size,verbose=0)\n",
    "\n",
    "    lossi_Out, AccOut = model.evaluate(X_test,Y_test, verbose=0)\n",
    "    lossi_In, AccIn = model.evaluate(X_train,Y_train, verbose=0)\n",
    "    \n",
    "    print()\n",
    "    print(\"RESULT: \")\n",
    "    print(\"optimizer=\"+optimizer+\", activation=\" + activation) \n",
    "    print(\"batch_size=%3d, epoch=%4d, regularizer=%7.5f, loss=%12.4e, AccIn=%7.5f, AccOut=%7.5f\" % (batch_size, \n",
    "                                                                                               epochs,\n",
    "                                                                                               regularizer,\n",
    "                                                                                               lossi_In,\n",
    "                                                                                               AccIn,\n",
    "                                                                                               AccOut))\n",
    "    print()\n",
    " "
   ]
  },
  {
   "cell_type": "markdown",
   "metadata": {},
   "source": [
    "### Sigmoid, SGD"
   ]
  },
  {
   "cell_type": "code",
   "execution_count": 68,
   "metadata": {},
   "outputs": [
    {
     "name": "stdout",
     "output_type": "stream",
     "text": [
      "\n",
      "RESULT: \n",
      "optimizer=sgd, activation=sigmoid\n",
      "batch_size= 30, epoch=1000, regularizer=0.00100, loss=  6.4690e-01, AccIn=0.69962, AccOut=0.65909\n",
      "\n",
      "==================================================================================================\n",
      "\n",
      "RESULT: \n",
      "optimizer=sgd, activation=sigmoid\n",
      "batch_size= 30, epoch=4000, regularizer=0.00100, loss=  5.4074e-01, AccIn=0.75285, AccOut=0.67424\n",
      "\n",
      "==================================================================================================\n",
      "\n",
      "RESULT: \n",
      "optimizer=sgd, activation=sigmoid\n",
      "batch_size= 30, epoch=7000, regularizer=0.00100, loss=  5.0471e-01, AccIn=0.74525, AccOut=0.65909\n",
      "\n",
      "==================================================================================================\n",
      "\n",
      "RESULT: \n",
      "optimizer=sgd, activation=sigmoid\n",
      "batch_size= 30, epoch=10000, regularizer=0.00100, loss=  4.7659e-01, AccIn=0.75856, AccOut=0.64394\n",
      "\n",
      "==================================================================================================\n",
      "\n",
      "RESULT: \n",
      "optimizer=sgd, activation=sigmoid\n",
      "batch_size=130, epoch=1000, regularizer=0.00100, loss=  6.6499e-01, AccIn=0.68441, AccOut=0.58333\n",
      "\n",
      "==================================================================================================\n",
      "\n",
      "RESULT: \n",
      "optimizer=sgd, activation=sigmoid\n",
      "batch_size=130, epoch=4000, regularizer=0.00100, loss=  6.0943e-01, AccIn=0.69011, AccOut=0.64394\n",
      "\n",
      "==================================================================================================\n",
      "\n",
      "RESULT: \n",
      "optimizer=sgd, activation=sigmoid\n",
      "batch_size=130, epoch=7000, regularizer=0.00100, loss=  5.9536e-01, AccIn=0.69772, AccOut=0.69697\n",
      "\n",
      "==================================================================================================\n",
      "\n",
      "RESULT: \n",
      "optimizer=sgd, activation=sigmoid\n",
      "batch_size=130, epoch=10000, regularizer=0.00100, loss=  5.7739e-01, AccIn=0.69202, AccOut=0.64394\n",
      "\n",
      "==================================================================================================\n",
      "\n",
      "RESULT: \n",
      "optimizer=sgd, activation=sigmoid\n",
      "batch_size=230, epoch=1000, regularizer=0.00100, loss=  6.8794e-01, AccIn=0.64829, AccOut=0.62879\n",
      "\n",
      "==================================================================================================\n",
      "\n",
      "RESULT: \n",
      "optimizer=sgd, activation=sigmoid\n",
      "batch_size=230, epoch=4000, regularizer=0.00100, loss=  6.2623e-01, AccIn=0.68061, AccOut=0.66667\n",
      "\n",
      "==================================================================================================\n",
      "\n",
      "RESULT: \n",
      "optimizer=sgd, activation=sigmoid\n",
      "batch_size=230, epoch=7000, regularizer=0.00100, loss=  6.1670e-01, AccIn=0.67110, AccOut=0.71212\n",
      "\n",
      "==================================================================================================\n",
      "\n",
      "RESULT: \n",
      "optimizer=sgd, activation=sigmoid\n",
      "batch_size=230, epoch=10000, regularizer=0.00100, loss=  5.9329e-01, AccIn=0.69392, AccOut=0.64394\n",
      "\n",
      "==================================================================================================\n",
      "\n",
      "RESULT: \n",
      "optimizer=sgd, activation=sigmoid\n",
      "batch_size=330, epoch=1000, regularizer=0.00100, loss=  7.1875e-01, AccIn=0.59886, AccOut=0.56061\n",
      "\n",
      "==================================================================================================\n",
      "\n",
      "RESULT: \n",
      "optimizer=sgd, activation=sigmoid\n",
      "batch_size=330, epoch=4000, regularizer=0.00100, loss=  6.3954e-01, AccIn=0.68821, AccOut=0.59091\n",
      "\n",
      "==================================================================================================\n",
      "\n",
      "RESULT: \n",
      "optimizer=sgd, activation=sigmoid\n",
      "batch_size=330, epoch=7000, regularizer=0.00100, loss=  6.2312e-01, AccIn=0.67300, AccOut=0.59091\n",
      "\n",
      "==================================================================================================\n",
      "\n",
      "RESULT: \n",
      "optimizer=sgd, activation=sigmoid\n",
      "batch_size=330, epoch=10000, regularizer=0.00100, loss=  5.9831e-01, AccIn=0.69202, AccOut=0.60606\n",
      "\n",
      "==================================================================================================\n",
      "\n",
      "RESULT: \n",
      "optimizer=sgd, activation=sigmoid\n",
      "batch_size=430, epoch=1000, regularizer=0.00100, loss=  6.9603e-01, AccIn=0.63498, AccOut=0.64394\n",
      "\n",
      "==================================================================================================\n",
      "\n",
      "RESULT: \n",
      "optimizer=sgd, activation=sigmoid\n",
      "batch_size=430, epoch=4000, regularizer=0.00100, loss=  6.5495e-01, AccIn=0.65589, AccOut=0.56061\n",
      "\n",
      "==================================================================================================\n",
      "\n",
      "RESULT: \n",
      "optimizer=sgd, activation=sigmoid\n",
      "batch_size=430, epoch=7000, regularizer=0.00100, loss=  6.2330e-01, AccIn=0.69202, AccOut=0.61364\n",
      "\n",
      "==================================================================================================\n",
      "\n",
      "RESULT: \n",
      "optimizer=sgd, activation=sigmoid\n",
      "batch_size=430, epoch=10000, regularizer=0.00100, loss=  6.1320e-01, AccIn=0.69392, AccOut=0.61364\n",
      "\n",
      "==================================================================================================\n",
      "\n",
      "RESULT: \n",
      "optimizer=sgd, activation=sigmoid\n",
      "batch_size=530, epoch=1000, regularizer=0.00100, loss=  7.4179e-01, AccIn=0.50000, AccOut=0.43182\n",
      "\n",
      "==================================================================================================\n",
      "\n",
      "RESULT: \n",
      "optimizer=sgd, activation=sigmoid\n",
      "batch_size=530, epoch=4000, regularizer=0.00100, loss=  7.0015e-01, AccIn=0.48859, AccOut=0.43182\n",
      "\n",
      "==================================================================================================\n",
      "\n",
      "RESULT: \n",
      "optimizer=sgd, activation=sigmoid\n",
      "batch_size=530, epoch=7000, regularizer=0.00100, loss=  6.9462e-01, AccIn=0.48859, AccOut=0.44697\n",
      "\n",
      "==================================================================================================\n",
      "\n",
      "RESULT: \n",
      "optimizer=sgd, activation=sigmoid\n",
      "batch_size=530, epoch=10000, regularizer=0.00100, loss=  6.7040e-01, AccIn=0.54753, AccOut=0.57576\n",
      "\n",
      "==================================================================================================\n"
     ]
    }
   ],
   "source": [
    "### for all sigmoid functions with sgd, with one hidden layer. changing iter size, regularizer rate, and batch size,\n",
    "for batch_size in range(30, 600, 100):\n",
    "    for iter_time in range(1000, 10001, 3000):\n",
    "        K.clear_session()\n",
    "        nn_classifier(X_different_all_news_extra, Y_different_all_news_extra,[15],'sigmoid', 0.001,\"sgd\",batch_size,iter_time)\n",
    "        print(\"==================================================================================================\")\n",
    "        "
   ]
  },
  {
   "cell_type": "code",
   "execution_count": 70,
   "metadata": {},
   "outputs": [
    {
     "name": "stdout",
     "output_type": "stream",
     "text": [
      "\n",
      "RESULT: \n",
      "optimizer=sgd, activation=sigmoid\n",
      "batch_size= 30, epoch=1000, regularizer=0.00100, loss=  6.4702e-01, AccIn=0.67052, AccOut=0.67692\n",
      "\n",
      "==================================================================================================\n",
      "\n",
      "RESULT: \n",
      "optimizer=sgd, activation=sigmoid\n",
      "batch_size= 30, epoch=4000, regularizer=0.00100, loss=  6.1047e-01, AccIn=0.69750, AccOut=0.64615\n",
      "\n",
      "==================================================================================================\n",
      "\n",
      "RESULT: \n",
      "optimizer=sgd, activation=sigmoid\n",
      "batch_size= 30, epoch=7000, regularizer=0.00100, loss=  6.0486e-01, AccIn=0.67630, AccOut=0.67692\n",
      "\n",
      "==================================================================================================\n",
      "\n",
      "RESULT: \n",
      "optimizer=sgd, activation=sigmoid\n",
      "batch_size= 30, epoch=10000, regularizer=0.00100, loss=  5.8157e-01, AccIn=0.72254, AccOut=0.66154\n",
      "\n",
      "==================================================================================================\n",
      "\n",
      "RESULT: \n",
      "optimizer=sgd, activation=sigmoid\n",
      "batch_size=130, epoch=1000, regularizer=0.00100, loss=  6.6339e-01, AccIn=0.64933, AccOut=0.63846\n",
      "\n",
      "==================================================================================================\n",
      "\n",
      "RESULT: \n",
      "optimizer=sgd, activation=sigmoid\n",
      "batch_size=130, epoch=4000, regularizer=0.00100, loss=  6.0780e-01, AccIn=0.68015, AccOut=0.64615\n",
      "\n",
      "==================================================================================================\n",
      "\n",
      "RESULT: \n",
      "optimizer=sgd, activation=sigmoid\n",
      "batch_size=130, epoch=7000, regularizer=0.00100, loss=  6.0970e-01, AccIn=0.68786, AccOut=0.61538\n",
      "\n",
      "==================================================================================================\n",
      "\n",
      "RESULT: \n",
      "optimizer=sgd, activation=sigmoid\n",
      "batch_size=130, epoch=10000, regularizer=0.00100, loss=  6.2115e-01, AccIn=0.67823, AccOut=0.69231\n",
      "\n",
      "==================================================================================================\n",
      "\n",
      "RESULT: \n",
      "optimizer=sgd, activation=sigmoid\n",
      "batch_size=230, epoch=1000, regularizer=0.00100, loss=  6.6344e-01, AccIn=0.63006, AccOut=0.63077\n",
      "\n",
      "==================================================================================================\n",
      "\n",
      "RESULT: \n",
      "optimizer=sgd, activation=sigmoid\n",
      "batch_size=230, epoch=4000, regularizer=0.00100, loss=  6.3810e-01, AccIn=0.66859, AccOut=0.74615\n",
      "\n",
      "==================================================================================================\n",
      "\n",
      "RESULT: \n",
      "optimizer=sgd, activation=sigmoid\n",
      "batch_size=230, epoch=7000, regularizer=0.00100, loss=  6.2287e-01, AccIn=0.68401, AccOut=0.69231\n",
      "\n",
      "==================================================================================================\n",
      "\n",
      "RESULT: \n",
      "optimizer=sgd, activation=sigmoid\n",
      "batch_size=230, epoch=10000, regularizer=0.00100, loss=  6.0803e-01, AccIn=0.68015, AccOut=0.63846\n",
      "\n",
      "==================================================================================================\n",
      "\n",
      "RESULT: \n",
      "optimizer=sgd, activation=sigmoid\n",
      "batch_size=330, epoch=1000, regularizer=0.00100, loss=  6.8641e-01, AccIn=0.60886, AccOut=0.64615\n",
      "\n",
      "==================================================================================================\n",
      "\n",
      "RESULT: \n",
      "optimizer=sgd, activation=sigmoid\n",
      "batch_size=330, epoch=4000, regularizer=0.00100, loss=  6.5041e-01, AccIn=0.62813, AccOut=0.60000\n",
      "\n",
      "==================================================================================================\n",
      "\n",
      "RESULT: \n",
      "optimizer=sgd, activation=sigmoid\n",
      "batch_size=330, epoch=7000, regularizer=0.00100, loss=  6.4145e-01, AccIn=0.65511, AccOut=0.66923\n",
      "\n",
      "==================================================================================================\n",
      "\n",
      "RESULT: \n",
      "optimizer=sgd, activation=sigmoid\n",
      "batch_size=330, epoch=10000, regularizer=0.00100, loss=  6.2158e-01, AccIn=0.66089, AccOut=0.66154\n",
      "\n",
      "==================================================================================================\n",
      "\n",
      "RESULT: \n",
      "optimizer=sgd, activation=sigmoid\n",
      "batch_size=430, epoch=1000, regularizer=0.00100, loss=  6.9296e-01, AccIn=0.60116, AccOut=0.65385\n",
      "\n",
      "==================================================================================================\n",
      "\n",
      "RESULT: \n",
      "optimizer=sgd, activation=sigmoid\n",
      "batch_size=430, epoch=4000, regularizer=0.00100, loss=  6.5387e-01, AccIn=0.61272, AccOut=0.64615\n",
      "\n",
      "==================================================================================================\n",
      "\n",
      "RESULT: \n",
      "optimizer=sgd, activation=sigmoid\n",
      "batch_size=430, epoch=7000, regularizer=0.00100, loss=  6.2708e-01, AccIn=0.65703, AccOut=0.58462\n",
      "\n",
      "==================================================================================================\n",
      "\n",
      "RESULT: \n",
      "optimizer=sgd, activation=sigmoid\n",
      "batch_size=430, epoch=10000, regularizer=0.00100, loss=  6.1617e-01, AccIn=0.66474, AccOut=0.53077\n",
      "\n",
      "==================================================================================================\n",
      "\n",
      "RESULT: \n",
      "optimizer=sgd, activation=sigmoid\n",
      "batch_size=530, epoch=1000, regularizer=0.00100, loss=  7.2124e-01, AccIn=0.47013, AccOut=0.45385\n",
      "\n",
      "==================================================================================================\n",
      "\n",
      "RESULT: \n",
      "optimizer=sgd, activation=sigmoid\n",
      "batch_size=530, epoch=4000, regularizer=0.00100, loss=  7.0890e-01, AccIn=0.46628, AccOut=0.44615\n",
      "\n",
      "==================================================================================================\n",
      "\n",
      "RESULT: \n",
      "optimizer=sgd, activation=sigmoid\n",
      "batch_size=530, epoch=7000, regularizer=0.00100, loss=  6.8536e-01, AccIn=0.48940, AccOut=0.46154\n",
      "\n",
      "==================================================================================================\n",
      "\n",
      "RESULT: \n",
      "optimizer=sgd, activation=sigmoid\n",
      "batch_size=530, epoch=10000, regularizer=0.00100, loss=  6.8087e-01, AccIn=0.51252, AccOut=0.53846\n",
      "\n",
      "==================================================================================================\n"
     ]
    }
   ],
   "source": [
    "### for all sigmoid functions with sgd, with one hidden layer. changing iter size, regularizer rate, and batch size,\n",
    "for batch_size in range(30, 600, 100):\n",
    "    for iter_time in range(1000, 10001, 3000):\n",
    "        K.clear_session()\n",
    "        nn_classifier(X_different_three_news_extra, Y_different_three_news_extra,[6],'sigmoid', 0.001,\"sgd\",batch_size,iter_time)\n",
    "        print(\"==================================================================================================\")\n",
    " "
   ]
  },
  {
   "cell_type": "markdown",
   "metadata": {},
   "source": [
    "### Sigmoid, RMSprop"
   ]
  },
  {
   "cell_type": "code",
   "execution_count": 71,
   "metadata": {},
   "outputs": [
    {
     "name": "stdout",
     "output_type": "stream",
     "text": [
      "\n",
      "RESULT: \n",
      "optimizer=rmsprop, activation=sigmoid\n",
      "batch_size= 30, epoch=1000, regularizer=0.00100, loss=  4.9893e-01, AccIn=0.75475, AccOut=0.66667\n",
      "\n",
      "==================================================================================================\n",
      "\n",
      "RESULT: \n",
      "optimizer=rmsprop, activation=sigmoid\n",
      "batch_size= 30, epoch=4000, regularizer=0.00100, loss=  3.8897e-01, AccIn=0.81179, AccOut=0.56061\n",
      "\n",
      "==================================================================================================\n",
      "\n",
      "RESULT: \n",
      "optimizer=rmsprop, activation=sigmoid\n",
      "batch_size= 30, epoch=7000, regularizer=0.00100, loss=  3.6047e-01, AccIn=0.84601, AccOut=0.55303\n",
      "\n",
      "==================================================================================================\n",
      "\n",
      "RESULT: \n",
      "optimizer=rmsprop, activation=sigmoid\n",
      "batch_size= 30, epoch=10000, regularizer=0.00100, loss=  3.5384e-01, AccIn=0.85361, AccOut=0.62879\n",
      "\n",
      "==================================================================================================\n",
      "\n",
      "RESULT: \n",
      "optimizer=rmsprop, activation=sigmoid\n",
      "batch_size=130, epoch=1000, regularizer=0.00100, loss=  5.7989e-01, AccIn=0.68441, AccOut=0.67424\n",
      "\n",
      "==================================================================================================\n",
      "\n",
      "RESULT: \n",
      "optimizer=rmsprop, activation=sigmoid\n",
      "batch_size=130, epoch=4000, regularizer=0.00100, loss=  4.7651e-01, AccIn=0.76236, AccOut=0.58333\n",
      "\n",
      "==================================================================================================\n",
      "\n",
      "RESULT: \n",
      "optimizer=rmsprop, activation=sigmoid\n",
      "batch_size=130, epoch=7000, regularizer=0.00100, loss=  4.5772e-01, AccIn=0.77757, AccOut=0.62879\n",
      "\n",
      "==================================================================================================\n",
      "\n",
      "RESULT: \n",
      "optimizer=rmsprop, activation=sigmoid\n",
      "batch_size=130, epoch=10000, regularizer=0.00100, loss=  4.1253e-01, AccIn=0.79087, AccOut=0.59091\n",
      "\n",
      "==================================================================================================\n",
      "\n",
      "RESULT: \n",
      "optimizer=rmsprop, activation=sigmoid\n",
      "batch_size=230, epoch=1000, regularizer=0.00100, loss=  5.7830e-01, AccIn=0.72243, AccOut=0.56818\n",
      "\n",
      "==================================================================================================\n",
      "\n",
      "RESULT: \n",
      "optimizer=rmsprop, activation=sigmoid\n",
      "batch_size=230, epoch=4000, regularizer=0.00100, loss=  4.8184e-01, AccIn=0.75475, AccOut=0.65152\n",
      "\n",
      "==================================================================================================\n",
      "\n",
      "RESULT: \n",
      "optimizer=rmsprop, activation=sigmoid\n",
      "batch_size=230, epoch=7000, regularizer=0.00100, loss=  4.3111e-01, AccIn=0.80228, AccOut=0.65152\n",
      "\n",
      "==================================================================================================\n",
      "\n",
      "RESULT: \n",
      "optimizer=rmsprop, activation=sigmoid\n",
      "batch_size=230, epoch=10000, regularizer=0.00100, loss=  4.1432e-01, AccIn=0.78517, AccOut=0.58333\n",
      "\n",
      "==================================================================================================\n",
      "\n",
      "RESULT: \n",
      "optimizer=rmsprop, activation=sigmoid\n",
      "batch_size=330, epoch=1000, regularizer=0.00100, loss=  6.0458e-01, AccIn=0.67300, AccOut=0.65909\n",
      "\n",
      "==================================================================================================\n",
      "\n",
      "RESULT: \n",
      "optimizer=rmsprop, activation=sigmoid\n",
      "batch_size=330, epoch=4000, regularizer=0.00100, loss=  4.9193e-01, AccIn=0.74715, AccOut=0.59091\n",
      "\n",
      "==================================================================================================\n",
      "\n",
      "RESULT: \n",
      "optimizer=rmsprop, activation=sigmoid\n",
      "batch_size=330, epoch=7000, regularizer=0.00100, loss=  4.3230e-01, AccIn=0.79087, AccOut=0.63636\n",
      "\n",
      "==================================================================================================\n",
      "\n",
      "RESULT: \n",
      "optimizer=rmsprop, activation=sigmoid\n",
      "batch_size=330, epoch=10000, regularizer=0.00100, loss=  4.4369e-01, AccIn=0.78897, AccOut=0.59091\n",
      "\n",
      "==================================================================================================\n",
      "\n",
      "RESULT: \n",
      "optimizer=rmsprop, activation=sigmoid\n",
      "batch_size=430, epoch=1000, regularizer=0.00100, loss=  6.1410e-01, AccIn=0.68441, AccOut=0.55303\n",
      "\n",
      "==================================================================================================\n",
      "\n",
      "RESULT: \n",
      "optimizer=rmsprop, activation=sigmoid\n",
      "batch_size=430, epoch=4000, regularizer=0.00100, loss=  5.1776e-01, AccIn=0.74335, AccOut=0.58333\n",
      "\n",
      "==================================================================================================\n",
      "\n",
      "RESULT: \n",
      "optimizer=rmsprop, activation=sigmoid\n",
      "batch_size=430, epoch=7000, regularizer=0.00100, loss=  4.6561e-01, AccIn=0.77757, AccOut=0.54545\n",
      "\n",
      "==================================================================================================\n",
      "\n",
      "RESULT: \n",
      "optimizer=rmsprop, activation=sigmoid\n",
      "batch_size=430, epoch=10000, regularizer=0.00100, loss=  4.5364e-01, AccIn=0.79278, AccOut=0.62121\n",
      "\n",
      "==================================================================================================\n",
      "\n",
      "RESULT: \n",
      "optimizer=rmsprop, activation=sigmoid\n",
      "batch_size=530, epoch=1000, regularizer=0.00100, loss=  6.5548e-01, AccIn=0.63688, AccOut=0.54545\n",
      "\n",
      "==================================================================================================\n",
      "\n",
      "RESULT: \n",
      "optimizer=rmsprop, activation=sigmoid\n",
      "batch_size=530, epoch=4000, regularizer=0.00100, loss=  5.2488e-01, AccIn=0.73954, AccOut=0.64394\n",
      "\n",
      "==================================================================================================\n",
      "\n",
      "RESULT: \n",
      "optimizer=rmsprop, activation=sigmoid\n",
      "batch_size=530, epoch=7000, regularizer=0.00100, loss=  4.6753e-01, AccIn=0.79658, AccOut=0.56061\n",
      "\n",
      "==================================================================================================\n",
      "\n",
      "RESULT: \n",
      "optimizer=rmsprop, activation=sigmoid\n",
      "batch_size=530, epoch=10000, regularizer=0.00100, loss=  4.2079e-01, AccIn=0.80038, AccOut=0.51515\n",
      "\n",
      "==================================================================================================\n"
     ]
    }
   ],
   "source": [
    "### for all sigmoid functions with rmsprop, with one hidden layer. changing iter size, regularizer rate, and batch size,\n",
    "for batch_size in range(30, 600, 100):\n",
    "    for iter_time in range(1000, 10001, 3000):\n",
    "        K.clear_session()\n",
    "        nn_classifier(X_different_all_news_extra, Y_different_all_news_extra,[15],'sigmoid', =,\"rmsprop\",batch_size,iter_time)\n",
    "        print(\"==================================================================================================\")\n"
   ]
  },
  {
   "cell_type": "code",
   "execution_count": 72,
   "metadata": {},
   "outputs": [
    {
     "name": "stdout",
     "output_type": "stream",
     "text": [
      "\n",
      "RESULT: \n",
      "optimizer=rmsprop, activation=sigmoid\n",
      "batch_size= 30, epoch=1000, regularizer=0.00100, loss=  5.7825e-01, AccIn=0.71098, AccOut=0.62308\n",
      "\n",
      "==================================================================================================\n",
      "\n",
      "RESULT: \n",
      "optimizer=rmsprop, activation=sigmoid\n",
      "batch_size= 30, epoch=4000, regularizer=0.00100, loss=  5.3996e-01, AccIn=0.70906, AccOut=0.65385\n",
      "\n",
      "==================================================================================================\n",
      "\n",
      "RESULT: \n",
      "optimizer=rmsprop, activation=sigmoid\n",
      "batch_size= 30, epoch=7000, regularizer=0.00100, loss=  5.5297e-01, AccIn=0.72254, AccOut=0.72308\n",
      "\n",
      "==================================================================================================\n",
      "\n",
      "RESULT: \n",
      "optimizer=rmsprop, activation=sigmoid\n",
      "batch_size= 30, epoch=10000, regularizer=0.00100, loss=  5.0125e-01, AccIn=0.74566, AccOut=0.56154\n",
      "\n",
      "==================================================================================================\n",
      "\n",
      "RESULT: \n",
      "optimizer=rmsprop, activation=sigmoid\n",
      "batch_size=130, epoch=1000, regularizer=0.00100, loss=  5.9830e-01, AccIn=0.67823, AccOut=0.63846\n",
      "\n",
      "==================================================================================================\n",
      "\n",
      "RESULT: \n",
      "optimizer=rmsprop, activation=sigmoid\n",
      "batch_size=130, epoch=4000, regularizer=0.00100, loss=  5.8163e-01, AccIn=0.69171, AccOut=0.64615\n",
      "\n",
      "==================================================================================================\n",
      "\n",
      "RESULT: \n",
      "optimizer=rmsprop, activation=sigmoid\n",
      "batch_size=130, epoch=7000, regularizer=0.00100, loss=  5.6862e-01, AccIn=0.69171, AccOut=0.70769\n",
      "\n",
      "==================================================================================================\n",
      "\n",
      "RESULT: \n",
      "optimizer=rmsprop, activation=sigmoid\n",
      "batch_size=130, epoch=10000, regularizer=0.00100, loss=  5.4178e-01, AccIn=0.72062, AccOut=0.60769\n",
      "\n",
      "==================================================================================================\n",
      "\n",
      "RESULT: \n",
      "optimizer=rmsprop, activation=sigmoid\n",
      "batch_size=230, epoch=1000, regularizer=0.00100, loss=  6.2324e-01, AccIn=0.66859, AccOut=0.66923\n",
      "\n",
      "==================================================================================================\n",
      "\n",
      "RESULT: \n",
      "optimizer=rmsprop, activation=sigmoid\n",
      "batch_size=230, epoch=4000, regularizer=0.00100, loss=  5.8306e-01, AccIn=0.70713, AccOut=0.61538\n",
      "\n",
      "==================================================================================================\n",
      "\n",
      "RESULT: \n",
      "optimizer=rmsprop, activation=sigmoid\n",
      "batch_size=230, epoch=7000, regularizer=0.00100, loss=  5.6789e-01, AccIn=0.71291, AccOut=0.58462\n",
      "\n",
      "==================================================================================================\n",
      "\n",
      "RESULT: \n",
      "optimizer=rmsprop, activation=sigmoid\n",
      "batch_size=230, epoch=10000, regularizer=0.00100, loss=  5.6496e-01, AccIn=0.68979, AccOut=0.68462\n",
      "\n",
      "==================================================================================================\n",
      "\n",
      "RESULT: \n",
      "optimizer=rmsprop, activation=sigmoid\n",
      "batch_size=330, epoch=1000, regularizer=0.00100, loss=  6.2925e-01, AccIn=0.67630, AccOut=0.63846\n",
      "\n",
      "==================================================================================================\n",
      "\n",
      "RESULT: \n",
      "optimizer=rmsprop, activation=sigmoid\n",
      "batch_size=330, epoch=4000, regularizer=0.00100, loss=  5.8847e-01, AccIn=0.70135, AccOut=0.65385\n",
      "\n",
      "==================================================================================================\n",
      "\n",
      "RESULT: \n",
      "optimizer=rmsprop, activation=sigmoid\n",
      "batch_size=330, epoch=7000, regularizer=0.00100, loss=  5.7020e-01, AccIn=0.69942, AccOut=0.61538\n",
      "\n",
      "==================================================================================================\n",
      "\n",
      "RESULT: \n",
      "optimizer=rmsprop, activation=sigmoid\n",
      "batch_size=330, epoch=10000, regularizer=0.00100, loss=  5.5868e-01, AccIn=0.71676, AccOut=0.66154\n",
      "\n",
      "==================================================================================================\n",
      "\n",
      "RESULT: \n",
      "optimizer=rmsprop, activation=sigmoid\n",
      "batch_size=430, epoch=1000, regularizer=0.00100, loss=  6.3652e-01, AccIn=0.66474, AccOut=0.64615\n",
      "\n",
      "==================================================================================================\n",
      "\n",
      "RESULT: \n",
      "optimizer=rmsprop, activation=sigmoid\n",
      "batch_size=430, epoch=4000, regularizer=0.00100, loss=  6.0311e-01, AccIn=0.68401, AccOut=0.60769\n",
      "\n",
      "==================================================================================================\n",
      "\n",
      "RESULT: \n",
      "optimizer=rmsprop, activation=sigmoid\n",
      "batch_size=430, epoch=7000, regularizer=0.00100, loss=  5.8695e-01, AccIn=0.71098, AccOut=0.63077\n",
      "\n",
      "==================================================================================================\n",
      "\n",
      "RESULT: \n",
      "optimizer=rmsprop, activation=sigmoid\n",
      "batch_size=430, epoch=10000, regularizer=0.00100, loss=  5.7756e-01, AccIn=0.69171, AccOut=0.65385\n",
      "\n",
      "==================================================================================================\n",
      "\n",
      "RESULT: \n",
      "optimizer=rmsprop, activation=sigmoid\n",
      "batch_size=530, epoch=1000, regularizer=0.00100, loss=  6.7181e-01, AccIn=0.59538, AccOut=0.54615\n",
      "\n",
      "==================================================================================================\n",
      "\n",
      "RESULT: \n",
      "optimizer=rmsprop, activation=sigmoid\n",
      "batch_size=530, epoch=4000, regularizer=0.00100, loss=  6.1524e-01, AccIn=0.61850, AccOut=0.56154\n",
      "\n",
      "==================================================================================================\n",
      "\n",
      "RESULT: \n",
      "optimizer=rmsprop, activation=sigmoid\n",
      "batch_size=530, epoch=7000, regularizer=0.00100, loss=  5.8545e-01, AccIn=0.67052, AccOut=0.58462\n",
      "\n",
      "==================================================================================================\n",
      "\n",
      "RESULT: \n",
      "optimizer=rmsprop, activation=sigmoid\n",
      "batch_size=530, epoch=10000, regularizer=0.00100, loss=  5.6643e-01, AccIn=0.68786, AccOut=0.62308\n",
      "\n",
      "==================================================================================================\n"
     ]
    }
   ],
   "source": [
    "### for all sigmoid functions with rmsprop, with one hidden layer. changing iter size, regularizer rate, and batch size,\n",
    "for batch_size in range(30, 600, 100):\n",
    "    for iter_time in range(1000, 10001, 3000):\n",
    "        K.clear_session()\n",
    "        nn_classifier(X_different_three_news_extra, Y_different_three_news_extra,[6],'sigmoid', 0.001,\"rmsprop\",batch_size,iter_time)\n",
    "        print(\"==================================================================================================\")\n"
   ]
  },
  {
   "cell_type": "markdown",
   "metadata": {},
   "source": [
    "### relu, SGD"
   ]
  },
  {
   "cell_type": "code",
   "execution_count": 73,
   "metadata": {},
   "outputs": [
    {
     "name": "stdout",
     "output_type": "stream",
     "text": [
      "\n",
      "RESULT: \n",
      "optimizer=sgd, activation=relu\n",
      "batch_size= 30, epoch=1000, regularizer=0.00100, loss=  6.3608e-01, AccIn=0.74525, AccOut=0.61364\n",
      "\n",
      "==================================================================================================\n",
      "\n",
      "RESULT: \n",
      "optimizer=sgd, activation=relu\n",
      "batch_size= 30, epoch=4000, regularizer=0.00100, loss=  8.4286e+00, AccIn=0.47529, AccOut=0.45455\n",
      "\n",
      "==================================================================================================\n",
      "\n",
      "RESULT: \n",
      "optimizer=sgd, activation=relu\n",
      "batch_size= 30, epoch=7000, regularizer=0.00100, loss=  7.9778e-01, AccIn=0.65779, AccOut=0.58333\n",
      "\n",
      "==================================================================================================\n",
      "\n",
      "RESULT: \n",
      "optimizer=sgd, activation=relu\n",
      "batch_size= 30, epoch=10000, regularizer=0.00100, loss=  8.7028e+00, AccIn=0.46008, AccOut=0.46970\n",
      "\n",
      "==================================================================================================\n",
      "\n",
      "RESULT: \n",
      "optimizer=sgd, activation=relu\n",
      "batch_size=130, epoch=1000, regularizer=0.00100, loss=  4.9973e-01, AccIn=0.75095, AccOut=0.62879\n",
      "\n",
      "==================================================================================================\n",
      "\n",
      "RESULT: \n",
      "optimizer=sgd, activation=relu\n",
      "batch_size=130, epoch=4000, regularizer=0.00100, loss=  5.0473e-01, AccIn=0.69962, AccOut=0.62121\n",
      "\n",
      "==================================================================================================\n",
      "\n",
      "RESULT: \n",
      "optimizer=sgd, activation=relu\n",
      "batch_size=130, epoch=7000, regularizer=0.00100, loss=  5.1718e-01, AccIn=0.72053, AccOut=0.56061\n",
      "\n",
      "==================================================================================================\n",
      "\n",
      "RESULT: \n",
      "optimizer=sgd, activation=relu\n",
      "batch_size=130, epoch=10000, regularizer=0.00100, loss=  8.7026e+00, AccIn=0.46008, AccOut=0.46970\n",
      "\n",
      "==================================================================================================\n",
      "\n",
      "RESULT: \n",
      "optimizer=sgd, activation=relu\n",
      "batch_size=230, epoch=1000, regularizer=0.00100, loss=  5.6853e-01, AccIn=0.68631, AccOut=0.68939\n",
      "\n",
      "==================================================================================================\n",
      "\n",
      "RESULT: \n",
      "optimizer=sgd, activation=relu\n",
      "batch_size=230, epoch=4000, regularizer=0.00100, loss=  8.7332e+00, AccIn=0.45817, AccOut=0.47727\n",
      "\n",
      "==================================================================================================\n",
      "\n",
      "RESULT: \n",
      "optimizer=sgd, activation=relu\n",
      "batch_size=230, epoch=7000, regularizer=0.00100, loss=  4.2546e-01, AccIn=0.77186, AccOut=0.53030\n",
      "\n",
      "==================================================================================================\n",
      "\n",
      "RESULT: \n",
      "optimizer=sgd, activation=relu\n",
      "batch_size=230, epoch=10000, regularizer=0.00100, loss=  8.7026e+00, AccIn=0.46008, AccOut=0.46970\n",
      "\n",
      "==================================================================================================\n",
      "\n",
      "RESULT: \n",
      "optimizer=sgd, activation=relu\n",
      "batch_size=330, epoch=1000, regularizer=0.00100, loss=  5.8138e-01, AccIn=0.70152, AccOut=0.68182\n",
      "\n",
      "==================================================================================================\n",
      "\n",
      "RESULT: \n",
      "optimizer=sgd, activation=relu\n",
      "batch_size=330, epoch=4000, regularizer=0.00100, loss=  4.7419e-01, AccIn=0.76426, AccOut=0.56061\n",
      "\n",
      "==================================================================================================\n",
      "\n",
      "RESULT: \n",
      "optimizer=sgd, activation=relu\n",
      "batch_size=330, epoch=7000, regularizer=0.00100, loss=  4.6533e-01, AccIn=0.76806, AccOut=0.63636\n",
      "\n",
      "==================================================================================================\n",
      "\n",
      "RESULT: \n",
      "optimizer=sgd, activation=relu\n",
      "batch_size=330, epoch=10000, regularizer=0.00100, loss=  4.5795e-01, AccIn=0.76426, AccOut=0.57576\n",
      "\n",
      "==================================================================================================\n",
      "\n",
      "RESULT: \n",
      "optimizer=sgd, activation=relu\n",
      "batch_size=430, epoch=1000, regularizer=0.00100, loss=  6.0149e-01, AccIn=0.65970, AccOut=0.65152\n",
      "\n",
      "==================================================================================================\n",
      "\n",
      "RESULT: \n",
      "optimizer=sgd, activation=relu\n",
      "batch_size=430, epoch=4000, regularizer=0.00100, loss=  8.7945e+00, AccIn=0.45437, AccOut=0.49242\n",
      "\n",
      "==================================================================================================\n",
      "\n",
      "RESULT: \n",
      "optimizer=sgd, activation=relu\n",
      "batch_size=430, epoch=7000, regularizer=0.00100, loss=  4.5445e-01, AccIn=0.77947, AccOut=0.60606\n",
      "\n",
      "==================================================================================================\n",
      "\n",
      "RESULT: \n",
      "optimizer=sgd, activation=relu\n",
      "batch_size=430, epoch=10000, regularizer=0.00100, loss=  5.4051e-01, AccIn=0.75475, AccOut=0.61364\n",
      "\n",
      "==================================================================================================\n",
      "\n",
      "RESULT: \n",
      "optimizer=sgd, activation=relu\n",
      "batch_size=530, epoch=1000, regularizer=0.00100, loss=  6.3440e-01, AccIn=0.63118, AccOut=0.53030\n",
      "\n",
      "==================================================================================================\n",
      "\n",
      "RESULT: \n",
      "optimizer=sgd, activation=relu\n",
      "batch_size=530, epoch=4000, regularizer=0.00100, loss=  5.6863e-01, AccIn=0.67490, AccOut=0.57576\n",
      "\n",
      "==================================================================================================\n",
      "\n",
      "RESULT: \n",
      "optimizer=sgd, activation=relu\n",
      "batch_size=530, epoch=7000, regularizer=0.00100, loss=  5.8327e-01, AccIn=0.65970, AccOut=0.59848\n",
      "\n",
      "==================================================================================================\n",
      "\n",
      "RESULT: \n",
      "optimizer=sgd, activation=relu\n",
      "batch_size=530, epoch=10000, regularizer=0.00100, loss=  5.1803e-01, AccIn=0.70532, AccOut=0.56818\n",
      "\n",
      "==================================================================================================\n"
     ]
    }
   ],
   "source": [
    "### for all relu functions with sgd, with one hidden layer. changing iter size, regularizer rate, and batch size,\n",
    "for batch_size in range(30, 600, 100):\n",
    "    for iter_time in range(1000, 10001, 3000):\n",
    "        K.clear_session()\n",
    "        nn_classifier(X_different_all_news_extra, Y_different_all_news_extra,[15],'relu', 0.001,\"sgd\",batch_size,iter_time)\n",
    "        print(\"==================================================================================================\")\n"
   ]
  },
  {
   "cell_type": "code",
   "execution_count": 74,
   "metadata": {},
   "outputs": [
    {
     "name": "stdout",
     "output_type": "stream",
     "text": [
      "\n",
      "RESULT: \n",
      "optimizer=sgd, activation=relu\n",
      "batch_size= 30, epoch=1000, regularizer=0.00100, loss=  6.0335e-01, AccIn=0.70135, AccOut=0.62308\n",
      "\n",
      "==================================================================================================\n",
      "\n",
      "RESULT: \n",
      "optimizer=sgd, activation=relu\n",
      "batch_size= 30, epoch=4000, regularizer=0.00100, loss=  5.4179e-01, AccIn=0.69364, AccOut=0.62308\n",
      "\n",
      "==================================================================================================\n",
      "\n",
      "RESULT: \n",
      "optimizer=sgd, activation=relu\n",
      "batch_size= 30, epoch=7000, regularizer=0.00100, loss=  6.4763e-01, AccIn=0.69942, AccOut=0.56154\n",
      "\n",
      "==================================================================================================\n",
      "\n",
      "RESULT: \n",
      "optimizer=sgd, activation=relu\n",
      "batch_size= 30, epoch=10000, regularizer=0.00100, loss=  7.3845e-01, AccIn=0.70135, AccOut=0.57692\n",
      "\n",
      "==================================================================================================\n",
      "\n",
      "RESULT: \n",
      "optimizer=sgd, activation=relu\n",
      "batch_size=130, epoch=1000, regularizer=0.00100, loss=  8.6337e+00, AccIn=0.46435, AccOut=0.45385\n",
      "\n",
      "==================================================================================================\n",
      "\n",
      "RESULT: \n",
      "optimizer=sgd, activation=relu\n",
      "batch_size=130, epoch=4000, regularizer=0.00100, loss=  5.4273e-01, AccIn=0.73603, AccOut=0.61538\n",
      "\n",
      "==================================================================================================\n",
      "\n",
      "RESULT: \n",
      "optimizer=sgd, activation=relu\n",
      "batch_size=130, epoch=7000, regularizer=0.00100, loss=  8.6039e+00, AccIn=0.46628, AccOut=0.44615\n",
      "\n",
      "==================================================================================================\n",
      "\n",
      "RESULT: \n",
      "optimizer=sgd, activation=relu\n",
      "batch_size=130, epoch=10000, regularizer=0.00100, loss=  5.3887e-01, AccIn=0.70520, AccOut=0.70000\n",
      "\n",
      "==================================================================================================\n",
      "\n",
      "RESULT: \n",
      "optimizer=sgd, activation=relu\n",
      "batch_size=230, epoch=1000, regularizer=0.00100, loss=  5.6870e-01, AccIn=0.70906, AccOut=0.67692\n",
      "\n",
      "==================================================================================================\n",
      "\n",
      "RESULT: \n",
      "optimizer=sgd, activation=relu\n",
      "batch_size=230, epoch=4000, regularizer=0.00100, loss=  5.5218e-01, AccIn=0.70328, AccOut=0.56923\n",
      "\n",
      "==================================================================================================\n",
      "\n",
      "RESULT: \n",
      "optimizer=sgd, activation=relu\n",
      "batch_size=230, epoch=7000, regularizer=0.00100, loss=  5.7199e-01, AccIn=0.71484, AccOut=0.67692\n",
      "\n",
      "==================================================================================================\n",
      "\n",
      "RESULT: \n",
      "optimizer=sgd, activation=relu\n",
      "batch_size=230, epoch=10000, regularizer=0.00100, loss=  5.6016e-01, AccIn=0.70906, AccOut=0.70000\n",
      "\n",
      "==================================================================================================\n",
      "\n",
      "RESULT: \n",
      "optimizer=sgd, activation=relu\n",
      "batch_size=330, epoch=1000, regularizer=0.00100, loss=  6.3679e-01, AccIn=0.66474, AccOut=0.65385\n",
      "\n",
      "==================================================================================================\n",
      "\n",
      "RESULT: \n",
      "optimizer=sgd, activation=relu\n",
      "batch_size=330, epoch=4000, regularizer=0.00100, loss=  5.7646e-01, AccIn=0.70713, AccOut=0.67692\n",
      "\n",
      "==================================================================================================\n",
      "\n",
      "RESULT: \n",
      "optimizer=sgd, activation=relu\n",
      "batch_size=330, epoch=7000, regularizer=0.00100, loss=  5.7531e-01, AccIn=0.71098, AccOut=0.68462\n",
      "\n",
      "==================================================================================================\n",
      "\n",
      "RESULT: \n",
      "optimizer=sgd, activation=relu\n",
      "batch_size=330, epoch=10000, regularizer=0.00100, loss=  5.3457e-01, AccIn=0.74374, AccOut=0.65385\n",
      "\n",
      "==================================================================================================\n",
      "\n",
      "RESULT: \n",
      "optimizer=sgd, activation=relu\n",
      "batch_size=430, epoch=1000, regularizer=0.00100, loss=  6.1798e-01, AccIn=0.69942, AccOut=0.56154\n",
      "\n",
      "==================================================================================================\n",
      "\n",
      "RESULT: \n",
      "optimizer=sgd, activation=relu\n",
      "batch_size=430, epoch=4000, regularizer=0.00100, loss=  5.8503e-01, AccIn=0.71098, AccOut=0.64615\n",
      "\n",
      "==================================================================================================\n",
      "\n",
      "RESULT: \n",
      "optimizer=sgd, activation=relu\n",
      "batch_size=430, epoch=7000, regularizer=0.00100, loss=  5.9136e-01, AccIn=0.68593, AccOut=0.63846\n",
      "\n",
      "==================================================================================================\n",
      "\n",
      "RESULT: \n",
      "optimizer=sgd, activation=relu\n",
      "batch_size=430, epoch=10000, regularizer=0.00100, loss=  5.6192e-01, AccIn=0.70520, AccOut=0.61538\n",
      "\n",
      "==================================================================================================\n",
      "\n",
      "RESULT: \n",
      "optimizer=sgd, activation=relu\n",
      "batch_size=530, epoch=1000, regularizer=0.00100, loss=  6.4118e-01, AccIn=0.56455, AccOut=0.46923\n",
      "\n",
      "==================================================================================================\n",
      "\n",
      "RESULT: \n",
      "optimizer=sgd, activation=relu\n",
      "batch_size=530, epoch=4000, regularizer=0.00100, loss=  6.3850e-01, AccIn=0.53565, AccOut=0.50000\n",
      "\n",
      "==================================================================================================\n",
      "\n",
      "RESULT: \n",
      "optimizer=sgd, activation=relu\n",
      "batch_size=530, epoch=7000, regularizer=0.00100, loss=  6.0060e-01, AccIn=0.63006, AccOut=0.51538\n",
      "\n",
      "==================================================================================================\n",
      "\n",
      "RESULT: \n",
      "optimizer=sgd, activation=relu\n",
      "batch_size=530, epoch=10000, regularizer=0.00100, loss=  6.2633e-01, AccIn=0.61079, AccOut=0.53846\n",
      "\n",
      "==================================================================================================\n"
     ]
    }
   ],
   "source": [
    "### for all relu functions with sgd, with one hidden layer. changing iter size, regularizer rate, and batch size,\n",
    "for batch_size in range(30, 600, 100):\n",
    "    for iter_time in range(1000, 10001, 3000):\n",
    "        K.clear_session()\n",
    "        nn_classifier(X_different_three_news_extra, Y_different_three_news_extra,[6],'relu', 0.001,\"sgd\",batch_size,iter_time)\n",
    "        print(\"==================================================================================================\")\n"
   ]
  },
  {
   "cell_type": "markdown",
   "metadata": {},
   "source": [
    "### relu, RMSprop"
   ]
  },
  {
   "cell_type": "code",
   "execution_count": 75,
   "metadata": {},
   "outputs": [
    {
     "name": "stdout",
     "output_type": "stream",
     "text": [
      "\n",
      "RESULT: \n",
      "optimizer=rmsprop, activation=relu\n",
      "batch_size= 30, epoch=1000, regularizer=0.00100, loss=  3.8717e-01, AccIn=0.81369, AccOut=0.58333\n",
      "\n",
      "==================================================================================================\n",
      "\n",
      "RESULT: \n",
      "optimizer=rmsprop, activation=relu\n",
      "batch_size= 30, epoch=4000, regularizer=0.00100, loss=  5.2062e-01, AccIn=0.75475, AccOut=0.53030\n",
      "\n",
      "==================================================================================================\n",
      "\n",
      "RESULT: \n",
      "optimizer=rmsprop, activation=relu\n",
      "batch_size= 30, epoch=7000, regularizer=0.00100, loss=  5.2589e-01, AccIn=0.80228, AccOut=0.55303\n",
      "\n",
      "==================================================================================================\n",
      "\n",
      "RESULT: \n",
      "optimizer=rmsprop, activation=relu\n",
      "batch_size= 30, epoch=10000, regularizer=0.00100, loss=  3.3152e-01, AccIn=0.80038, AccOut=0.55303\n",
      "\n",
      "==================================================================================================\n",
      "\n",
      "RESULT: \n",
      "optimizer=rmsprop, activation=relu\n",
      "batch_size=130, epoch=1000, regularizer=0.00100, loss=  4.8771e-01, AccIn=0.77186, AccOut=0.71212\n",
      "\n",
      "==================================================================================================\n",
      "\n",
      "RESULT: \n",
      "optimizer=rmsprop, activation=relu\n",
      "batch_size=130, epoch=4000, regularizer=0.00100, loss=  4.5520e-01, AccIn=0.79848, AccOut=0.62879\n",
      "\n",
      "==================================================================================================\n",
      "\n",
      "RESULT: \n",
      "optimizer=rmsprop, activation=relu\n",
      "batch_size=130, epoch=7000, regularizer=0.00100, loss=  4.1608e-01, AccIn=0.83840, AccOut=0.59848\n",
      "\n",
      "==================================================================================================\n",
      "\n",
      "RESULT: \n",
      "optimizer=rmsprop, activation=relu\n",
      "batch_size=130, epoch=10000, regularizer=0.00100, loss=  3.4179e-01, AccIn=0.83080, AccOut=0.60606\n",
      "\n",
      "==================================================================================================\n",
      "\n",
      "RESULT: \n",
      "optimizer=rmsprop, activation=relu\n",
      "batch_size=230, epoch=1000, regularizer=0.00100, loss=  4.2789e-01, AccIn=0.78327, AccOut=0.66667\n",
      "\n",
      "==================================================================================================\n",
      "\n",
      "RESULT: \n",
      "optimizer=rmsprop, activation=relu\n",
      "batch_size=230, epoch=4000, regularizer=0.00100, loss=  3.6277e-01, AccIn=0.84981, AccOut=0.55303\n",
      "\n",
      "==================================================================================================\n",
      "\n",
      "RESULT: \n",
      "optimizer=rmsprop, activation=relu\n",
      "batch_size=230, epoch=7000, regularizer=0.00100, loss=  4.5855e-01, AccIn=0.82319, AccOut=0.68182\n",
      "\n",
      "==================================================================================================\n",
      "\n",
      "RESULT: \n",
      "optimizer=rmsprop, activation=relu\n",
      "batch_size=230, epoch=10000, regularizer=0.00100, loss=  3.4810e-01, AccIn=0.83460, AccOut=0.53788\n",
      "\n",
      "==================================================================================================\n",
      "\n",
      "RESULT: \n",
      "optimizer=rmsprop, activation=relu\n",
      "batch_size=330, epoch=1000, regularizer=0.00100, loss=  4.4245e-01, AccIn=0.77947, AccOut=0.58333\n",
      "\n",
      "==================================================================================================\n",
      "\n",
      "RESULT: \n",
      "optimizer=rmsprop, activation=relu\n",
      "batch_size=330, epoch=4000, regularizer=0.00100, loss=  3.7046e-01, AccIn=0.82319, AccOut=0.50758\n",
      "\n",
      "==================================================================================================\n",
      "\n",
      "RESULT: \n",
      "optimizer=rmsprop, activation=relu\n",
      "batch_size=330, epoch=7000, regularizer=0.00100, loss=  4.0976e-01, AccIn=0.81939, AccOut=0.54545\n",
      "\n",
      "==================================================================================================\n",
      "\n",
      "RESULT: \n",
      "optimizer=rmsprop, activation=relu\n",
      "batch_size=330, epoch=10000, regularizer=0.00100, loss=  3.2849e-01, AccIn=0.82510, AccOut=0.54545\n",
      "\n",
      "==================================================================================================\n",
      "\n",
      "RESULT: \n",
      "optimizer=rmsprop, activation=relu\n",
      "batch_size=430, epoch=1000, regularizer=0.00100, loss=  5.2296e-01, AccIn=0.76996, AccOut=0.63636\n",
      "\n",
      "==================================================================================================\n",
      "\n",
      "RESULT: \n",
      "optimizer=rmsprop, activation=relu\n",
      "batch_size=430, epoch=4000, regularizer=0.00100, loss=  3.8241e-01, AccIn=0.81749, AccOut=0.57576\n",
      "\n",
      "==================================================================================================\n",
      "\n",
      "RESULT: \n",
      "optimizer=rmsprop, activation=relu\n",
      "batch_size=430, epoch=7000, regularizer=0.00100, loss=  4.1704e-01, AccIn=0.81749, AccOut=0.56061\n",
      "\n",
      "==================================================================================================\n",
      "\n",
      "RESULT: \n",
      "optimizer=rmsprop, activation=relu\n",
      "batch_size=430, epoch=10000, regularizer=0.00100, loss=  3.9066e-01, AccIn=0.80418, AccOut=0.57576\n",
      "\n",
      "==================================================================================================\n",
      "\n",
      "RESULT: \n",
      "optimizer=rmsprop, activation=relu\n",
      "batch_size=530, epoch=1000, regularizer=0.00100, loss=  5.1830e-01, AccIn=0.72053, AccOut=0.56818\n",
      "\n",
      "==================================================================================================\n",
      "\n",
      "RESULT: \n",
      "optimizer=rmsprop, activation=relu\n",
      "batch_size=530, epoch=4000, regularizer=0.00100, loss=  5.1578e-01, AccIn=0.79468, AccOut=0.56061\n",
      "\n",
      "==================================================================================================\n",
      "\n",
      "RESULT: \n",
      "optimizer=rmsprop, activation=relu\n",
      "batch_size=530, epoch=7000, regularizer=0.00100, loss=  3.9482e-01, AccIn=0.80608, AccOut=0.58333\n",
      "\n",
      "==================================================================================================\n",
      "\n",
      "RESULT: \n",
      "optimizer=rmsprop, activation=relu\n",
      "batch_size=530, epoch=10000, regularizer=0.00100, loss=  4.3994e-01, AccIn=0.75475, AccOut=0.55303\n",
      "\n",
      "==================================================================================================\n"
     ]
    }
   ],
   "source": [
    "### for all relu functions with rmsprop, with one hidden layer. changing iter size, regularizer rate, and batch size,\n",
    "for batch_size in range(30, 600, 100):\n",
    "    for iter_time in range(1000, 10001, 3000):\n",
    "        K.clear_session()\n",
    "        nn_classifier(X_different_all_news_extra, Y_different_all_news_extra,[15],'relu', 0.001,\"rmsprop\",batch_size,iter_time)\n",
    "        print(\"==================================================================================================\")\n"
   ]
  },
  {
   "cell_type": "code",
   "execution_count": 76,
   "metadata": {},
   "outputs": [
    {
     "name": "stdout",
     "output_type": "stream",
     "text": [
      "\n",
      "RESULT: \n",
      "optimizer=rmsprop, activation=relu\n",
      "batch_size= 30, epoch=1000, regularizer=0.00100, loss=  6.5440e-01, AccIn=0.73410, AccOut=0.64615\n",
      "\n",
      "==================================================================================================\n",
      "\n",
      "RESULT: \n",
      "optimizer=rmsprop, activation=relu\n",
      "batch_size= 30, epoch=4000, regularizer=0.00100, loss=  5.9349e-01, AccIn=0.68208, AccOut=0.64615\n",
      "\n",
      "==================================================================================================\n",
      "\n",
      "RESULT: \n",
      "optimizer=rmsprop, activation=relu\n",
      "batch_size= 30, epoch=7000, regularizer=0.00100, loss=  5.3251e-01, AccIn=0.70713, AccOut=0.62308\n",
      "\n",
      "==================================================================================================\n",
      "\n",
      "RESULT: \n",
      "optimizer=rmsprop, activation=relu\n",
      "batch_size= 30, epoch=10000, regularizer=0.00100, loss=  5.6048e-01, AccIn=0.70906, AccOut=0.65385\n",
      "\n",
      "==================================================================================================\n",
      "\n",
      "RESULT: \n",
      "optimizer=rmsprop, activation=relu\n",
      "batch_size=130, epoch=1000, regularizer=0.00100, loss=  5.6860e-01, AccIn=0.68979, AccOut=0.66154\n",
      "\n",
      "==================================================================================================\n",
      "\n",
      "RESULT: \n",
      "optimizer=rmsprop, activation=relu\n",
      "batch_size=130, epoch=4000, regularizer=0.00100, loss=  5.6041e-01, AccIn=0.71291, AccOut=0.60769\n",
      "\n",
      "==================================================================================================\n",
      "\n",
      "RESULT: \n",
      "optimizer=rmsprop, activation=relu\n",
      "batch_size=130, epoch=7000, regularizer=0.00100, loss=  5.7313e-01, AccIn=0.71676, AccOut=0.68462\n",
      "\n",
      "==================================================================================================\n",
      "\n",
      "RESULT: \n",
      "optimizer=rmsprop, activation=relu\n",
      "batch_size=130, epoch=10000, regularizer=0.00100, loss=  5.3202e-01, AccIn=0.71869, AccOut=0.63077\n",
      "\n",
      "==================================================================================================\n",
      "\n",
      "RESULT: \n",
      "optimizer=rmsprop, activation=relu\n",
      "batch_size=230, epoch=1000, regularizer=0.00100, loss=  5.7116e-01, AccIn=0.66089, AccOut=0.61538\n",
      "\n",
      "==================================================================================================\n",
      "\n",
      "RESULT: \n",
      "optimizer=rmsprop, activation=relu\n",
      "batch_size=230, epoch=4000, regularizer=0.00100, loss=  5.2581e-01, AccIn=0.73988, AccOut=0.63077\n",
      "\n",
      "==================================================================================================\n",
      "\n",
      "RESULT: \n",
      "optimizer=rmsprop, activation=relu\n",
      "batch_size=230, epoch=7000, regularizer=0.00100, loss=  5.2488e-01, AccIn=0.70135, AccOut=0.69231\n",
      "\n",
      "==================================================================================================\n",
      "\n",
      "RESULT: \n",
      "optimizer=rmsprop, activation=relu\n",
      "batch_size=230, epoch=10000, regularizer=0.00100, loss=  5.7585e-01, AccIn=0.68786, AccOut=0.63846\n",
      "\n",
      "==================================================================================================\n",
      "\n",
      "RESULT: \n",
      "optimizer=rmsprop, activation=relu\n",
      "batch_size=330, epoch=1000, regularizer=0.00100, loss=  6.0729e-01, AccIn=0.68401, AccOut=0.63846\n",
      "\n",
      "==================================================================================================\n",
      "\n",
      "RESULT: \n",
      "optimizer=rmsprop, activation=relu\n",
      "batch_size=330, epoch=4000, regularizer=0.00100, loss=  6.0987e-01, AccIn=0.73988, AccOut=0.60769\n",
      "\n",
      "==================================================================================================\n",
      "\n",
      "RESULT: \n",
      "optimizer=rmsprop, activation=relu\n",
      "batch_size=330, epoch=7000, regularizer=0.00100, loss=  5.4328e-01, AccIn=0.72447, AccOut=0.63846\n",
      "\n",
      "==================================================================================================\n",
      "\n",
      "RESULT: \n",
      "optimizer=rmsprop, activation=relu\n",
      "batch_size=330, epoch=10000, regularizer=0.00100, loss=  5.3353e-01, AccIn=0.68786, AccOut=0.66154\n",
      "\n",
      "==================================================================================================\n",
      "\n",
      "RESULT: \n",
      "optimizer=rmsprop, activation=relu\n",
      "batch_size=430, epoch=1000, regularizer=0.00100, loss=  5.6106e-01, AccIn=0.66089, AccOut=0.60000\n",
      "\n",
      "==================================================================================================\n",
      "\n",
      "RESULT: \n",
      "optimizer=rmsprop, activation=relu\n",
      "batch_size=430, epoch=4000, regularizer=0.00100, loss=  5.7556e-01, AccIn=0.68015, AccOut=0.59231\n",
      "\n",
      "==================================================================================================\n",
      "\n",
      "RESULT: \n",
      "optimizer=rmsprop, activation=relu\n",
      "batch_size=430, epoch=7000, regularizer=0.00100, loss=  5.3794e-01, AccIn=0.69557, AccOut=0.55385\n",
      "\n",
      "==================================================================================================\n",
      "\n",
      "RESULT: \n",
      "optimizer=rmsprop, activation=relu\n",
      "batch_size=430, epoch=10000, regularizer=0.00100, loss=  5.2431e-01, AccIn=0.73218, AccOut=0.67692\n",
      "\n",
      "==================================================================================================\n",
      "\n",
      "RESULT: \n",
      "optimizer=rmsprop, activation=relu\n",
      "batch_size=530, epoch=1000, regularizer=0.00100, loss=  5.8947e-01, AccIn=0.65703, AccOut=0.56154\n",
      "\n",
      "==================================================================================================\n",
      "\n",
      "RESULT: \n",
      "optimizer=rmsprop, activation=relu\n",
      "batch_size=530, epoch=4000, regularizer=0.00100, loss=  5.7315e-01, AccIn=0.67630, AccOut=0.53077\n",
      "\n",
      "==================================================================================================\n",
      "\n",
      "RESULT: \n",
      "optimizer=rmsprop, activation=relu\n",
      "batch_size=530, epoch=7000, regularizer=0.00100, loss=  5.6809e-01, AccIn=0.67245, AccOut=0.52308\n",
      "\n",
      "==================================================================================================\n",
      "\n",
      "RESULT: \n",
      "optimizer=rmsprop, activation=relu\n",
      "batch_size=530, epoch=10000, regularizer=0.00100, loss=  5.7055e-01, AccIn=0.68786, AccOut=0.60000\n",
      "\n",
      "==================================================================================================\n"
     ]
    }
   ],
   "source": [
    "### for all relu functions with rmsprop, with one hidden layer. changing iter size, regularizer rate, and batch size,\n",
    "for batch_size in range(30, 600, 100):\n",
    "    for iter_time in range(1000, 10001, 3000):\n",
    "        K.clear_session()\n",
    "        nn_classifier(X_different_three_news_extra, Y_different_three_news_extra,[6],'relu', 0.001,\"rmsprop\",batch_size,iter_time)\n",
    "        print(\"==================================================================================================\")\n"
   ]
  },
  {
   "cell_type": "markdown",
   "metadata": {},
   "source": [
    "### Further improve by set regularizer and hidden layer\n",
    "the best model for all news paramters within 1000-10000 iter size, 30 - 600 batch size, and relu or sigmoid, and RMSprop or SGD is <br>\n",
    "the best model for three news paramters within 1000-10000 iter size, 30 - 600 batch size, and relu or sigmoid, and RMSprop or SGD is <br>"
   ]
  },
  {
   "cell_type": "code",
   "execution_count": 77,
   "metadata": {},
   "outputs": [],
   "source": [
    "iter_size_all = 1000\n",
    "batch_all = 130\n",
    "active_f_all = \"relu\"\n",
    "opti_f_all = \"rmsprop\"\n",
    "\n",
    "iter_size_three = 7000\n",
    "batch_three = 30\n",
    "active_f_three = \"sigmoid\" \n",
    "opti_f_three = \"rmsprop\"\n",
    "\n",
    "hidden_layer_all_parameter = [15,8]\n",
    "hidden_layer_three_parameter = [6,3]\n",
    "\n",
    "def test_regu_hid(x,y,layer,active_f,opti_f,batch,iter_size):\n",
    "    for reglu in range(5):\n",
    "        K.clear_session()\n",
    "        nn_classifier(X_different_three_news_extra, Y_different_three_news_extra,[6],'relu', 0.001,\"rmsprop\",batch_size,iter_time)\n",
    "        nn_classifier(x, y,layer,active_f, 0.001,opti_f,batch,iter_size)\n",
    "        print(\"==================================================================================================\")"
   ]
  },
  {
   "cell_type": "code",
   "execution_count": 80,
   "metadata": {},
   "outputs": [
    {
     "name": "stdout",
     "output_type": "stream",
     "text": [
      "\n",
      "RESULT: \n",
      "optimizer=rmsprop, activation=relu\n",
      "batch_size=130, epoch=1000, regularizer=0.00001, loss=  5.2701e-01, AccIn=0.74144, AccOut=0.57576\n",
      "\n",
      "==================================================================================================\n",
      "\n",
      "RESULT: \n",
      "optimizer=rmsprop, activation=relu\n",
      "batch_size=130, epoch=1000, regularizer=0.00010, loss=  4.8254e-01, AccIn=0.78327, AccOut=0.59091\n",
      "\n",
      "==================================================================================================\n",
      "\n",
      "RESULT: \n",
      "optimizer=rmsprop, activation=relu\n",
      "batch_size=130, epoch=1000, regularizer=0.00100, loss=  4.3879e-01, AccIn=0.76806, AccOut=0.57576\n",
      "\n",
      "==================================================================================================\n",
      "\n",
      "RESULT: \n",
      "optimizer=rmsprop, activation=relu\n",
      "batch_size=130, epoch=1000, regularizer=0.01000, loss=  7.3488e-01, AccIn=0.56274, AccOut=0.59091\n",
      "\n",
      "==================================================================================================\n",
      "\n",
      "RESULT: \n",
      "optimizer=rmsprop, activation=relu\n",
      "batch_size=130, epoch=1000, regularizer=0.10000, loss=  1.1538e+00, AccIn=0.47529, AccOut=0.40909\n",
      "\n",
      "==================================================================================================\n",
      "\n",
      "RESULT: \n",
      "optimizer=rmsprop, activation=relu\n",
      "batch_size=130, epoch=1000, regularizer=0.50000, loss=  1.5433e+00, AccIn=0.46008, AccOut=0.46970\n",
      "\n",
      "==================================================================================================\n",
      "\n",
      "RESULT: \n",
      "optimizer=rmsprop, activation=relu\n",
      "batch_size=130, epoch=1000, regularizer=0.75000, loss=  1.6209e+00, AccIn=0.47338, AccOut=0.41667\n",
      "\n",
      "==================================================================================================\n"
     ]
    }
   ],
   "source": [
    "reg = [0.00001, 0.0001,0.001,0.01,0.1,0.5,0.75]\n",
    "for number in reg:\n",
    "    K.clear_session()\n",
    "    nn_classifier(X_different_all_news_extra, Y_different_all_news_extra,\n",
    "                  hidden_layer_all_parameter,\n",
    "                  active_f_all, number, opti_f_all,batch_all,iter_size_all)\n",
    "    print(\"==================================================================================================\")\n",
    "\n",
    "    "
   ]
  },
  {
   "cell_type": "code",
   "execution_count": 82,
   "metadata": {},
   "outputs": [
    {
     "name": "stdout",
     "output_type": "stream",
     "text": [
      "\n",
      "RESULT: \n",
      "optimizer=rmsprop, activation=relu\n",
      "batch_size=130, epoch=1000, regularizer=0.00001, loss=  6.5450e-01, AccIn=0.70342, AccOut=0.59848\n",
      "\n",
      "==================================================================================================\n",
      "\n",
      "RESULT: \n",
      "optimizer=rmsprop, activation=relu\n",
      "batch_size=130, epoch=1000, regularizer=0.00010, loss=  5.3403e-01, AccIn=0.75475, AccOut=0.65909\n",
      "\n",
      "==================================================================================================\n",
      "\n",
      "RESULT: \n",
      "optimizer=rmsprop, activation=relu\n",
      "batch_size=130, epoch=1000, regularizer=0.00100, loss=  4.3112e-01, AccIn=0.77947, AccOut=0.54545\n",
      "\n",
      "==================================================================================================\n",
      "\n",
      "RESULT: \n",
      "optimizer=rmsprop, activation=relu\n",
      "batch_size=130, epoch=1000, regularizer=0.01000, loss=  6.4947e-01, AccIn=0.64259, AccOut=0.53030\n",
      "\n",
      "==================================================================================================\n",
      "\n",
      "RESULT: \n",
      "optimizer=rmsprop, activation=relu\n",
      "batch_size=130, epoch=1000, regularizer=0.10000, loss=  1.1033e+00, AccIn=0.47148, AccOut=0.42424\n",
      "\n",
      "==================================================================================================\n",
      "\n",
      "RESULT: \n",
      "optimizer=rmsprop, activation=relu\n",
      "batch_size=130, epoch=1000, regularizer=0.50000, loss=  1.5329e+00, AccIn=0.45817, AccOut=0.47727\n",
      "\n",
      "==================================================================================================\n",
      "\n",
      "RESULT: \n",
      "optimizer=rmsprop, activation=relu\n",
      "batch_size=130, epoch=1000, regularizer=0.75000, loss=  1.6123e+00, AccIn=0.46768, AccOut=0.43939\n",
      "\n",
      "==================================================================================================\n"
     ]
    }
   ],
   "source": [
    "for number in reg:\n",
    "    K.clear_session()\n",
    "    nn_classifier(X_different_all_news_extra, Y_different_all_news_extra,\n",
    "                  [15],\n",
    "                  active_f_all, number, opti_f_all,batch_all,iter_size_all)\n",
    "    print(\"==================================================================================================\")\n"
   ]
  },
  {
   "cell_type": "code",
   "execution_count": 84,
   "metadata": {},
   "outputs": [
    {
     "name": "stdout",
     "output_type": "stream",
     "text": [
      "\n",
      "RESULT: \n",
      "optimizer=rmsprop, activation=sigmoid\n",
      "batch_size= 30, epoch=7000, regularizer=0.00001, loss=  4.8221e-01, AccIn=0.76301, AccOut=0.63077\n",
      "\n",
      "==================================================================================================\n",
      "\n",
      "RESULT: \n",
      "optimizer=rmsprop, activation=sigmoid\n",
      "batch_size= 30, epoch=7000, regularizer=0.00010, loss=  4.6921e-01, AccIn=0.78420, AccOut=0.61538\n",
      "\n",
      "==================================================================================================\n",
      "\n",
      "RESULT: \n",
      "optimizer=rmsprop, activation=sigmoid\n",
      "batch_size= 30, epoch=7000, regularizer=0.00100, loss=  5.3109e-01, AccIn=0.73988, AccOut=0.66923\n",
      "\n",
      "==================================================================================================\n",
      "\n",
      "RESULT: \n",
      "optimizer=rmsprop, activation=sigmoid\n",
      "batch_size= 30, epoch=7000, regularizer=0.01000, loss=  6.7385e-01, AccIn=0.69750, AccOut=0.65385\n",
      "\n",
      "==================================================================================================\n",
      "\n",
      "RESULT: \n",
      "optimizer=rmsprop, activation=sigmoid\n",
      "batch_size= 30, epoch=7000, regularizer=0.10000, loss=  1.0533e+00, AccIn=0.44123, AccOut=0.54615\n",
      "\n",
      "==================================================================================================\n",
      "\n",
      "RESULT: \n",
      "optimizer=rmsprop, activation=sigmoid\n",
      "batch_size= 30, epoch=7000, regularizer=0.50000, loss=  2.1560e+00, AccIn=0.46821, AccOut=0.43846\n",
      "\n",
      "==================================================================================================\n",
      "\n",
      "RESULT: \n",
      "optimizer=rmsprop, activation=sigmoid\n",
      "batch_size= 30, epoch=7000, regularizer=0.75000, loss=  1.4994e+00, AccIn=0.47399, AccOut=0.41538\n",
      "\n",
      "==================================================================================================\n"
     ]
    }
   ],
   "source": [
    "for number in reg:\n",
    "    K.clear_session()\n",
    "    nn_classifier(X_different_three_news_extra, Y_different_three_news_extra,\n",
    "                  hidden_layer_three_parameter,\n",
    "                  active_f_three, number, opti_f_three,batch_three,iter_size_three)\n",
    "    print(\"==================================================================================================\")\n"
   ]
  },
  {
   "cell_type": "code",
   "execution_count": 85,
   "metadata": {},
   "outputs": [
    {
     "name": "stdout",
     "output_type": "stream",
     "text": [
      "\n",
      "RESULT: \n",
      "optimizer=rmsprop, activation=sigmoid\n",
      "batch_size= 30, epoch=7000, regularizer=0.00001, loss=  5.0564e-01, AccIn=0.75915, AccOut=0.66923\n",
      "\n",
      "==================================================================================================\n",
      "\n",
      "RESULT: \n",
      "optimizer=rmsprop, activation=sigmoid\n",
      "batch_size= 30, epoch=7000, regularizer=0.00010, loss=  4.9654e-01, AccIn=0.76108, AccOut=0.63846\n",
      "\n",
      "==================================================================================================\n",
      "\n",
      "RESULT: \n",
      "optimizer=rmsprop, activation=sigmoid\n",
      "batch_size= 30, epoch=7000, regularizer=0.00100, loss=  5.4169e-01, AccIn=0.72254, AccOut=0.63077\n",
      "\n",
      "==================================================================================================\n",
      "\n",
      "RESULT: \n",
      "optimizer=rmsprop, activation=sigmoid\n",
      "batch_size= 30, epoch=7000, regularizer=0.01000, loss=  6.4138e-01, AccIn=0.72447, AccOut=0.56154\n",
      "\n",
      "==================================================================================================\n",
      "\n",
      "RESULT: \n",
      "optimizer=rmsprop, activation=sigmoid\n",
      "batch_size= 30, epoch=7000, regularizer=0.10000, loss=  1.1222e+00, AccIn=0.47977, AccOut=0.42308\n",
      "\n",
      "==================================================================================================\n",
      "\n",
      "RESULT: \n",
      "optimizer=rmsprop, activation=sigmoid\n",
      "batch_size= 30, epoch=7000, regularizer=0.50000, loss=  1.6588e+00, AccIn=0.44894, AccOut=0.51538\n",
      "\n",
      "==================================================================================================\n",
      "\n",
      "RESULT: \n",
      "optimizer=rmsprop, activation=sigmoid\n",
      "batch_size= 30, epoch=7000, regularizer=0.75000, loss=  1.7524e+00, AccIn=0.46821, AccOut=0.43846\n",
      "\n",
      "==================================================================================================\n"
     ]
    }
   ],
   "source": [
    "for number in reg:\n",
    "    K.clear_session()\n",
    "    nn_classifier(X_different_three_news_extra, Y_different_three_news_extra,\n",
    "                  [6],\n",
    "                  active_f_three, number, opti_f_three,batch_three,iter_size_three)\n",
    "    print(\"==================================================================================================\")\n"
   ]
  },
  {
   "cell_type": "code",
   "execution_count": null,
   "metadata": {},
   "outputs": [],
   "source": []
  }
 ],
 "metadata": {
  "kernelspec": {
   "display_name": "Python 3",
   "language": "python",
   "name": "python3"
  },
  "language_info": {
   "codemirror_mode": {
    "name": "ipython",
    "version": 3
   },
   "file_extension": ".py",
   "mimetype": "text/x-python",
   "name": "python",
   "nbconvert_exporter": "python",
   "pygments_lexer": "ipython3",
   "version": "3.7.2"
  }
 },
 "nbformat": 4,
 "nbformat_minor": 2
}
