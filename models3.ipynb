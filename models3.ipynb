{
 "cells": [
  {
   "cell_type": "markdown",
   "metadata": {},
   "source": [
    "# Datasets description"
   ]
  },
  {
   "cell_type": "markdown",
   "metadata": {},
   "source": [
    "dataset:\n",
    "three dataset:\n",
    "first:\n",
    "y: close price, x : all news parameters and extra info\n",
    "file: close_all_news_extra check\n",
    "second:\n",
    "y: close price, x : three news parameters and extra info\n",
    "file: close_three_news_extra check \n",
    "third:\n",
    "y: close price - open price, x : all news parameters and extra info\n",
    "file: different_all_news_extra\n",
    "fourth:\n",
    "y: close price - open price, x :  three news parameters and extra info\n",
    "file: different_three_news_extra check"
   ]
  },
  {
   "cell_type": "code",
   "execution_count": 119,
   "metadata": {},
   "outputs": [],
   "source": [
    "import pandas as pd\n",
    "import numpy as np\n",
    "\n",
    "from sklearn.preprocessing import StandardScaler  # It is important in neural networks to scale the date\n",
    "from sklearn.model_selection import train_test_split  # The standard - train/test to prevent overfitting and choose hyperparameters\n",
    "from sklearn.metrics import accuracy_score # \n",
    "from sklearn import datasets, linear_model, preprocessing\n",
    "import sklearn\n",
    "from sklearn.preprocessing import PolynomialFeatures\n",
    "from sklearn.preprocessing import scale\n",
    "import sklearn.linear_model\n",
    "from sklearn.linear_model import Ridge\n",
    "from sklearn.decomposition import PCA\n",
    "from sklearn import svm\n",
    "import tensorflow as tf\n",
    "from tensorflow import keras\n",
    "import numpy.random as r\n",
    "\n",
    "from sklearn.preprocessing import StandardScaler\n",
    "import matplotlib.pyplot as plt\n",
    "\n",
    "%matplotlib inline"
   ]
  },
  {
   "cell_type": "code",
   "execution_count": 120,
   "metadata": {},
   "outputs": [],
   "source": [
    "from keras.models import Model, Sequential\n",
    "from keras.layers import Dense, Activation\n",
    "from keras import regularizers\n",
    "from keras import optimizers\n",
    "import keras.backend as K\n",
    "K.clear_session()"
   ]
  },
  {
   "cell_type": "code",
   "execution_count": 121,
   "metadata": {},
   "outputs": [
    {
     "name": "stdout",
     "output_type": "stream",
     "text": [
      "(658, 40)\n",
      "(658, 40)\n"
     ]
    }
   ],
   "source": [
    "close_all_news_extra = pd.read_csv(\"close_all_news_extra.csv\")\n",
    "close_all_news_extra = close_all_news_extra.drop(columns= [\"appear\"])\n",
    "\n",
    "close_three_news_extra = pd.read_csv(\"close_three_news_extra.csv\")\n",
    "close_three_news_extra = close_three_news_extra.drop(columns= [\"appearence\"])\n",
    "\n",
    "different_all_news_extra = pd.read_csv(\"different_all_news_extra.csv\")\n",
    "different_all_news_extra = different_all_news_extra.drop(columns= [\"appear\"])\n",
    "\n",
    "different_three_news_extra = pd.read_csv(\"different_three_news_extra.csv\")\n",
    "different_three_news_extra = different_three_news_extra.drop(columns= [\"appearence\"])\n",
    "\n",
    "print(different_all_news_extra.shape)\n",
    "print(close_all_news_extra.shape)"
   ]
  },
  {
   "cell_type": "code",
   "execution_count": 122,
   "metadata": {},
   "outputs": [],
   "source": [
    "xx = [1,2,3,4,5]\n",
    "yy = [1,2,3,4,5]\n"
   ]
  },
  {
   "cell_type": "code",
   "execution_count": 123,
   "metadata": {},
   "outputs": [
    {
     "data": {
      "text/plain": [
       "Index(['Unnamed: 0', 'Euro exchange rate', 'Date', 'Hong Kong exchange rate',\n",
       "       'Canada exchange rate', 'China exchange rate', 'QCOM close price',\n",
       "       'MSFT close price', 'TXN close price', 'APPL close price',\n",
       "       'social_media', 'computer', 'business', 'programming', 'hearing',\n",
       "       'urban', 'shopping', 'science', 'work', 'valuable', 'fashion',\n",
       "       'technology', 'competing', 'economics', 'office', 'cheerfulness',\n",
       "       'optimism', 'celebration', 'trust', 'positive_emotion', 'hate',\n",
       "       'aggression', 'horror', 'suffering', 'ridicule', 'irritability',\n",
       "       'deception', 'disappointment', 'negative_emotion', 'nervousness'],\n",
       "      dtype='object')"
      ]
     },
     "execution_count": 123,
     "metadata": {},
     "output_type": "execute_result"
    }
   ],
   "source": [
    "close_all_news_extra.columns"
   ]
  },
  {
   "cell_type": "code",
   "execution_count": 124,
   "metadata": {},
   "outputs": [
    {
     "data": {
      "text/plain": [
       "Index(['Unnamed: 0', 'Euro exchange rate', 'Date', 'Hong Kong exchange rate',\n",
       "       'Canada exchange rate', 'China exchange rate', 'QCOM close price',\n",
       "       'MSFT close price', 'TXN close price', 'APPL close price',\n",
       "       'new_correlation', 'pos_re', 'neg_re'],\n",
       "      dtype='object')"
      ]
     },
     "execution_count": 124,
     "metadata": {},
     "output_type": "execute_result"
    }
   ],
   "source": [
    "close_three_news_extra.columns"
   ]
  },
  {
   "cell_type": "code",
   "execution_count": 125,
   "metadata": {},
   "outputs": [],
   "source": [
    "def plot(test, prediction, num, title):\n",
    "    plt.plot(num, prediction, 'r-', label = \"prediction\")\n",
    "    plt.plot(num, test, 'b-', label =\"real value\")\n",
    "    plt.title(title)\n",
    "    plt.legend(loc = \"upper right\")\n",
    "    plt.show()"
   ]
  },
  {
   "cell_type": "code",
   "execution_count": 126,
   "metadata": {},
   "outputs": [],
   "source": [
    "# pull out the y and x, and transfer into dataset:\n",
    "def transfer_dataframe_to_x_y(dataframe, y_colum):\n",
    "    #y_dataframe = dataframe[y_colum]\n",
    "    dataframe = dataframe.dropna()\n",
    "    y = dataframe[y_colum].values\n",
    "    y = y.reshape(y.shape[0],1)\n",
    "    x_dataframe = dataframe.drop(columns= [y_colum,\"Date\"])\n",
    "    x = x_dataframe.values\n",
    "    return x,y"
   ]
  },
  {
   "cell_type": "code",
   "execution_count": null,
   "metadata": {},
   "outputs": [],
   "source": []
  },
  {
   "cell_type": "markdown",
   "metadata": {},
   "source": [
    "# Linear Regression models\n",
    "now we have a table that:\n",
    "        redge degree:   0, 0.35, 0.5, 0.75\n",
    "        polynomial degree: 1, 2\n"
   ]
  },
  {
   "cell_type": "code",
   "execution_count": 127,
   "metadata": {},
   "outputs": [
    {
     "name": "stdout",
     "output_type": "stream",
     "text": [
      "\n"
     ]
    }
   ],
   "source": [
    "X_close_three_news_extra,Y_close_three_news_extra = transfer_dataframe_to_x_y(close_three_news_extra,\"APPL close price\")\n",
    "X_different_three_news_extra,Y_different_three_news_extra = transfer_dataframe_to_x_y(different_three_news_extra,\"APPL diff\")\n",
    "X_close_all_news_extra, Y_close_all_news_extra = transfer_dataframe_to_x_y(close_all_news_extra,\"APPL close price\")\n",
    "X_different_all_news_extra, Y_different_all_news_extra = transfer_dataframe_to_x_y(different_all_news_extra,\"APPL diff\")\n",
    "print()"
   ]
  },
  {
   "cell_type": "code",
   "execution_count": 128,
   "metadata": {},
   "outputs": [],
   "source": [
    "def linear_fit(X_train, X_test, Y_train, Y_test, alpha):\n",
    "    ridge = Ridge(alpha)\n",
    "    ridge.fit(X_train,Y_train)\n",
    "    train_error = (1/Y_train.shape[0])*np.sum((Y_train-ridge.predict(X_train))**2)\n",
    "    test_error = (1/Y_test.shape[0])*np.sum((Y_test-ridge.predict(X_test))**2)\n",
    "    R2 = 1 - np.sum((Y_train - ridge.predict(X_train))**2) / np.sum((Y_train - np.mean(Y_train))**2)\n",
    "    return train_error, test_error, R2, ridge"
   ]
  },
  {
   "cell_type": "code",
   "execution_count": 129,
   "metadata": {},
   "outputs": [],
   "source": [
    "def model_selection(X, Y):\n",
    "    deg_list = [1,2,3,4,5]\n",
    "    alpha_list = [0,0.35,0.5,0.75]\n",
    "    mse_tr = []\n",
    "    mse_test = []\n",
    "    for elem in deg_list:\n",
    "        temp_mse_tr = None\n",
    "        temp_mse_test = None\n",
    "        if elem != 1:\n",
    "    #         print(elem)\n",
    "            poly = PolynomialFeatures(int(elem))\n",
    "            X_poly = poly.fit_transform(X)\n",
    "            Y_poly = Y\n",
    "            X_train_poly, X_test_poly, Y_train_poly, Y_test_poly = train_test_split(X_poly, Y_poly, test_size=0.3)\n",
    "        else:\n",
    "            Y_poly = Y\n",
    "            X_train_poly, X_test_poly, Y_train_poly, Y_test_poly = train_test_split(X, Y, test_size=0.3)            \n",
    "        for alpha in alpha_list:\n",
    "#             print(alpha)\n",
    "            train_error, test_error, R2, ridge = linear_fit(X_train_poly, X_test_poly, Y_train_poly, Y_test_poly, float(alpha))\n",
    "#             print(\"train_error: \", train_error, \"alpha: \", alpha)\n",
    "#             print(\"before condition: \", temp_mse_tr)\n",
    "            if temp_mse_tr is None:\n",
    "                temp_mse_tr = (train_error, float(alpha))\n",
    "            elif temp_mse_tr[0] > train_error:\n",
    "#                 print(\"updating: \", alpha)\n",
    "                temp_mse_tr = (train_error, float(alpha))\n",
    "                \n",
    "            if temp_mse_test is None:\n",
    "                temp_mse_test = (test_error, float(alpha))\n",
    "            elif temp_mse_test[0] > test_error:\n",
    "                temp_mse_test = (test_error, float(alpha))\n",
    "        mse_tr.append(temp_mse_tr)  \n",
    "        mse_test.append(temp_mse_test) \n",
    "        \n",
    "            \n",
    "    return mse_tr, mse_test"
   ]
  },
  {
   "cell_type": "code",
   "execution_count": 130,
   "metadata": {},
   "outputs": [],
   "source": [
    "def plot_model_sel(X,Y,alpha):\n",
    "\n",
    "    deg_list = [1,2,3,4,5]\n",
    "    mse_tr = []\n",
    "    mse_test = []\n",
    "    for elem in deg_list:\n",
    "        temp_mse_tr = None\n",
    "        temp_mse_test = None\n",
    "        if elem == 1:\n",
    "            X_train_poly, X_test_poly, Y_train_poly, Y_test_poly = train_test_split(X, Y, test_size=0.3)\n",
    "            train_error, test_error, R2, ridge = linear_fit(X_train_poly, X_test_poly, Y_train_poly, Y_test_poly, float(alpha))\n",
    "            mse_tr.append(train_error)\n",
    "            mse_test.append(test_error)\n",
    "        else:\n",
    "            poly = PolynomialFeatures(int(elem))\n",
    "            X_poly = poly.fit_transform(X)\n",
    "            Y_poly = Y\n",
    "            X_train_poly, X_test_poly, Y_train_poly, Y_test_poly = train_test_split(X_poly, Y_poly, test_size=0.3)\n",
    "            train_error, test_error, R2, ridge = linear_fit(X_train_poly, X_test_poly, Y_train_poly, Y_test_poly, float(alpha))\n",
    "            mse_tr.append(train_error)\n",
    "            mse_test.append(test_error)\n",
    "\n",
    "    plt.plot(deg_list, mse_tr, \"r-\", label = \"train_mse\")\n",
    "    plt.plot(deg_list, mse_test, \"b-\", label = \"test_mse\")\n",
    "    plt.xlabel(\"Model order\")\n",
    "    plt.ylabel(\"MSE\")\n",
    "    plt.grid()\n",
    "    plt.ylim(0,300)\n",
    "    plt.legend(loc = \"upper right\")\n",
    "    plt.show()\n",
    "    "
   ]
  },
  {
   "cell_type": "code",
   "execution_count": 131,
   "metadata": {},
   "outputs": [
    {
     "name": "stderr",
     "output_type": "stream",
     "text": [
      "/Library/Frameworks/Python.framework/Versions/3.7/lib/python3.7/site-packages/sklearn/linear_model/ridge.py:125: LinAlgWarning: Ill-conditioned matrix (rcond=1.05426e-20): result may not be accurate.\n",
      "  overwrite_a=True).T\n",
      "/Library/Frameworks/Python.framework/Versions/3.7/lib/python3.7/site-packages/sklearn/linear_model/ridge.py:167: UserWarning: Singular matrix in solving dual problem. Using least-squares solution instead.\n",
      "  warnings.warn(\"Singular matrix in solving dual problem. Using \"\n",
      "/Library/Frameworks/Python.framework/Versions/3.7/lib/python3.7/site-packages/sklearn/linear_model/ridge.py:167: UserWarning: Singular matrix in solving dual problem. Using least-squares solution instead.\n",
      "  warnings.warn(\"Singular matrix in solving dual problem. Using \"\n"
     ]
    },
    {
     "data": {
      "image/png": "[encoded data removed]",
      "text/plain": [
       "<Figure size 432x288 with 1 Axes>"
      ]
     },
     "metadata": {
      "needs_background": "light"
     },
     "output_type": "display_data"
    }
   ],
   "source": [
    "plot_model_sel(X_close_three_news_extra,Y_close_three_news_extra, 0.75)"
   ]
  },
  {
   "cell_type": "code",
   "execution_count": 132,
   "metadata": {},
   "outputs": [],
   "source": [
    "def linear_regression_model(X, Y, degree, alpha, start, end):\n",
    "    # dataset poly transfor:\n",
    "    poly = PolynomialFeatures(int(alpha))\n",
    "    X_poly = poly.fit_transform(X)\n",
    "    Y_poly = Y\n",
    "    y_plot = Y[int(start):int(end)]\n",
    "    x_plot = X[int(start):int(end)]\n",
    "    x_plot2 = X_poly[int(start):int(end)]\n",
    "    y_plot2 = Y_poly[int(start):int(end)]\n",
    "    \n",
    "\n",
    "    \n",
    "    X_train, X_test, Y_train, Y_test = train_test_split(X, Y, test_size=0.3)\n",
    "    X_train_poly, X_test_ploy, Y_train_poly, Y_test_poly = train_test_split(X_poly, Y_poly, test_size=0.3)\n",
    "    num = np.arange(len(X_test))\n",
    "    # non poly, non redge:\n",
    "    train_error, test_error, R2,ridge = linear_fit(X_train, X_test, Y_train, Y_test,0)\n",
    "    prediction = ridge.predict(x_plot)\n",
    "    \n",
    "    num = np.arange(len(x_plot))\n",
    "    plot(y_plot, prediction, num, \"2 poly, 0.75 ridge\")\n",
    "    print( str(degree) + \" poly,\" + str(alpha) + \"non redge: train_error = {0:.2f} and test_error = {1:.2f}, r^2 = {2:.2f}\".format(train_error,test_error,R2))\n",
    "    "
   ]
  },
  {
   "cell_type": "code",
   "execution_count": 133,
   "metadata": {},
   "outputs": [
    {
     "data": {
      "image/png": "[encoded data removed]",
      "text/plain": [
       "<Figure size 432x288 with 1 Axes>"
      ]
     },
     "metadata": {
      "needs_background": "light"
     },
     "output_type": "display_data"
    },
    {
     "name": "stdout",
     "output_type": "stream",
     "text": [
      "2 poly,0.75non redge: train_error = 65.49 and test_error = 49.31, r^2 = 0.76\n"
     ]
    }
   ],
   "source": [
    "linear_regression_model(X_close_three_news_extra,Y_close_three_news_extra,2,0.75, 500, 600)"
   ]
  },
  {
   "cell_type": "code",
   "execution_count": 134,
   "metadata": {},
   "outputs": [
    {
     "name": "stderr",
     "output_type": "stream",
     "text": [
      "/Library/Frameworks/Python.framework/Versions/3.7/lib/python3.7/site-packages/sklearn/linear_model/ridge.py:125: LinAlgWarning: Ill-conditioned matrix (rcond=4.33472e-22): result may not be accurate.\n",
      "  overwrite_a=True).T\n"
     ]
    },
    {
     "data": {
      "image/png": "[encoded data removed]",
      "text/plain": [
       "<Figure size 432x288 with 1 Axes>"
      ]
     },
     "metadata": {
      "needs_background": "light"
     },
     "output_type": "display_data"
    },
    {
     "name": "stdout",
     "output_type": "stream",
     "text": [
      "2 poly,0.75non redge: train_error = 1.23 and test_error = 1.52, r^2 = 0.25\n"
     ]
    }
   ],
   "source": [
    "linear_regression_model(X_different_three_news_extra,Y_different_three_news_extra,2, 0.75, 500, 600)"
   ]
  },
  {
   "cell_type": "code",
   "execution_count": 135,
   "metadata": {},
   "outputs": [
    {
     "data": {
      "image/png": "[encoded data removed]",
      "text/plain": [
       "<Figure size 432x288 with 1 Axes>"
      ]
     },
     "metadata": {
      "needs_background": "light"
     },
     "output_type": "display_data"
    },
    {
     "name": "stdout",
     "output_type": "stream",
     "text": [
      "2 poly,0.75non redge: train_error = 47.48 and test_error = 74.42, r^2 = 0.84\n"
     ]
    }
   ],
   "source": [
    "linear_regression_model(X_close_all_news_extra,Y_close_all_news_extra,2,0.75, 500, 600)"
   ]
  },
  {
   "cell_type": "code",
   "execution_count": 136,
   "metadata": {},
   "outputs": [
    {
     "data": {
      "image/png": "[encoded data removed]",
      "text/plain": [
       "<Figure size 432x288 with 1 Axes>"
      ]
     },
     "metadata": {
      "needs_background": "light"
     },
     "output_type": "display_data"
    },
    {
     "name": "stdout",
     "output_type": "stream",
     "text": [
      "2 poly,0.75non redge: train_error = 1.19 and test_error = 15.85, r^2 = 0.33\n"
     ]
    }
   ],
   "source": [
    "linear_regression_model(X_different_all_news_extra,Y_different_all_news_extra,2,0.75, 500, 600)"
   ]
  },
  {
   "cell_type": "markdown",
   "metadata": {},
   "source": [
    "# SVM models"
   ]
  },
  {
   "cell_type": "markdown",
   "metadata": {},
   "source": [
    "Before process the SVM models, we need to transfer the y to 1 or -1"
   ]
  },
  {
   "cell_type": "code",
   "execution_count": 137,
   "metadata": {},
   "outputs": [],
   "source": [
    "def transfer_y_binary(value):\n",
    "    if value < 0:\n",
    "        out = -1\n",
    "    else:\n",
    "        out = 1\n",
    "    return out"
   ]
  },
  {
   "cell_type": "code",
   "execution_count": 138,
   "metadata": {},
   "outputs": [],
   "source": [
    "def transfer_dataframe_to_x_y_for_SVM(dataframe, y_colum):\n",
    "    #y_dataframe = dataframe[y_colum]\n",
    "    dataframe = dataframe.dropna()\n",
    "    y = dataframe[y_colum].values\n",
    "    x_dataframe = dataframe.drop(columns= [y_colum,\"Date\"])\n",
    "    x = x_dataframe.values\n",
    "    return x,y"
   ]
  },
  {
   "cell_type": "code",
   "execution_count": 139,
   "metadata": {},
   "outputs": [],
   "source": [
    "different_all_news_extra[\"APPL diff\"] = different_all_news_extra[\"APPL diff\"].apply(transfer_y_binary)\n",
    "different_three_news_extra[\"APPL diff\"] = different_three_news_extra[\"APPL diff\"].apply(transfer_y_binary)"
   ]
  },
  {
   "cell_type": "code",
   "execution_count": 83,
   "metadata": {},
   "outputs": [],
   "source": [
    "X_different_three_news_extra,Y_different_three_news_extra = transfer_dataframe_to_x_y_for_SVM(different_three_news_extra,\"APPL diff\")\n",
    "X_different_all_news_extra, Y_different_all_news_extra = transfer_dataframe_to_x_y_for_SVM(different_all_news_extra,\"APPL diff\")\n"
   ]
  },
  {
   "cell_type": "markdown",
   "metadata": {},
   "source": [
    "We need three kernals, with mutiple c as soft margin. <br>\n",
    "kernal one: linear <br>\n",
    "kernal two: RBF <br>\n",
    "kernal three: Polynomial Kernel <br>"
   ]
  },
  {
   "cell_type": "markdown",
   "metadata": {},
   "source": [
    "## SVM_linear"
   ]
  },
  {
   "cell_type": "code",
   "execution_count": 84,
   "metadata": {},
   "outputs": [],
   "source": [
    "acc_train_svm_linear = []\n",
    "acc_test_svm_linear = []\n",
    "c_svm_linear = []"
   ]
  },
  {
   "cell_type": "code",
   "execution_count": 85,
   "metadata": {},
   "outputs": [],
   "source": [
    "def svm_linear(X_train, X_test, Y_train, Y_test,c):\n",
    "    svc_linear = svm.SVC(probability = False, kernel = \"linear\", C = c)\n",
    "    \n",
    "    svc_linear.fit(X_train,Y_train)\n",
    "    Yhat_svc_linear_train = svc_linear.predict(X_train)\n",
    "    acc_train = np.mean(Yhat_svc_linear_train == Y_train)\n",
    "    \n",
    "    acc_train_svm_linear.append(acc_train)\n",
    "    print('Train Accuracy = {0:f}'.format(acc_train))\n",
    "\n",
    "    \n",
    "    Yhat_svc_linear_test = svc_linear.predict(X_test)\n",
    "    acc_test = np.mean(Yhat_svc_linear_test == Y_test)\n",
    "    \n",
    "    \n",
    "    acc_test_svm_linear.append(acc_test)\n",
    "    print('Test Accuracy = {0:f}'.format(acc_test))\n",
    "    c_svm_linear.append(c)"
   ]
  },
  {
   "cell_type": "code",
   "execution_count": 30,
   "metadata": {},
   "outputs": [],
   "source": [
    "def plot_svm(c_svm_linear, acc_train_svm_linear, acc_test_svm_linear):\n",
    "    plt.plot(c_svm_linear,acc_train_svm_linear,'g.-',label='train accuracy')\n",
    "    plt.plot(c_svm_linear,acc_test_svm_linear,'r.-',label='test accuracy')\n",
    "    plt.legend(loc='upper right')\n",
    "    plt.show()"
   ]
  },
  {
   "cell_type": "code",
   "execution_count": 31,
   "metadata": {},
   "outputs": [],
   "source": [
    "def SVM_linear(X, Y):\n",
    "    X_train, X_test, Y_train, Y_test = train_test_split(X, Y, test_size=0.3)\n",
    "    cVals = list(np.arange(0.001,5,0.5))\n",
    "\n",
    "    for c in cVals:\n",
    "        print(c)\n",
    "        svm_linear(X_train, X_test, Y_train, Y_test ,c)\n",
    "    plot_svm(c_svm_linear, acc_train_svm_linear, acc_test_svm_linear)\n"
   ]
  },
  {
   "cell_type": "code",
   "execution_count": 32,
   "metadata": {},
   "outputs": [
    {
     "name": "stdout",
     "output_type": "stream",
     "text": [
      "[0.001, 0.051000000000000004, 0.101, 0.15100000000000002, 0.201, 0.251, 0.30100000000000005, 0.35100000000000003, 0.401, 0.451, 0.501, 0.551, 0.6010000000000001, 0.651, 0.7010000000000001, 0.751, 0.801, 0.8510000000000001, 0.901, 0.9510000000000001, 1.001, 1.051, 1.101, 1.151, 1.201, 1.251, 1.301, 1.351, 1.401, 1.451, 1.501, 1.551, 1.601, 1.651, 1.701, 1.751, 1.801, 1.851, 1.901, 1.951]\n"
     ]
    }
   ],
   "source": [
    "cVals = list(np.arange(0.001,2,0.05))\n",
    "print(cVals)"
   ]
  },
  {
   "cell_type": "code",
   "execution_count": 161,
   "metadata": {},
   "outputs": [
    {
     "name": "stdout",
     "output_type": "stream",
     "text": [
      "0.001\n",
      "Train Accuracy = 0.528634\n",
      "Test Accuracy = 0.558974\n",
      "0.501\n",
      "Train Accuracy = 0.662996\n",
      "Test Accuracy = 0.692308\n",
      "1.001\n",
      "Train Accuracy = 0.658590\n",
      "Test Accuracy = 0.682051\n",
      "1.501\n",
      "Train Accuracy = 0.662996\n",
      "Test Accuracy = 0.702564\n",
      "2.001\n",
      "Train Accuracy = 0.669604\n",
      "Test Accuracy = 0.707692\n",
      "2.501\n",
      "Train Accuracy = 0.662996\n",
      "Test Accuracy = 0.712821\n",
      "3.001\n",
      "Train Accuracy = 0.665198\n",
      "Test Accuracy = 0.717949\n",
      "3.501\n",
      "Train Accuracy = 0.658590\n",
      "Test Accuracy = 0.717949\n",
      "4.001\n",
      "Train Accuracy = 0.662996\n",
      "Test Accuracy = 0.717949\n",
      "4.501\n",
      "Train Accuracy = 0.662996\n",
      "Test Accuracy = 0.717949\n"
     ]
    },
    {
     "data": {
      "image/png": "[encoded data removed]",
      "text/plain": [
       "<Figure size 432x288 with 1 Axes>"
      ]
     },
     "metadata": {
      "needs_background": "light"
     },
     "output_type": "display_data"
    }
   ],
   "source": [
    "SVM_linear(X_different_three_news_extra,Y_different_three_news_extra)\n"
   ]
  },
  {
   "cell_type": "code",
   "execution_count": 162,
   "metadata": {},
   "outputs": [
    {
     "name": "stdout",
     "output_type": "stream",
     "text": [
      "0.001\n",
      "Train Accuracy = 0.519565\n",
      "Test Accuracy = 0.580808\n",
      "0.501\n",
      "Train Accuracy = 0.678261\n",
      "Test Accuracy = 0.686869\n",
      "1.001\n",
      "Train Accuracy = 0.678261\n",
      "Test Accuracy = 0.681818\n",
      "1.501\n",
      "Train Accuracy = 0.682609\n",
      "Test Accuracy = 0.666667\n",
      "2.001\n",
      "Train Accuracy = 0.669565\n",
      "Test Accuracy = 0.671717\n",
      "2.501\n",
      "Train Accuracy = 0.667391\n",
      "Test Accuracy = 0.671717\n",
      "3.001\n",
      "Train Accuracy = 0.669565\n",
      "Test Accuracy = 0.666667\n",
      "3.501\n",
      "Train Accuracy = 0.669565\n",
      "Test Accuracy = 0.666667\n",
      "4.001\n",
      "Train Accuracy = 0.669565\n",
      "Test Accuracy = 0.676768\n",
      "4.501\n",
      "Train Accuracy = 0.673913\n",
      "Test Accuracy = 0.651515\n"
     ]
    },
    {
     "data": {
      "image/png": "[encoded data removed]",
      "text/plain": [
       "<Figure size 432x288 with 1 Axes>"
      ]
     },
     "metadata": {
      "needs_background": "light"
     },
     "output_type": "display_data"
    }
   ],
   "source": [
    "acc_train_svm_linear = []\n",
    "acc_test_svm_linear = []\n",
    "c_svm_linear = []\n",
    "SVM_linear(X_different_all_news_extra, Y_different_all_news_extra )"
   ]
  },
  {
   "cell_type": "markdown",
   "metadata": {},
   "source": [
    "## SVM with RBF"
   ]
  },
  {
   "cell_type": "code",
   "execution_count": 33,
   "metadata": {},
   "outputs": [],
   "source": [
    "acc_train_svm_rbf = []\n",
    "acc_test_svm_rbf = []\n",
    "c_svm_rbf = []"
   ]
  },
  {
   "cell_type": "code",
   "execution_count": 34,
   "metadata": {},
   "outputs": [],
   "source": [
    "def svm_rbf(X_train, X_test, Y_train, Y_test,c):\n",
    "    svc_linear = svm.SVC(probability = False, kernel = \"rbf\", C = c)\n",
    "    \n",
    "    svc_linear.fit(X_train,Y_train)\n",
    "    Yhat_svc_linear_train = svc_linear.predict(X_train)\n",
    "    acc_train = np.mean(Yhat_svc_linear_train == Y_train)\n",
    "    \n",
    "    acc_train_svm_rbf.append(acc_train)\n",
    "    print('Train Accuracy = {0:f}'.format(acc_train))\n",
    "    \n",
    "    Yhat_svc_linear_test = svc_linear.predict(X_test)\n",
    "    acc_test = np.mean(Yhat_svc_linear_test == Y_test)\n",
    "    \n",
    "    acc_test_svm_rbf.append(acc_test)\n",
    "    print('Test Accuracy = {0:f}'.format(acc_test))\n",
    "    \n",
    "    c_svm_rbf.append(c)"
   ]
  },
  {
   "cell_type": "code",
   "execution_count": 35,
   "metadata": {},
   "outputs": [],
   "source": [
    "def SVM_rbf(X, Y):\n",
    "    X_train, X_test, Y_train, Y_test = train_test_split(X, Y, test_size=0.3)\n",
    "    \n",
    "    cVals = list(np.arange(0.001,5,0.5))\n",
    "\n",
    "    for c in cVals:\n",
    "        print(c)\n",
    "        svm_rbf(X_train, X_test, Y_train, Y_test ,c)\n",
    "    plot_svm(c_svm_rbf,acc_train_svm_rbf,acc_test_svm_rbf)"
   ]
  },
  {
   "cell_type": "code",
   "execution_count": 36,
   "metadata": {},
   "outputs": [
    {
     "name": "stdout",
     "output_type": "stream",
     "text": [
      "0.001\n",
      "Train Accuracy = 0.526432\n",
      "Test Accuracy = 0.564103\n",
      "0.501\n",
      "Train Accuracy = 0.823789\n",
      "Test Accuracy = 0.497436\n",
      "1.001\n",
      "Train Accuracy = 0.845815\n",
      "Test Accuracy = 0.502564\n",
      "1.501\n",
      "Train Accuracy = 0.859031\n",
      "Test Accuracy = 0.502564\n",
      "2.001\n",
      "Train Accuracy = 0.865639\n",
      "Test Accuracy = 0.517949\n",
      "2.501\n",
      "Train Accuracy = 0.885463\n",
      "Test Accuracy = 0.517949\n",
      "3.001\n",
      "Train Accuracy = 0.896476\n",
      "Test Accuracy = 0.512821\n",
      "3.501\n",
      "Train Accuracy = 0.900881\n",
      "Test Accuracy = 0.512821\n",
      "4.001\n",
      "Train Accuracy = 0.911894\n",
      "Test Accuracy = 0.517949\n",
      "4.501\n",
      "Train Accuracy = 0.914097\n",
      "Test Accuracy = 0.507692\n"
     ]
    },
    {
     "name": "stderr",
     "output_type": "stream",
     "text": [
      "/Library/Frameworks/Python.framework/Versions/3.7/lib/python3.7/site-packages/sklearn/svm/base.py:196: FutureWarning: The default value of gamma will change from 'auto' to 'scale' in version 0.22 to account better for unscaled features. Set gamma explicitly to 'auto' or 'scale' to avoid this warning.\n",
      "  \"avoid this warning.\", FutureWarning)\n",
      "/Library/Frameworks/Python.framework/Versions/3.7/lib/python3.7/site-packages/sklearn/svm/base.py:196: FutureWarning: The default value of gamma will change from 'auto' to 'scale' in version 0.22 to account better for unscaled features. Set gamma explicitly to 'auto' or 'scale' to avoid this warning.\n",
      "  \"avoid this warning.\", FutureWarning)\n",
      "/Library/Frameworks/Python.framework/Versions/3.7/lib/python3.7/site-packages/sklearn/svm/base.py:196: FutureWarning: The default value of gamma will change from 'auto' to 'scale' in version 0.22 to account better for unscaled features. Set gamma explicitly to 'auto' or 'scale' to avoid this warning.\n",
      "  \"avoid this warning.\", FutureWarning)\n",
      "/Library/Frameworks/Python.framework/Versions/3.7/lib/python3.7/site-packages/sklearn/svm/base.py:196: FutureWarning: The default value of gamma will change from 'auto' to 'scale' in version 0.22 to account better for unscaled features. Set gamma explicitly to 'auto' or 'scale' to avoid this warning.\n",
      "  \"avoid this warning.\", FutureWarning)\n",
      "/Library/Frameworks/Python.framework/Versions/3.7/lib/python3.7/site-packages/sklearn/svm/base.py:196: FutureWarning: The default value of gamma will change from 'auto' to 'scale' in version 0.22 to account better for unscaled features. Set gamma explicitly to 'auto' or 'scale' to avoid this warning.\n",
      "  \"avoid this warning.\", FutureWarning)\n",
      "/Library/Frameworks/Python.framework/Versions/3.7/lib/python3.7/site-packages/sklearn/svm/base.py:196: FutureWarning: The default value of gamma will change from 'auto' to 'scale' in version 0.22 to account better for unscaled features. Set gamma explicitly to 'auto' or 'scale' to avoid this warning.\n",
      "  \"avoid this warning.\", FutureWarning)\n",
      "/Library/Frameworks/Python.framework/Versions/3.7/lib/python3.7/site-packages/sklearn/svm/base.py:196: FutureWarning: The default value of gamma will change from 'auto' to 'scale' in version 0.22 to account better for unscaled features. Set gamma explicitly to 'auto' or 'scale' to avoid this warning.\n",
      "  \"avoid this warning.\", FutureWarning)\n",
      "/Library/Frameworks/Python.framework/Versions/3.7/lib/python3.7/site-packages/sklearn/svm/base.py:196: FutureWarning: The default value of gamma will change from 'auto' to 'scale' in version 0.22 to account better for unscaled features. Set gamma explicitly to 'auto' or 'scale' to avoid this warning.\n",
      "  \"avoid this warning.\", FutureWarning)\n",
      "/Library/Frameworks/Python.framework/Versions/3.7/lib/python3.7/site-packages/sklearn/svm/base.py:196: FutureWarning: The default value of gamma will change from 'auto' to 'scale' in version 0.22 to account better for unscaled features. Set gamma explicitly to 'auto' or 'scale' to avoid this warning.\n",
      "  \"avoid this warning.\", FutureWarning)\n",
      "/Library/Frameworks/Python.framework/Versions/3.7/lib/python3.7/site-packages/sklearn/svm/base.py:196: FutureWarning: The default value of gamma will change from 'auto' to 'scale' in version 0.22 to account better for unscaled features. Set gamma explicitly to 'auto' or 'scale' to avoid this warning.\n",
      "  \"avoid this warning.\", FutureWarning)\n"
     ]
    },
    {
     "data": {
      "image/png": "[encoded data removed]",
      "text/plain": [
       "<Figure size 432x288 with 1 Axes>"
      ]
     },
     "metadata": {
      "needs_background": "light"
     },
     "output_type": "display_data"
    }
   ],
   "source": [
    "SVM_rbf(X_different_three_news_extra,Y_different_three_news_extra)"
   ]
  },
  {
   "cell_type": "code",
   "execution_count": 37,
   "metadata": {},
   "outputs": [
    {
     "name": "stdout",
     "output_type": "stream",
     "text": [
      "0.001\n",
      "Train Accuracy = 0.539130\n",
      "Test Accuracy = 0.535354\n",
      "0.501\n",
      "Train Accuracy = 0.708696\n",
      "Test Accuracy = 0.540404\n",
      "1.001\n",
      "Train Accuracy = 0.717391\n",
      "Test Accuracy = 0.525253\n",
      "1.501\n",
      "Train Accuracy = 0.721739\n",
      "Test Accuracy = 0.530303\n",
      "2.001\n",
      "Train Accuracy = 0.736957\n",
      "Test Accuracy = 0.535354\n",
      "2.501\n",
      "Train Accuracy = 0.752174\n",
      "Test Accuracy = 0.530303\n",
      "3.001\n",
      "Train Accuracy = 0.756522\n",
      "Test Accuracy = 0.545455\n",
      "3.501\n"
     ]
    },
    {
     "name": "stderr",
     "output_type": "stream",
     "text": [
      "/Library/Frameworks/Python.framework/Versions/3.7/lib/python3.7/site-packages/sklearn/svm/base.py:196: FutureWarning: The default value of gamma will change from 'auto' to 'scale' in version 0.22 to account better for unscaled features. Set gamma explicitly to 'auto' or 'scale' to avoid this warning.\n",
      "  \"avoid this warning.\", FutureWarning)\n",
      "/Library/Frameworks/Python.framework/Versions/3.7/lib/python3.7/site-packages/sklearn/svm/base.py:196: FutureWarning: The default value of gamma will change from 'auto' to 'scale' in version 0.22 to account better for unscaled features. Set gamma explicitly to 'auto' or 'scale' to avoid this warning.\n",
      "  \"avoid this warning.\", FutureWarning)\n",
      "/Library/Frameworks/Python.framework/Versions/3.7/lib/python3.7/site-packages/sklearn/svm/base.py:196: FutureWarning: The default value of gamma will change from 'auto' to 'scale' in version 0.22 to account better for unscaled features. Set gamma explicitly to 'auto' or 'scale' to avoid this warning.\n",
      "  \"avoid this warning.\", FutureWarning)\n",
      "/Library/Frameworks/Python.framework/Versions/3.7/lib/python3.7/site-packages/sklearn/svm/base.py:196: FutureWarning: The default value of gamma will change from 'auto' to 'scale' in version 0.22 to account better for unscaled features. Set gamma explicitly to 'auto' or 'scale' to avoid this warning.\n",
      "  \"avoid this warning.\", FutureWarning)\n",
      "/Library/Frameworks/Python.framework/Versions/3.7/lib/python3.7/site-packages/sklearn/svm/base.py:196: FutureWarning: The default value of gamma will change from 'auto' to 'scale' in version 0.22 to account better for unscaled features. Set gamma explicitly to 'auto' or 'scale' to avoid this warning.\n",
      "  \"avoid this warning.\", FutureWarning)\n",
      "/Library/Frameworks/Python.framework/Versions/3.7/lib/python3.7/site-packages/sklearn/svm/base.py:196: FutureWarning: The default value of gamma will change from 'auto' to 'scale' in version 0.22 to account better for unscaled features. Set gamma explicitly to 'auto' or 'scale' to avoid this warning.\n",
      "  \"avoid this warning.\", FutureWarning)\n",
      "/Library/Frameworks/Python.framework/Versions/3.7/lib/python3.7/site-packages/sklearn/svm/base.py:196: FutureWarning: The default value of gamma will change from 'auto' to 'scale' in version 0.22 to account better for unscaled features. Set gamma explicitly to 'auto' or 'scale' to avoid this warning.\n",
      "  \"avoid this warning.\", FutureWarning)\n",
      "/Library/Frameworks/Python.framework/Versions/3.7/lib/python3.7/site-packages/sklearn/svm/base.py:196: FutureWarning: The default value of gamma will change from 'auto' to 'scale' in version 0.22 to account better for unscaled features. Set gamma explicitly to 'auto' or 'scale' to avoid this warning.\n",
      "  \"avoid this warning.\", FutureWarning)\n"
     ]
    },
    {
     "name": "stdout",
     "output_type": "stream",
     "text": [
      "Train Accuracy = 0.760870\n",
      "Test Accuracy = 0.535354\n",
      "4.001\n",
      "Train Accuracy = 0.758696\n",
      "Test Accuracy = 0.535354\n",
      "4.501\n",
      "Train Accuracy = 0.771739\n",
      "Test Accuracy = 0.520202\n"
     ]
    },
    {
     "name": "stderr",
     "output_type": "stream",
     "text": [
      "/Library/Frameworks/Python.framework/Versions/3.7/lib/python3.7/site-packages/sklearn/svm/base.py:196: FutureWarning: The default value of gamma will change from 'auto' to 'scale' in version 0.22 to account better for unscaled features. Set gamma explicitly to 'auto' or 'scale' to avoid this warning.\n",
      "  \"avoid this warning.\", FutureWarning)\n",
      "/Library/Frameworks/Python.framework/Versions/3.7/lib/python3.7/site-packages/sklearn/svm/base.py:196: FutureWarning: The default value of gamma will change from 'auto' to 'scale' in version 0.22 to account better for unscaled features. Set gamma explicitly to 'auto' or 'scale' to avoid this warning.\n",
      "  \"avoid this warning.\", FutureWarning)\n"
     ]
    },
    {
     "data": {
      "image/png": "[encoded data removed]",
      "text/plain": [
       "<Figure size 432x288 with 1 Axes>"
      ]
     },
     "metadata": {
      "needs_background": "light"
     },
     "output_type": "display_data"
    }
   ],
   "source": [
    "acc_train_svm_rbf = []\n",
    "acc_test_svm_rbf = []\n",
    "c_svm_rbf = []\n",
    "SVM_rbf(X_different_all_news_extra, Y_different_all_news_extra )"
   ]
  },
  {
   "cell_type": "code",
   "execution_count": 38,
   "metadata": {},
   "outputs": [],
   "source": [
    "acc_train_svm_poly = []\n",
    "acc_test_svm_poly = []\n",
    "c_svm_poly = []"
   ]
  },
  {
   "cell_type": "code",
   "execution_count": 39,
   "metadata": {},
   "outputs": [],
   "source": [
    "def svm_poly(X_train, X_test, Y_train, Y_test,c):\n",
    "    svc_linear = svm.SVC(probability = False, kernel = \"rbf\", C = c)\n",
    "    \n",
    "    svc_linear.fit(X_train,Y_train)\n",
    "    Yhat_svc_linear_train = svc_linear.predict(X_train)\n",
    "    acc_train = np.mean(Yhat_svc_linear_train == Y_train)\n",
    "    \n",
    "    acc_train_svm_poly.append(acc_train)\n",
    "    print('Train Accuracy = {0:f}'.format(acc_train))\n",
    "    \n",
    "    Yhat_svc_linear_test = svc_linear.predict(X_test)\n",
    "    acc_test = np.mean(Yhat_svc_linear_test == Y_test)\n",
    "    \n",
    "    acc_test_svm_poly.append(acc_test)\n",
    "    print('Test Accuracy = {0:f}'.format(acc_test))\n",
    "    \n",
    "    c_svm_poly.append(c)"
   ]
  },
  {
   "cell_type": "code",
   "execution_count": null,
   "metadata": {},
   "outputs": [],
   "source": []
  },
  {
   "cell_type": "code",
   "execution_count": 40,
   "metadata": {},
   "outputs": [],
   "source": [
    "def SVM_poly(X, Y):\n",
    "    X_train, X_test, Y_train, Y_test = train_test_split(X, Y, test_size=0.3)\n",
    "    \n",
    "    cVals = list(np.arange(0.001,5,0.5))\n",
    "\n",
    "    for c in cVals:\n",
    "        print(c)\n",
    "        svm_poly(X_train, X_test, Y_train, Y_test ,c)\n",
    "    plot_svm(c_svm_poly,acc_train_svm_poly,acc_test_svm_poly)"
   ]
  },
  {
   "cell_type": "code",
   "execution_count": 41,
   "metadata": {},
   "outputs": [
    {
     "name": "stdout",
     "output_type": "stream",
     "text": [
      "0.001\n",
      "Train Accuracy = 0.533040\n",
      "Test Accuracy = 0.548718\n",
      "0.501\n",
      "Train Accuracy = 0.788546\n",
      "Test Accuracy = 0.487179\n",
      "1.001\n",
      "Train Accuracy = 0.828194\n",
      "Test Accuracy = 0.502564\n",
      "1.501\n",
      "Train Accuracy = 0.848018\n",
      "Test Accuracy = 0.512821\n",
      "2.001\n",
      "Train Accuracy = 0.861233\n",
      "Test Accuracy = 0.512821\n",
      "2.501\n",
      "Train Accuracy = 0.881057\n",
      "Test Accuracy = 0.517949\n",
      "3.001\n",
      "Train Accuracy = 0.887665\n",
      "Test Accuracy = 0.507692\n",
      "3.501\n",
      "Train Accuracy = 0.892070\n",
      "Test Accuracy = 0.502564\n",
      "4.001\n",
      "Train Accuracy = 0.905286\n",
      "Test Accuracy = 0.497436\n",
      "4.501\n",
      "Train Accuracy = 0.918502\n",
      "Test Accuracy = 0.497436\n"
     ]
    },
    {
     "name": "stderr",
     "output_type": "stream",
     "text": [
      "/Library/Frameworks/Python.framework/Versions/3.7/lib/python3.7/site-packages/sklearn/svm/base.py:196: FutureWarning: The default value of gamma will change from 'auto' to 'scale' in version 0.22 to account better for unscaled features. Set gamma explicitly to 'auto' or 'scale' to avoid this warning.\n",
      "  \"avoid this warning.\", FutureWarning)\n",
      "/Library/Frameworks/Python.framework/Versions/3.7/lib/python3.7/site-packages/sklearn/svm/base.py:196: FutureWarning: The default value of gamma will change from 'auto' to 'scale' in version 0.22 to account better for unscaled features. Set gamma explicitly to 'auto' or 'scale' to avoid this warning.\n",
      "  \"avoid this warning.\", FutureWarning)\n",
      "/Library/Frameworks/Python.framework/Versions/3.7/lib/python3.7/site-packages/sklearn/svm/base.py:196: FutureWarning: The default value of gamma will change from 'auto' to 'scale' in version 0.22 to account better for unscaled features. Set gamma explicitly to 'auto' or 'scale' to avoid this warning.\n",
      "  \"avoid this warning.\", FutureWarning)\n",
      "/Library/Frameworks/Python.framework/Versions/3.7/lib/python3.7/site-packages/sklearn/svm/base.py:196: FutureWarning: The default value of gamma will change from 'auto' to 'scale' in version 0.22 to account better for unscaled features. Set gamma explicitly to 'auto' or 'scale' to avoid this warning.\n",
      "  \"avoid this warning.\", FutureWarning)\n",
      "/Library/Frameworks/Python.framework/Versions/3.7/lib/python3.7/site-packages/sklearn/svm/base.py:196: FutureWarning: The default value of gamma will change from 'auto' to 'scale' in version 0.22 to account better for unscaled features. Set gamma explicitly to 'auto' or 'scale' to avoid this warning.\n",
      "  \"avoid this warning.\", FutureWarning)\n",
      "/Library/Frameworks/Python.framework/Versions/3.7/lib/python3.7/site-packages/sklearn/svm/base.py:196: FutureWarning: The default value of gamma will change from 'auto' to 'scale' in version 0.22 to account better for unscaled features. Set gamma explicitly to 'auto' or 'scale' to avoid this warning.\n",
      "  \"avoid this warning.\", FutureWarning)\n",
      "/Library/Frameworks/Python.framework/Versions/3.7/lib/python3.7/site-packages/sklearn/svm/base.py:196: FutureWarning: The default value of gamma will change from 'auto' to 'scale' in version 0.22 to account better for unscaled features. Set gamma explicitly to 'auto' or 'scale' to avoid this warning.\n",
      "  \"avoid this warning.\", FutureWarning)\n",
      "/Library/Frameworks/Python.framework/Versions/3.7/lib/python3.7/site-packages/sklearn/svm/base.py:196: FutureWarning: The default value of gamma will change from 'auto' to 'scale' in version 0.22 to account better for unscaled features. Set gamma explicitly to 'auto' or 'scale' to avoid this warning.\n",
      "  \"avoid this warning.\", FutureWarning)\n",
      "/Library/Frameworks/Python.framework/Versions/3.7/lib/python3.7/site-packages/sklearn/svm/base.py:196: FutureWarning: The default value of gamma will change from 'auto' to 'scale' in version 0.22 to account better for unscaled features. Set gamma explicitly to 'auto' or 'scale' to avoid this warning.\n",
      "  \"avoid this warning.\", FutureWarning)\n",
      "/Library/Frameworks/Python.framework/Versions/3.7/lib/python3.7/site-packages/sklearn/svm/base.py:196: FutureWarning: The default value of gamma will change from 'auto' to 'scale' in version 0.22 to account better for unscaled features. Set gamma explicitly to 'auto' or 'scale' to avoid this warning.\n",
      "  \"avoid this warning.\", FutureWarning)\n"
     ]
    },
    {
     "data": {
      "image/png": "[encoded data removed]",
      "text/plain": [
       "<Figure size 432x288 with 1 Axes>"
      ]
     },
     "metadata": {
      "needs_background": "light"
     },
     "output_type": "display_data"
    }
   ],
   "source": [
    "SVM_poly(X_different_three_news_extra,Y_different_three_news_extra)"
   ]
  },
  {
   "cell_type": "code",
   "execution_count": 42,
   "metadata": {},
   "outputs": [
    {
     "name": "stdout",
     "output_type": "stream",
     "text": [
      "0.001\n",
      "Train Accuracy = 0.528261\n",
      "Test Accuracy = 0.560606\n",
      "0.501\n",
      "Train Accuracy = 0.715217\n",
      "Test Accuracy = 0.489899\n",
      "1.001\n",
      "Train Accuracy = 0.741304\n",
      "Test Accuracy = 0.489899\n",
      "1.501\n",
      "Train Accuracy = 0.741304\n",
      "Test Accuracy = 0.484848\n",
      "2.001\n",
      "Train Accuracy = 0.743478\n",
      "Test Accuracy = 0.494949\n",
      "2.501\n",
      "Train Accuracy = 0.760870\n",
      "Test Accuracy = 0.484848\n",
      "3.001\n",
      "Train Accuracy = 0.767391\n"
     ]
    },
    {
     "name": "stderr",
     "output_type": "stream",
     "text": [
      "/Library/Frameworks/Python.framework/Versions/3.7/lib/python3.7/site-packages/sklearn/svm/base.py:196: FutureWarning: The default value of gamma will change from 'auto' to 'scale' in version 0.22 to account better for unscaled features. Set gamma explicitly to 'auto' or 'scale' to avoid this warning.\n",
      "  \"avoid this warning.\", FutureWarning)\n",
      "/Library/Frameworks/Python.framework/Versions/3.7/lib/python3.7/site-packages/sklearn/svm/base.py:196: FutureWarning: The default value of gamma will change from 'auto' to 'scale' in version 0.22 to account better for unscaled features. Set gamma explicitly to 'auto' or 'scale' to avoid this warning.\n",
      "  \"avoid this warning.\", FutureWarning)\n",
      "/Library/Frameworks/Python.framework/Versions/3.7/lib/python3.7/site-packages/sklearn/svm/base.py:196: FutureWarning: The default value of gamma will change from 'auto' to 'scale' in version 0.22 to account better for unscaled features. Set gamma explicitly to 'auto' or 'scale' to avoid this warning.\n",
      "  \"avoid this warning.\", FutureWarning)\n",
      "/Library/Frameworks/Python.framework/Versions/3.7/lib/python3.7/site-packages/sklearn/svm/base.py:196: FutureWarning: The default value of gamma will change from 'auto' to 'scale' in version 0.22 to account better for unscaled features. Set gamma explicitly to 'auto' or 'scale' to avoid this warning.\n",
      "  \"avoid this warning.\", FutureWarning)\n",
      "/Library/Frameworks/Python.framework/Versions/3.7/lib/python3.7/site-packages/sklearn/svm/base.py:196: FutureWarning: The default value of gamma will change from 'auto' to 'scale' in version 0.22 to account better for unscaled features. Set gamma explicitly to 'auto' or 'scale' to avoid this warning.\n",
      "  \"avoid this warning.\", FutureWarning)\n",
      "/Library/Frameworks/Python.framework/Versions/3.7/lib/python3.7/site-packages/sklearn/svm/base.py:196: FutureWarning: The default value of gamma will change from 'auto' to 'scale' in version 0.22 to account better for unscaled features. Set gamma explicitly to 'auto' or 'scale' to avoid this warning.\n",
      "  \"avoid this warning.\", FutureWarning)\n",
      "/Library/Frameworks/Python.framework/Versions/3.7/lib/python3.7/site-packages/sklearn/svm/base.py:196: FutureWarning: The default value of gamma will change from 'auto' to 'scale' in version 0.22 to account better for unscaled features. Set gamma explicitly to 'auto' or 'scale' to avoid this warning.\n",
      "  \"avoid this warning.\", FutureWarning)\n"
     ]
    },
    {
     "name": "stdout",
     "output_type": "stream",
     "text": [
      "Test Accuracy = 0.469697\n",
      "3.501\n",
      "Train Accuracy = 0.776087\n",
      "Test Accuracy = 0.479798\n",
      "4.001\n",
      "Train Accuracy = 0.782609\n",
      "Test Accuracy = 0.474747\n",
      "4.501\n",
      "Train Accuracy = 0.789130\n",
      "Test Accuracy = 0.494949\n"
     ]
    },
    {
     "name": "stderr",
     "output_type": "stream",
     "text": [
      "/Library/Frameworks/Python.framework/Versions/3.7/lib/python3.7/site-packages/sklearn/svm/base.py:196: FutureWarning: The default value of gamma will change from 'auto' to 'scale' in version 0.22 to account better for unscaled features. Set gamma explicitly to 'auto' or 'scale' to avoid this warning.\n",
      "  \"avoid this warning.\", FutureWarning)\n",
      "/Library/Frameworks/Python.framework/Versions/3.7/lib/python3.7/site-packages/sklearn/svm/base.py:196: FutureWarning: The default value of gamma will change from 'auto' to 'scale' in version 0.22 to account better for unscaled features. Set gamma explicitly to 'auto' or 'scale' to avoid this warning.\n",
      "  \"avoid this warning.\", FutureWarning)\n",
      "/Library/Frameworks/Python.framework/Versions/3.7/lib/python3.7/site-packages/sklearn/svm/base.py:196: FutureWarning: The default value of gamma will change from 'auto' to 'scale' in version 0.22 to account better for unscaled features. Set gamma explicitly to 'auto' or 'scale' to avoid this warning.\n",
      "  \"avoid this warning.\", FutureWarning)\n"
     ]
    },
    {
     "data": {
      "image/png": "[encoded data removed]",
      "text/plain": [
       "<Figure size 432x288 with 1 Axes>"
      ]
     },
     "metadata": {
      "needs_background": "light"
     },
     "output_type": "display_data"
    }
   ],
   "source": [
    "acc_train_svm_poly = []\n",
    "acc_test_svm_poly = []\n",
    "c_svm_poly = []\n",
    "SVM_poly(X_different_all_news_extra, Y_different_all_news_extra )"
   ]
  },
  {
   "cell_type": "markdown",
   "metadata": {},
   "source": [
    "# Neural Network models"
   ]
  },
  {
   "cell_type": "markdown",
   "metadata": {},
   "source": [
    "### non-lib"
   ]
  },
  {
   "cell_type": "code",
   "execution_count": 49,
   "metadata": {},
   "outputs": [],
   "source": [
    "def convert_y_to_vect(y):\n",
    "    y_vect = np.zeros((len(y), 2))\n",
    "    for i in range(len(y)):\n",
    "        if y[i] <= 0:\n",
    "            y_vect[i][0] = 1\n",
    "        else:\n",
    "            y_vect[i][1] = 1\n",
    "    return y_vect\n",
    "\n",
    "def f(z):\n",
    "    return 1 / (1 + np.exp(-z))\n",
    "\n",
    "\n",
    "def f_deriv(z):\n",
    "    return f(z) * (1 - f(z))\n",
    "\n",
    "def setup_and_init_weights(nn_structure):\n",
    "    W = {} #creating a dictionary i.e. a set of key: value pairs\n",
    "    b = {}\n",
    "    for l in range(1, len(nn_structure)):\n",
    "        W[l] = r.random_sample((nn_structure[l], nn_structure[l-1])) #Return “continuous uniform” random floats in the half-open interval [0.0, 1.0). \n",
    "        b[l] = r.random_sample((nn_structure[l],))\n",
    "    return W, b\n",
    "\n",
    "def init_tri_values(nn_structure):\n",
    "    tri_W = {}\n",
    "    tri_b = {}\n",
    "    for l in range(1, len(nn_structure)):\n",
    "        tri_W[l] = np.zeros((nn_structure[l], nn_structure[l-1]))\n",
    "        tri_b[l] = np.zeros((nn_structure[l],))\n",
    "    return tri_W, tri_b\n",
    "\n",
    "def feed_forward(x, W, b):\n",
    "    a = {1: x} # create a dictionary for holding the a values for all levels\n",
    "    z = { } # create a dictionary for holding the z values for all the layers\n",
    "    for l in range(1, len(W) + 1): # for each layer\n",
    "        node_in = a[l]\n",
    "        z[l+1] = W[l].dot(node_in) + b[l]  # z^(l+1) = W^(l)*a^(l) + b^(l)\n",
    "        a[l+1] = f(z[l+1]) # a^(l+1) = f(z^(l+1))\n",
    "    return a, z\n",
    "\n",
    "def calculate_out_layer_delta(y, a_out, z_out):\n",
    "    # delta^(nl) = -(y_i - a_i^(nl)) * f'(z_i^(nl))\n",
    "    return -(y-a_out) * f_deriv(z_out) \n",
    "\n",
    "\n",
    "def calculate_hidden_delta(delta_plus_1, w_l, z_l):\n",
    "    # delta^(l) = (transpose(W^(l)) * delta^(l+1)) * f'(z^(l))\n",
    "    return np.dot(np.transpose(w_l), delta_plus_1) * f_deriv(z_l)\n",
    "\n",
    "def train_nn(nn_structure, X, y, iter_num=3000, alpha=0.25):\n",
    "    W, b = setup_and_init_weights(nn_structure)\n",
    "    cnt = 0\n",
    "    N = len(y)\n",
    "    avg_cost_func = []\n",
    "    print('Starting gradient descent for {} iterations'.format(iter_num))\n",
    "    while cnt < iter_num:\n",
    "        if cnt%1000 == 0:\n",
    "            print('Iteration {} of {}'.format(cnt, iter_num))\n",
    "        tri_W, tri_b = init_tri_values(nn_structure)\n",
    "        avg_cost = 0\n",
    "        for i in range(N):\n",
    "            delta = {}\n",
    "            # perform the feed forward pass and return the stored a and z values, to be used in the\n",
    "            # gradient descent step\n",
    "            a, z = feed_forward(X[i, :], W, b)\n",
    "            # loop from nl-1 to 1 backpropagating the errors\n",
    "            for l in range(len(nn_structure), 0, -1):\n",
    "                if l == len(nn_structure):\n",
    "                    delta[l] = calculate_out_layer_delta(y[i,:], a[l], z[l])\n",
    "                    avg_cost += np.linalg.norm((y[i,:]-a[l]))\n",
    "                else:\n",
    "                    if l > 1:\n",
    "                        delta[l] = calculate_hidden_delta(delta[l+1], W[l], z[l])\n",
    "                    # triW^(l) = triW^(l) + delta^(l+1) * transpose(a^(l))\n",
    "                    tri_W[l] += np.dot(delta[l+1][:,np.newaxis], np.transpose(a[l][:,np.newaxis]))# np.newaxis increase the number of dimensions\n",
    "                    # trib^(l) = trib^(l) + delta^(l+1)\n",
    "                    tri_b[l] += delta[l+1]\n",
    "        # perform the gradient descent step for the weights in each layer\n",
    "        for l in range(len(nn_structure) - 1, 0, -1):\n",
    "            W[l] += -alpha * (1.0/N * tri_W[l])\n",
    "            b[l] += -alpha * (1.0/N * tri_b[l])\n",
    "        # complete the average cost calculation\n",
    "        avg_cost = 1.0/N * avg_cost\n",
    "        avg_cost_func.append(avg_cost)\n",
    "        cnt += 1\n",
    "    return W, b, avg_cost_func\n",
    "\n",
    "\n",
    "def predict_y(W, b, X, n_layers):\n",
    "    N = X.shape[0]\n",
    "    y = np.zeros((N,))\n",
    "    for i in range(N):\n",
    "        a, z = feed_forward(X[i, :], W, b)\n",
    "        y[i] = np.argmax(a[n_layers])\n",
    "    print(y)\n",
    "    return y"
   ]
  },
  {
   "cell_type": "code",
   "execution_count": 50,
   "metadata": {},
   "outputs": [],
   "source": [
    "# convert y to [1,0] and [0,1]"
   ]
  },
  {
   "cell_type": "code",
   "execution_count": 51,
   "metadata": {},
   "outputs": [],
   "source": [
    "different_all_news_extra[\"APPL diff\"] = different_all_news_extra[\"APPL diff\"].apply(transfer_y_binary)\n",
    "different_three_news_extra[\"APPL diff\"] = different_three_news_extra[\"APPL diff\"].apply(transfer_y_binary)"
   ]
  },
  {
   "cell_type": "code",
   "execution_count": 52,
   "metadata": {},
   "outputs": [],
   "source": [
    "X_different_three_news_extra,Y_different_three_news_extra = transfer_dataframe_to_x_y_for_SVM(different_three_news_extra,\"APPL diff\")\n",
    "X_different_all_news_extra, Y_different_all_news_extra = transfer_dataframe_to_x_y_for_SVM(different_all_news_extra,\"APPL diff\")\n"
   ]
  },
  {
   "cell_type": "code",
   "execution_count": 53,
   "metadata": {},
   "outputs": [
    {
     "name": "stdout",
     "output_type": "stream",
     "text": [
      "(649, 11)\n"
     ]
    }
   ],
   "source": [
    "print(X_different_three_news_extra.shape)"
   ]
  },
  {
   "cell_type": "code",
   "execution_count": 54,
   "metadata": {},
   "outputs": [
    {
     "ename": "NameError",
     "evalue": "name 'r' is not defined",
     "output_type": "error",
     "traceback": [
      "\u001b[0;31m---------------------------------------------------------------------------\u001b[0m",
      "\u001b[0;31mNameError\u001b[0m                                 Traceback (most recent call last)",
      "\u001b[0;32m<ipython-input-54-ad285b7ba09b>\u001b[0m in \u001b[0;36m<module>\u001b[0;34m\u001b[0m\n\u001b[1;32m      7\u001b[0m \u001b[0mY_V_test\u001b[0m \u001b[0;34m=\u001b[0m \u001b[0mconvert_y_to_vect\u001b[0m\u001b[0;34m(\u001b[0m\u001b[0mY_test\u001b[0m\u001b[0;34m)\u001b[0m\u001b[0;34m\u001b[0m\u001b[0;34m\u001b[0m\u001b[0m\n\u001b[1;32m      8\u001b[0m \u001b[0;31m# train the NN\u001b[0m\u001b[0;34m\u001b[0m\u001b[0;34m\u001b[0m\u001b[0;34m\u001b[0m\u001b[0m\n\u001b[0;32m----> 9\u001b[0;31m \u001b[0mW\u001b[0m\u001b[0;34m,\u001b[0m \u001b[0mb\u001b[0m\u001b[0;34m,\u001b[0m \u001b[0mavg_cost_func\u001b[0m \u001b[0;34m=\u001b[0m \u001b[0mtrain_nn\u001b[0m\u001b[0;34m(\u001b[0m\u001b[0mnn_structure\u001b[0m\u001b[0;34m,\u001b[0m \u001b[0mX_train\u001b[0m\u001b[0;34m,\u001b[0m \u001b[0mY_V_train\u001b[0m\u001b[0;34m,\u001b[0m \u001b[0;36m3000\u001b[0m\u001b[0;34m)\u001b[0m\u001b[0;34m\u001b[0m\u001b[0;34m\u001b[0m\u001b[0m\n\u001b[0m\u001b[1;32m     10\u001b[0m \u001b[0;34m\u001b[0m\u001b[0m\n\u001b[1;32m     11\u001b[0m \u001b[0;31m# get the prediction accuracy and print\u001b[0m\u001b[0;34m\u001b[0m\u001b[0;34m\u001b[0m\u001b[0;34m\u001b[0m\u001b[0m\n",
      "\u001b[0;32m<ipython-input-49-cd467e98614a>\u001b[0m in \u001b[0;36mtrain_nn\u001b[0;34m(nn_structure, X, y, iter_num, alpha)\u001b[0m\n\u001b[1;32m     50\u001b[0m \u001b[0;34m\u001b[0m\u001b[0m\n\u001b[1;32m     51\u001b[0m \u001b[0;32mdef\u001b[0m \u001b[0mtrain_nn\u001b[0m\u001b[0;34m(\u001b[0m\u001b[0mnn_structure\u001b[0m\u001b[0;34m,\u001b[0m \u001b[0mX\u001b[0m\u001b[0;34m,\u001b[0m \u001b[0my\u001b[0m\u001b[0;34m,\u001b[0m \u001b[0miter_num\u001b[0m\u001b[0;34m=\u001b[0m\u001b[0;36m3000\u001b[0m\u001b[0;34m,\u001b[0m \u001b[0malpha\u001b[0m\u001b[0;34m=\u001b[0m\u001b[0;36m0.25\u001b[0m\u001b[0;34m)\u001b[0m\u001b[0;34m:\u001b[0m\u001b[0;34m\u001b[0m\u001b[0;34m\u001b[0m\u001b[0m\n\u001b[0;32m---> 52\u001b[0;31m     \u001b[0mW\u001b[0m\u001b[0;34m,\u001b[0m \u001b[0mb\u001b[0m \u001b[0;34m=\u001b[0m \u001b[0msetup_and_init_weights\u001b[0m\u001b[0;34m(\u001b[0m\u001b[0mnn_structure\u001b[0m\u001b[0;34m)\u001b[0m\u001b[0;34m\u001b[0m\u001b[0;34m\u001b[0m\u001b[0m\n\u001b[0m\u001b[1;32m     53\u001b[0m     \u001b[0mcnt\u001b[0m \u001b[0;34m=\u001b[0m \u001b[0;36m0\u001b[0m\u001b[0;34m\u001b[0m\u001b[0;34m\u001b[0m\u001b[0m\n\u001b[1;32m     54\u001b[0m     \u001b[0mN\u001b[0m \u001b[0;34m=\u001b[0m \u001b[0mlen\u001b[0m\u001b[0;34m(\u001b[0m\u001b[0my\u001b[0m\u001b[0;34m)\u001b[0m\u001b[0;34m\u001b[0m\u001b[0;34m\u001b[0m\u001b[0m\n",
      "\u001b[0;32m<ipython-input-49-cd467e98614a>\u001b[0m in \u001b[0;36msetup_and_init_weights\u001b[0;34m(nn_structure)\u001b[0m\n\u001b[1;32m     19\u001b[0m     \u001b[0mb\u001b[0m \u001b[0;34m=\u001b[0m \u001b[0;34m{\u001b[0m\u001b[0;34m}\u001b[0m\u001b[0;34m\u001b[0m\u001b[0;34m\u001b[0m\u001b[0m\n\u001b[1;32m     20\u001b[0m     \u001b[0;32mfor\u001b[0m \u001b[0ml\u001b[0m \u001b[0;32min\u001b[0m \u001b[0mrange\u001b[0m\u001b[0;34m(\u001b[0m\u001b[0;36m1\u001b[0m\u001b[0;34m,\u001b[0m \u001b[0mlen\u001b[0m\u001b[0;34m(\u001b[0m\u001b[0mnn_structure\u001b[0m\u001b[0;34m)\u001b[0m\u001b[0;34m)\u001b[0m\u001b[0;34m:\u001b[0m\u001b[0;34m\u001b[0m\u001b[0;34m\u001b[0m\u001b[0m\n\u001b[0;32m---> 21\u001b[0;31m         \u001b[0mW\u001b[0m\u001b[0;34m[\u001b[0m\u001b[0ml\u001b[0m\u001b[0;34m]\u001b[0m \u001b[0;34m=\u001b[0m \u001b[0mr\u001b[0m\u001b[0;34m.\u001b[0m\u001b[0mrandom_sample\u001b[0m\u001b[0;34m(\u001b[0m\u001b[0;34m(\u001b[0m\u001b[0mnn_structure\u001b[0m\u001b[0;34m[\u001b[0m\u001b[0ml\u001b[0m\u001b[0;34m]\u001b[0m\u001b[0;34m,\u001b[0m \u001b[0mnn_structure\u001b[0m\u001b[0;34m[\u001b[0m\u001b[0ml\u001b[0m\u001b[0;34m-\u001b[0m\u001b[0;36m1\u001b[0m\u001b[0;34m]\u001b[0m\u001b[0;34m)\u001b[0m\u001b[0;34m)\u001b[0m \u001b[0;31m#Return “continuous uniform” random floats in the half-open interval [0.0, 1.0).\u001b[0m\u001b[0;34m\u001b[0m\u001b[0;34m\u001b[0m\u001b[0m\n\u001b[0m\u001b[1;32m     22\u001b[0m         \u001b[0mb\u001b[0m\u001b[0;34m[\u001b[0m\u001b[0ml\u001b[0m\u001b[0;34m]\u001b[0m \u001b[0;34m=\u001b[0m \u001b[0mr\u001b[0m\u001b[0;34m.\u001b[0m\u001b[0mrandom_sample\u001b[0m\u001b[0;34m(\u001b[0m\u001b[0;34m(\u001b[0m\u001b[0mnn_structure\u001b[0m\u001b[0;34m[\u001b[0m\u001b[0ml\u001b[0m\u001b[0;34m]\u001b[0m\u001b[0;34m,\u001b[0m\u001b[0;34m)\u001b[0m\u001b[0;34m)\u001b[0m\u001b[0;34m\u001b[0m\u001b[0;34m\u001b[0m\u001b[0m\n\u001b[1;32m     23\u001b[0m     \u001b[0;32mreturn\u001b[0m \u001b[0mW\u001b[0m\u001b[0;34m,\u001b[0m \u001b[0mb\u001b[0m\u001b[0;34m\u001b[0m\u001b[0;34m\u001b[0m\u001b[0m\n",
      "\u001b[0;31mNameError\u001b[0m: name 'r' is not defined"
     ]
    }
   ],
   "source": [
    "nn_structure = [11, 12, 2]\n",
    "\n",
    "nn_structure2 = []\n",
    "\n",
    "X_train, X_test, Y_train, Y_test = train_test_split(X_different_three_news_extra, Y_different_three_news_extra, test_size=0.3)\n",
    "Y_V_train = convert_y_to_vect(Y_train)\n",
    "Y_V_test = convert_y_to_vect(Y_test)\n",
    "# train the NN\n",
    "W, b, avg_cost_func = train_nn(nn_structure, X_train, Y_V_train, 3000)\n",
    "\n",
    "# get the prediction accuracy and print\n",
    "y_pred = predict_y(W, b, X_test, 3)\n",
    "print('Prediction accuracy is {}%'.format(accuracy_score(Y_test, y_pred) * 100))"
   ]
  },
  {
   "cell_type": "markdown",
   "metadata": {},
   "source": [
    "### keras lib\n"
   ]
  },
  {
   "cell_type": "code",
   "execution_count": 55,
   "metadata": {},
   "outputs": [],
   "source": [
    "def transfer_y_binary_keras(value):\n",
    "    if value < 0:\n",
    "        out = 0\n",
    "    else:\n",
    "        out = 1\n",
    "    return out"
   ]
  },
  {
   "cell_type": "code",
   "execution_count": 56,
   "metadata": {},
   "outputs": [],
   "source": [
    "def transfer_dataframe_to_x_y_for_SVM(dataframe, y_colum):\n",
    "    #y_dataframe = dataframe[y_colum]\n",
    "    dataframe = dataframe.dropna()\n",
    "    y = dataframe[y_colum].values\n",
    "    x_dataframe = dataframe.drop(columns= [y_colum,\"Date\"])\n",
    "    x = x_dataframe.values\n",
    "    return x,y"
   ]
  },
  {
   "cell_type": "code",
   "execution_count": 57,
   "metadata": {},
   "outputs": [],
   "source": [
    "different_all_news_extra[\"APPL diff\"] = different_all_news_extra[\"APPL diff\"].apply(transfer_y_binary_keras)\n",
    "different_three_news_extra[\"APPL diff\"] = different_three_news_extra[\"APPL diff\"].apply(transfer_y_binary_keras)\n"
   ]
  },
  {
   "cell_type": "code",
   "execution_count": 58,
   "metadata": {},
   "outputs": [],
   "source": [
    "X_different_three_news_extra,Y_different_three_news_extra = transfer_dataframe_to_x_y_for_SVM(different_three_news_extra,\"APPL diff\")\n",
    "X_different_all_news_extra, Y_different_all_news_extra = transfer_dataframe_to_x_y_for_SVM(different_all_news_extra,\"APPL diff\")\n",
    "X_different_three_news_extra = StandardScaler().fit_transform(X_different_three_news_extra)\n",
    "X_different_all_news_extra =  StandardScaler().fit_transform(X_different_all_news_extra)\n"
   ]
  },
  {
   "cell_type": "code",
   "execution_count": null,
   "metadata": {},
   "outputs": [],
   "source": []
  },
  {
   "cell_type": "code",
   "execution_count": null,
   "metadata": {},
   "outputs": [],
   "source": []
  },
  {
   "cell_type": "code",
   "execution_count": null,
   "metadata": {},
   "outputs": [],
   "source": []
  },
  {
   "cell_type": "code",
   "execution_count": 59,
   "metadata": {},
   "outputs": [],
   "source": [
    "# passing x, y before separate into train and test\n",
    "# hidenLayer is hidden layer as list. eg [10,4,2] is three hiden layer with 10 number of Neural etc. \n",
    "# activation is activation function\n",
    "# activity_regularizer is how much to regularizer\n",
    "### kernel_constraint is for constraint number using \n",
    "# optimizer is optimiz function such as sgd\n",
    "# batch_size is smaple size for each gd renew, 每次梯度更新的样本数\n",
    "# epochs: number iterations of generation\n",
    "def nn_classifier(x, y, hidenLayer, activation, regularizer, \n",
    "                  optimizer, batch_size, epochs):\n",
    "    \n",
    "    model = Sequential()\n",
    "    n_parameter = x.shape[1]\n",
    "    model.add(Dense(hidenLayer[0], input_shape = (n_parameter,), activation = activation, name = \"hidden\",\n",
    "                   activity_regularizer = regularizers.l2(regularizer)))\n",
    "    \n",
    "    if len(hidenLayer) > 1:\n",
    "        for layer in range(1,len(hidenLayer)):\n",
    "            name_in = \"hidden\" + str(layer)\n",
    "            model.add(Dense(hidenLayer[layer], activation = activation, name = name_in,\n",
    "                   activity_regularizer = regularizers.l2(regularizer)))\n",
    "            \n",
    "    model.add(Dense(1, activation=activation,activity_regularizer = regularizers.l2(regularizer), \n",
    "                    name='output'))\n",
    "    \n",
    "    model.compile(optimizer=optimizer,\n",
    "                  loss='binary_crossentropy',\n",
    "                  metrics=['accuracy'])\n",
    "    \n",
    "    X_train, X_test, Y_train, Y_test = train_test_split(x, y, test_size=0.2)\n",
    "\n",
    "    model.fit(X_train, Y_train, epochs = epochs, batch_size = batch_size,verbose=0)\n",
    "\n",
    "    lossi_Out, Eout = model.evaluate(X_test,Y_test, verbose=0)\n",
    "    lossi_In, Ein = model.evaluate(X_train,Y_train, verbose=0)\n",
    "    \n",
    "    model.summary()\n",
    "    print()\n",
    "    print(\"RESULT: \")\n",
    "    print(\"optimizer=\"+optimizer+\", activation=\" + activation) \n",
    "    print(\"batch_size=%3d, epoch=%4d, regularizer=%7.5f, loss=%12.4e, Ein=%7.5f, Eout=%7.5f\" % (batch_size, \n",
    "                                                                                               epochs,\n",
    "                                                                                               regularizer,\n",
    "                                                                                               lossi_In,\n",
    "                                                                                               Ein,\n",
    "                                                                                               Eout))\n",
    "    print()\n",
    " "
   ]
  },
  {
   "cell_type": "code",
   "execution_count": 60,
   "metadata": {},
   "outputs": [
    {
     "name": "stdout",
     "output_type": "stream",
     "text": [
      "WARNING:tensorflow:From /Library/Frameworks/Python.framework/Versions/3.7/lib/python3.7/site-packages/tensorflow/python/framework/op_def_library.py:263: colocate_with (from tensorflow.python.framework.ops) is deprecated and will be removed in a future version.\n",
      "Instructions for updating:\n",
      "Colocations handled automatically by placer.\n",
      "WARNING:tensorflow:From /Library/Frameworks/Python.framework/Versions/3.7/lib/python3.7/site-packages/tensorflow/python/ops/math_ops.py:3066: to_int32 (from tensorflow.python.ops.math_ops) is deprecated and will be removed in a future version.\n",
      "Instructions for updating:\n",
      "Use tf.cast instead.\n",
      "_________________________________________________________________\n",
      "Layer (type)                 Output Shape              Param #   \n",
      "=================================================================\n",
      "hidden (Dense)               (None, 20)                780       \n",
      "_________________________________________________________________\n",
      "hidden1 (Dense)              (None, 13)                273       \n",
      "_________________________________________________________________\n",
      "output (Dense)               (None, 1)                 14        \n",
      "=================================================================\n",
      "Total params: 1,067\n",
      "Trainable params: 1,067\n",
      "Non-trainable params: 0\n",
      "_________________________________________________________________\n",
      "\n",
      "RESULT: \n",
      "optimizer=rmsprop, activation=sigmoid\n",
      "batch_size=600, epoch=2000, regularizer=0.00010, loss=  4.8264e-01, Ein=0.72433, Eout=0.56061\n",
      "\n"
     ]
    }
   ],
   "source": [
    "K.clear_session()\n",
    "nn_classifier(X_different_all_news_extra, Y_different_all_news_extra,[20,13],'sigmoid', 0.0001,\"rmsprop\",600,2000)"
   ]
  },
  {
   "cell_type": "code",
   "execution_count": 61,
   "metadata": {},
   "outputs": [
    {
     "name": "stdout",
     "output_type": "stream",
     "text": [
      "_________________________________________________________________\n",
      "Layer (type)                 Output Shape              Param #   \n",
      "=================================================================\n",
      "hidden (Dense)               (None, 5)                 60        \n",
      "_________________________________________________________________\n",
      "output (Dense)               (None, 1)                 6         \n",
      "=================================================================\n",
      "Total params: 66\n",
      "Trainable params: 66\n",
      "Non-trainable params: 0\n",
      "_________________________________________________________________\n",
      "\n",
      "RESULT: \n",
      "optimizer=rmsprop, activation=sigmoid\n",
      "batch_size=600, epoch=2000, regularizer=0.00010, loss=  5.8335e-01, Ein=0.68208, Eout=0.64615\n",
      "\n"
     ]
    }
   ],
   "source": [
    "K.clear_session()\n",
    "nn_classifier(X_different_three_news_extra, Y_different_three_news_extra,[5],'sigmoid', 0.0001,\"rmsprop\",600,2000)"
   ]
  },
  {
   "cell_type": "code",
   "execution_count": 62,
   "metadata": {},
   "outputs": [
    {
     "name": "stdout",
     "output_type": "stream",
     "text": [
      "[0 1 1 0 0 0 0 0 1 1 1 1 1 1 0 0 0 1 1 1 1 0 1 1 0 1 1 0 0 1 1 1 1 0 0 1 0\n",
      " 1 0 1 1 0 1 1 1 1 0 1 1 1 1 1 0 0 1 1 1 0 1 1 1 1 1 0 0 1 1 1 0 1 1 0 0 0\n",
      " 0 0 1 0 1 0 1 1 0 1 0 1 0 0 1 1 1 0 0 1 0 1 1 1 0 1 0 0 0 1 1 1 1 0 0 0 1\n",
      " 0 1 1 1 0 1 0 0 0 0 1 0 0 1 0 1 1 0 1 1 1 0 0 0 0 1 1 1 1 0 1 0 0 0 0 1 1\n",
      " 1 1 0 1 0 1 1 0 0 0 0 0 0 1 1 0 0 0 1 0 0 0 0 1 0 0 1 1 1 1 0 0 1 0 0 0 0\n",
      " 1 1 1 1 0 0 0 1 1 0 1 1 1]\n"
     ]
    }
   ],
   "source": [
    "X_train, X_test, Y_train, Y_test = train_test_split(X_different_all_news_extra, Y_different_all_news_extra, test_size=0.3)\n",
    "print(Y_test)\n",
    "\n"
   ]
  },
  {
   "cell_type": "code",
   "execution_count": null,
   "metadata": {},
   "outputs": [],
   "source": []
  },
  {
   "cell_type": "code",
   "execution_count": null,
   "metadata": {},
   "outputs": [],
   "source": []
  },
  {
   "cell_type": "code",
   "execution_count": null,
   "metadata": {},
   "outputs": [],
   "source": []
  },
  {
   "cell_type": "code",
   "execution_count": null,
   "metadata": {},
   "outputs": [],
   "source": []
  }
 ],
 "metadata": {
  "kernelspec": {
   "display_name": "Python 3",
   "language": "python",
   "name": "python3"
  },
  "language_info": {
   "codemirror_mode": {
    "name": "ipython",
    "version": 3
   },
   "file_extension": ".py",
   "mimetype": "text/x-python",
   "name": "python",
   "nbconvert_exporter": "python",
   "pygments_lexer": "ipython3",
   "version": "3.7.2"
  }
 },
 "nbformat": 4,
 "nbformat_minor": 2
}
