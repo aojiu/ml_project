{
 "cells": [
  {
   "cell_type": "markdown",
   "metadata": {},
   "source": [
    "# Datasets description"
   ]
  },
  {
   "cell_type": "markdown",
   "metadata": {},
   "source": [
    "dataset:\n",
    "three dataset:\n",
    "first:\n",
    "y: close price, x : all news parameters and extra info\n",
    "file: close_all_news_extra check\n",
    "second:\n",
    "y: close price, x : three news parameters and extra info\n",
    "file: close_three_news_extra check \n",
    "third:\n",
    "y: close price - open price, x : all news parameters and extra info\n",
    "file: different_all_news_extra\n",
    "fourth:\n",
    "y: close price - open price, x :  three news parameters and extra info\n",
    "file: different_three_news_extra check"
   ]
  },
  {
   "cell_type": "code",
   "execution_count": 40,
   "metadata": {},
   "outputs": [],
   "source": [
    "import pandas as pd\n",
    "import numpy as np\n",
    "\n",
    "from sklearn.preprocessing import StandardScaler  # It is important in neural networks to scale the date\n",
    "from sklearn.model_selection import train_test_split  # The standard - train/test to prevent overfitting and choose hyperparameters\n",
    "from sklearn.metrics import accuracy_score # \n",
    "from sklearn.metrics import f1_score\n",
    "from sklearn.metrics import auc\n",
    "from sklearn.metrics import roc_curve\n",
    "from sklearn import datasets, linear_model, preprocessing\n",
    "import sklearn\n",
    "from sklearn.preprocessing import PolynomialFeatures\n",
    "from sklearn.preprocessing import scale\n",
    "import sklearn.linear_model\n",
    "from sklearn.linear_model import Ridge\n",
    "from sklearn.decomposition import PCA\n",
    "from sklearn import svm\n",
    "import tensorflow as tf\n",
    "from tensorflow import keras\n",
    "import numpy.random as r\n",
    "import warnings\n",
    "warnings.filterwarnings('ignore')\n",
    "from sklearn.preprocessing import StandardScaler\n",
    "import matplotlib.pyplot as plt\n",
    "\n",
    "%matplotlib inline"
   ]
  },
  {
   "cell_type": "code",
   "execution_count": 6,
   "metadata": {},
   "outputs": [],
   "source": [
    "from keras.models import Model, Sequential\n",
    "from keras.layers import Dense, Activation\n",
    "from keras import regularizers\n",
    "from keras import optimizers\n",
    "import keras.backend as K\n",
    "K.clear_session()"
   ]
  },
  {
   "cell_type": "code",
   "execution_count": 7,
   "metadata": {},
   "outputs": [
    {
     "name": "stdout",
     "output_type": "stream",
     "text": [
      "(658, 40)\n",
      "(658, 40)\n"
     ]
    }
   ],
   "source": [
    "close_all_news_extra = pd.read_csv(\"close_all_news_extra.csv\")\n",
    "close_all_news_extra = close_all_news_extra.drop(columns= [\"appear\"])\n",
    "\n",
    "close_three_news_extra = pd.read_csv(\"close_three_news_extra.csv\")\n",
    "close_three_news_extra = close_three_news_extra.drop(columns= [\"appearence\"])\n",
    "\n",
    "different_all_news_extra = pd.read_csv(\"different_all_news_extra.csv\")\n",
    "different_all_news_extra = different_all_news_extra.drop(columns= [\"appear\"])\n",
    "\n",
    "different_three_news_extra = pd.read_csv(\"different_three_news_extra.csv\")\n",
    "different_three_news_extra = different_three_news_extra.drop(columns= [\"appearence\"])\n",
    "\n",
    "print(different_all_news_extra.shape)\n",
    "print(close_all_news_extra.shape)"
   ]
  },
  {
   "cell_type": "code",
   "execution_count": 8,
   "metadata": {},
   "outputs": [
    {
     "name": "stdout",
     "output_type": "stream",
     "text": [
      "[1, 2, 3]\n",
      "[4, 5]\n",
      "[1, 2, 3]\n",
      "[4, 5]\n"
     ]
    }
   ],
   "source": [
    "xx = [1,2,3,4,5]\n",
    "yy = [1,2,3,4,5]\n",
    "a,b,c,d = train_test_split(xx,yy, shuffle = False)\n",
    "print(a)\n",
    "print(b)\n",
    "print(c)\n",
    "print(d)"
   ]
  },
  {
   "cell_type": "code",
   "execution_count": 9,
   "metadata": {},
   "outputs": [
    {
     "data": {
      "text/plain": [
       "Index(['Unnamed: 0', 'Euro exchange rate', 'Date', 'Hong Kong exchange rate',\n",
       "       'Canada exchange rate', 'China exchange rate', 'QCOM close price',\n",
       "       'MSFT close price', 'TXN close price', 'APPL close price',\n",
       "       'social_media', 'computer', 'business', 'programming', 'hearing',\n",
       "       'urban', 'shopping', 'science', 'work', 'valuable', 'fashion',\n",
       "       'technology', 'competing', 'economics', 'office', 'cheerfulness',\n",
       "       'optimism', 'celebration', 'trust', 'positive_emotion', 'hate',\n",
       "       'aggression', 'horror', 'suffering', 'ridicule', 'irritability',\n",
       "       'deception', 'disappointment', 'negative_emotion', 'nervousness'],\n",
       "      dtype='object')"
      ]
     },
     "execution_count": 9,
     "metadata": {},
     "output_type": "execute_result"
    }
   ],
   "source": [
    "close_all_news_extra.columns"
   ]
  },
  {
   "cell_type": "code",
   "execution_count": 10,
   "metadata": {},
   "outputs": [
    {
     "data": {
      "text/plain": [
       "Index(['Unnamed: 0', 'Euro exchange rate', 'Date', 'Hong Kong exchange rate',\n",
       "       'Canada exchange rate', 'China exchange rate', 'QCOM close price',\n",
       "       'MSFT close price', 'TXN close price', 'APPL close price',\n",
       "       'new_correlation', 'pos_re', 'neg_re'],\n",
       "      dtype='object')"
      ]
     },
     "execution_count": 10,
     "metadata": {},
     "output_type": "execute_result"
    }
   ],
   "source": [
    "close_three_news_extra.columns"
   ]
  },
  {
   "cell_type": "code",
   "execution_count": 11,
   "metadata": {},
   "outputs": [],
   "source": [
    "def plot(test, prediction, num, title):\n",
    "    plt.plot(num, prediction, 'r-', label = \"prediction\")\n",
    "    plt.plot(num, test, 'b-', label =\"real value\")\n",
    "    plt.title(title)\n",
    "    plt.legend(loc = \"upper right\")\n",
    "    plt.show()"
   ]
  },
  {
   "cell_type": "code",
   "execution_count": 12,
   "metadata": {},
   "outputs": [],
   "source": [
    "# pull out the y and x, and transfer into dataset:\n",
    "def transfer_dataframe_to_x_y(dataframe, y_colum):\n",
    "    #y_dataframe = dataframe[y_colum]\n",
    "    dataframe = dataframe.dropna()\n",
    "    y = dataframe[y_colum].values\n",
    "    y = y.reshape(y.shape[0],1)\n",
    "    x_dataframe = dataframe.drop(columns= [y_colum,\"Date\"])\n",
    "    x = x_dataframe.values\n",
    "    return x,y"
   ]
  },
  {
   "cell_type": "code",
   "execution_count": null,
   "metadata": {},
   "outputs": [],
   "source": []
  },
  {
   "cell_type": "markdown",
   "metadata": {},
   "source": [
    "# Linear Regression models\n",
    "now we have a table that:\n",
    "        redge degree:   0, 0.35, 0.5, 0.75\n",
    "        polynomial degree: 1, 2\n"
   ]
  },
  {
   "cell_type": "code",
   "execution_count": 13,
   "metadata": {},
   "outputs": [
    {
     "name": "stdout",
     "output_type": "stream",
     "text": [
      "\n"
     ]
    }
   ],
   "source": [
    "X_close_three_news_extra,Y_close_three_news_extra = transfer_dataframe_to_x_y(close_three_news_extra,\"APPL close price\")\n",
    "X_different_three_news_extra,Y_different_three_news_extra = transfer_dataframe_to_x_y(different_three_news_extra,\"APPL diff\")\n",
    "X_close_all_news_extra, Y_close_all_news_extra = transfer_dataframe_to_x_y(close_all_news_extra,\"APPL close price\")\n",
    "X_different_all_news_extra, Y_different_all_news_extra = transfer_dataframe_to_x_y(different_all_news_extra,\"APPL diff\")\n",
    "print()"
   ]
  },
  {
   "cell_type": "code",
   "execution_count": 14,
   "metadata": {},
   "outputs": [],
   "source": [
    "def linear_fit(X_train, X_test, Y_train, Y_test, alpha):\n",
    "    ridge = Ridge(alpha)\n",
    "    ridge.fit(X_train,Y_train)\n",
    "    train_error = (1/Y_train.shape[0])*np.sum((Y_train-ridge.predict(X_train))**2)\n",
    "    test_error = (1/Y_test.shape[0])*np.sum((Y_test-ridge.predict(X_test))**2)\n",
    "    R2 = 1 - np.sum((Y_train - ridge.predict(X_train))**2) / np.sum((Y_train - np.mean(Y_train))**2)\n",
    "    return train_error, test_error, R2, ridge"
   ]
  },
  {
   "cell_type": "code",
   "execution_count": 15,
   "metadata": {},
   "outputs": [],
   "source": [
    "def model_selection(X, Y):\n",
    "    deg_list = [1,2,3,4,5]\n",
    "    alpha_list = [0,0.35,0.5,0.75]\n",
    "    mse_tr = []\n",
    "    mse_test = []\n",
    "    for elem in deg_list:\n",
    "        temp_mse_tr = None\n",
    "        temp_mse_test = None\n",
    "        if elem != 1:\n",
    "    #         print(elem)\n",
    "            poly = PolynomialFeatures(int(elem))\n",
    "            X_poly = poly.fit_transform(X)\n",
    "            Y_poly = Y\n",
    "            X_train_poly, X_test_poly, Y_train_poly, Y_test_poly = train_test_split(X_poly, Y_poly, test_size=0.3)\n",
    "        else:\n",
    "            Y_poly = Y\n",
    "            X_train_poly, X_test_poly, Y_train_poly, Y_test_poly = train_test_split(X, Y, test_size=0.3)            \n",
    "        for alpha in alpha_list:\n",
    "            print(\"This is alpha: \", alpha)\n",
    "            print()\n",
    "#             print(alpha)\n",
    "            train_error, test_error, R2, ridge = linear_fit(X_train_poly, X_test_poly, Y_train_poly, Y_test_poly, float(alpha))\n",
    "#             print(\"train_error: \", train_error, \"alpha: \", alpha)\n",
    "#             print(\"before condition: \", temp_mse_tr)\n",
    "            print(\"this is test error:\", test_error)\n",
    "            if temp_mse_tr is None:\n",
    "                temp_mse_tr = (train_error, float(alpha))\n",
    "                \n",
    "            elif temp_mse_tr[0] > train_error:\n",
    "#                 print(\"updating: \", alpha)\n",
    "                temp_mse_tr = (train_error, float(alpha))\n",
    "            \n",
    "                \n",
    "            if temp_mse_test is None:\n",
    "                temp_mse_test = (test_error, float(alpha))\n",
    "               \n",
    "            elif temp_mse_test[0] > test_error:\n",
    "                temp_mse_test = (test_error, float(alpha))\n",
    "               \n",
    "        mse_tr.append(temp_mse_tr)  \n",
    "        mse_test.append(temp_mse_test) \n",
    "        \n",
    "            \n",
    "    return mse_tr, mse_test"
   ]
  },
  {
   "cell_type": "code",
   "execution_count": 16,
   "metadata": {},
   "outputs": [
    {
     "name": "stdout",
     "output_type": "stream",
     "text": [
      "This is alpha:  0\n",
      "\n",
      "this is test error: 58.47296841133638\n",
      "This is alpha:  0.35\n",
      "\n",
      "this is test error: 70.47312240065743\n",
      "This is alpha:  0.5\n",
      "\n",
      "this is test error: 72.60395828007744\n",
      "This is alpha:  0.75\n",
      "\n",
      "this is test error: 75.82774329365954\n",
      "This is alpha:  0\n",
      "\n",
      "this is test error: 5.217897641065488e+18\n",
      "This is alpha:  0.35\n",
      "\n",
      "this is test error: 38.007335320188496\n",
      "This is alpha:  0.5\n",
      "\n",
      "this is test error: 37.7822535564621\n",
      "This is alpha:  0.75\n",
      "\n",
      "this is test error: 37.52417299544118\n",
      "This is alpha:  0\n",
      "\n",
      "this is test error: 1.9006198259883154e+20\n",
      "This is alpha:  0.35\n",
      "\n",
      "this is test error: 10180.436147463668\n",
      "This is alpha:  0.5\n",
      "\n",
      "this is test error: 15361.28728891043\n",
      "This is alpha:  0.75\n",
      "\n",
      "this is test error: 19643.50293924179\n",
      "This is alpha:  0\n",
      "\n",
      "this is test error: 27.675356735400847\n",
      "This is alpha:  0.35\n",
      "\n",
      "this is test error: 27.675356735400847\n",
      "This is alpha:  0.5\n",
      "\n",
      "this is test error: 27.675356735400847\n",
      "This is alpha:  0.75\n",
      "\n",
      "this is test error: 27.675356735400847\n",
      "This is alpha:  0\n",
      "\n",
      "this is test error: 25.046151185600973\n",
      "This is alpha:  0.35\n",
      "\n",
      "this is test error: 25.046151185600973\n",
      "This is alpha:  0.5\n",
      "\n",
      "this is test error: 25.046151185600973\n",
      "This is alpha:  0.75\n",
      "\n",
      "this is test error: 25.046151185600973\n"
     ]
    }
   ],
   "source": [
    "a, b = model_selection(X_close_three_news_extra,Y_close_three_news_extra)"
   ]
  },
  {
   "cell_type": "code",
   "execution_count": 17,
   "metadata": {},
   "outputs": [
    {
     "name": "stdout",
     "output_type": "stream",
     "text": [
      "[(61.39554315873353, 0.0), (11.363771280162307, 0.0), (1.141200646202974, 0.0), (26.48801085056858, 0.0), (18.289525324142755, 0.0)]\n",
      "[(58.47296841133638, 0.0), (37.52417299544118, 0.75), (10180.436147463668, 0.35), (27.675356735400847, 0.0), (25.046151185600973, 0.0)]\n"
     ]
    }
   ],
   "source": [
    "print(a)\n",
    "print(b)"
   ]
  },
  {
   "cell_type": "code",
   "execution_count": 18,
   "metadata": {},
   "outputs": [
    {
     "name": "stdout",
     "output_type": "stream",
     "text": [
      "This is alpha:  0\n",
      "\n",
      "this is test error: 95.53781444945847\n",
      "This is alpha:  0.35\n",
      "\n",
      "this is test error: 72.40194653127476\n",
      "This is alpha:  0.5\n",
      "\n",
      "this is test error: 75.1739731616129\n",
      "This is alpha:  0.75\n",
      "\n",
      "this is test error: 79.29978519595753\n",
      "This is alpha:  0\n",
      "\n",
      "this is test error: 34.664142695856484\n",
      "This is alpha:  0.35\n",
      "\n",
      "this is test error: 18.15842500441037\n",
      "This is alpha:  0.5\n",
      "\n",
      "this is test error: 18.15576363099224\n",
      "This is alpha:  0.75\n",
      "\n",
      "this is test error: 18.423197937623396\n",
      "This is alpha:  0\n",
      "\n",
      "this is test error: 19.86606990179927\n",
      "This is alpha:  0.35\n",
      "\n",
      "this is test error: 24.532325084857906\n",
      "This is alpha:  0.5\n",
      "\n",
      "this is test error: 22.779009085384832\n",
      "This is alpha:  0.75\n",
      "\n",
      "this is test error: 23.26610133640067\n",
      "This is alpha:  0\n",
      "\n",
      "this is test error: 68.00242000339706\n",
      "This is alpha:  0.35\n",
      "\n",
      "this is test error: 68.00242000339706\n",
      "This is alpha:  0.5\n",
      "\n",
      "this is test error: 68.00242000339706\n",
      "This is alpha:  0.75\n",
      "\n",
      "this is test error: 68.00242000339706\n",
      "This is alpha:  0\n",
      "\n",
      "this is test error: 13.513324993928808\n",
      "This is alpha:  0.35\n",
      "\n",
      "this is test error: 13.513324993928808\n",
      "This is alpha:  0.5\n",
      "\n",
      "this is test error: 13.513324993928808\n",
      "This is alpha:  0.75\n",
      "\n",
      "this is test error: 13.513324993928808\n"
     ]
    }
   ],
   "source": [
    "a, b = model_selection(X_close_all_news_extra,Y_close_all_news_extra)"
   ]
  },
  {
   "cell_type": "code",
   "execution_count": 19,
   "metadata": {},
   "outputs": [
    {
     "name": "stdout",
     "output_type": "stream",
     "text": [
      "[(46.767279315533756, 0.0), (17.703621872184545, 0.0), (11.907590965671139, 0.0), (10.89717642159918, 0.0), (5.980901488945544, 0.0)]\n",
      "[(72.40194653127476, 0.35), (18.15576363099224, 0.5), (19.86606990179927, 0.0), (68.00242000339706, 0.0), (13.513324993928808, 0.0)]\n"
     ]
    }
   ],
   "source": [
    "print(a)\n",
    "print(b)"
   ]
  },
  {
   "cell_type": "code",
   "execution_count": 20,
   "metadata": {},
   "outputs": [],
   "source": [
    "def plot_model_sel(X,Y,alpha):\n",
    "\n",
    "    deg_list = [1,2,3,4,5]\n",
    "    mse_tr = []\n",
    "    mse_test = []\n",
    "    for elem in deg_list:\n",
    "        temp_mse_tr = None\n",
    "        temp_mse_test = None\n",
    "        if elem == 1:\n",
    "            X_train_poly, X_test_poly, Y_train_poly, Y_test_poly = train_test_split(X, Y, test_size=0.25)\n",
    "#             print(\"this is test_poly\")\n",
    "#             print(X_test_poly)\n",
    "            \n",
    "            train_error, test_error, R2, ridge = linear_fit(X_train_poly, X_test_poly, Y_train_poly, Y_test_poly, float(alpha))\n",
    "            mse_tr.append(train_error)\n",
    "            mse_test.append(test_error)\n",
    "        else:\n",
    "            poly = PolynomialFeatures(int(elem))\n",
    "            X_poly = poly.fit_transform(X)\n",
    "            Y_poly = Y\n",
    "            X_train_poly, X_test_poly, Y_train_poly, Y_test_poly = train_test_split(X_poly, Y_poly, test_size=0.25)\n",
    "#             print(\"this is test_poly\")\n",
    "#             print(X_test_poly)            \n",
    "            train_error, test_error, R2, ridge = linear_fit(X_train_poly, X_test_poly, Y_train_poly, Y_test_poly, float(alpha))\n",
    "            mse_tr.append(train_error)\n",
    "            mse_test.append(test_error)\n",
    "    print(mse_test)\n",
    "    plt.plot(deg_list, mse_tr, \"r-\", label = \"train_mse\")\n",
    "    plt.plot(deg_list, mse_test, \"b-\", label = \"test_mse\")\n",
    "    plt.xlabel(\"Model order\")\n",
    "    plt.ylabel(\"MSE\")\n",
    "    plt.grid()\n",
    "    plt.ylim(0,300)\n",
    "    plt.title(\"degree 2, ridge 0.75\")\n",
    "    plt.legend(loc = \"upper right\")\n",
    "    plt.show()\n",
    "    "
   ]
  },
  {
   "cell_type": "code",
   "execution_count": 21,
   "metadata": {},
   "outputs": [
    {
     "name": "stdout",
     "output_type": "stream",
     "text": [
      "[77.17069906511854, 700.1478364062541, 123.334110139855, 99.50601428144701, 56.607179484077086]\n"
     ]
    },
    {
     "data": {
      "image/png": "[encoded data removed]",
      "text/plain": [
       "<Figure size 432x288 with 1 Axes>"
      ]
     },
     "metadata": {
      "needs_background": "light"
     },
     "output_type": "display_data"
    }
   ],
   "source": [
    "plot_model_sel(X_close_three_news_extra,Y_close_three_news_extra, 0.35)"
   ]
  },
  {
   "cell_type": "code",
   "execution_count": 22,
   "metadata": {},
   "outputs": [
    {
     "name": "stdout",
     "output_type": "stream",
     "text": [
      "[66.39200784206312, 21.308319483025183, 385.8910618045867, 10.336002573976199, 46.13546170813638]\n"
     ]
    },
    {
     "data": {
      "image/png": "[encoded data removed]",
      "text/plain": [
       "<Figure size 432x288 with 1 Axes>"
      ]
     },
     "metadata": {
      "needs_background": "light"
     },
     "output_type": "display_data"
    }
   ],
   "source": [
    "plot_model_sel(X_close_all_news_extra,Y_close_all_news_extra, 0.35)"
   ]
  },
  {
   "cell_type": "code",
   "execution_count": 23,
   "metadata": {},
   "outputs": [],
   "source": [
    "def linear_regression_model(X, Y, degree, alpha, start, end):\n",
    "    # dataset poly transfor:\n",
    "    poly = PolynomialFeatures(int(alpha))\n",
    "    X_poly = poly.fit_transform(X)\n",
    "    Y_poly = Y\n",
    "    y_plot = Y[int(start):int(end)]\n",
    "    x_plot = X[int(start):int(end)]\n",
    "    x_plot2 = X_poly[int(start):int(end)]\n",
    "    y_plot2 = Y_poly[int(start):int(end)]\n",
    "    \n",
    "\n",
    "    \n",
    "    X_train, X_test, Y_train, Y_test = train_test_split(X, Y, test_size=0.3)\n",
    "    X_train_poly, X_test_ploy, Y_train_poly, Y_test_poly = train_test_split(X_poly, Y_poly, test_size=0.3)\n",
    "    num = np.arange(len(X_test))\n",
    "    # non poly, non redge:\n",
    "    train_error, test_error, R2,ridge = linear_fit(X_train, X_test, Y_train, Y_test,0)\n",
    "    prediction = ridge.predict(x_plot)\n",
    "    \n",
    "    num = np.arange(len(x_plot))\n",
    "    plot(y_plot, prediction, num, \"2 poly, 0.75 ridge\")\n",
    "    print( str(degree) + \" poly,\" + str(alpha) + \"non redge: train_error = {0:.2f} and test_error = {1:.2f}, r^2 = {2:.2f}\".format(train_error,test_error,R2))\n",
    "    "
   ]
  },
  {
   "cell_type": "code",
   "execution_count": 24,
   "metadata": {},
   "outputs": [
    {
     "data": {
      "image/png": "[encoded data removed]",
      "text/plain": [
       "<Figure size 432x288 with 1 Axes>"
      ]
     },
     "metadata": {
      "needs_background": "light"
     },
     "output_type": "display_data"
    },
    {
     "name": "stdout",
     "output_type": "stream",
     "text": [
      "2 poly,0.35non redge: train_error = 57.46 and test_error = 69.17, r^2 = 0.80\n"
     ]
    }
   ],
   "source": [
    "linear_regression_model(X_close_three_news_extra,Y_close_three_news_extra,2,0.35, 500, 600)"
   ]
  },
  {
   "cell_type": "code",
   "execution_count": 25,
   "metadata": {},
   "outputs": [
    {
     "data": {
      "image/png": "[encoded data removed]",
      "text/plain": [
       "<Figure size 432x288 with 1 Axes>"
      ]
     },
     "metadata": {
      "needs_background": "light"
     },
     "output_type": "display_data"
    },
    {
     "name": "stdout",
     "output_type": "stream",
     "text": [
      "2 poly,0.75non redge: train_error = 1.44 and test_error = 1.08, r^2 = 0.20\n"
     ]
    }
   ],
   "source": [
    "linear_regression_model(X_different_three_news_extra,Y_different_three_news_extra,2, 0.75, 500, 600)"
   ]
  },
  {
   "cell_type": "code",
   "execution_count": 26,
   "metadata": {},
   "outputs": [
    {
     "data": {
      "image/png": "[encoded data removed]",
      "text/plain": [
       "<Figure size 432x288 with 1 Axes>"
      ]
     },
     "metadata": {
      "needs_background": "light"
     },
     "output_type": "display_data"
    },
    {
     "name": "stdout",
     "output_type": "stream",
     "text": [
      "2 poly,0.35non redge: train_error = 45.39 and test_error = 152.47, r^2 = 0.84\n"
     ]
    }
   ],
   "source": [
    "linear_regression_model(X_close_all_news_extra,Y_close_all_news_extra,2,0.35, 500, 600)"
   ]
  },
  {
   "cell_type": "code",
   "execution_count": 27,
   "metadata": {},
   "outputs": [
    {
     "data": {
      "image/png": "[encoded data removed]",
      "text/plain": [
       "<Figure size 432x288 with 1 Axes>"
      ]
     },
     "metadata": {
      "needs_background": "light"
     },
     "output_type": "display_data"
    },
    {
     "name": "stdout",
     "output_type": "stream",
     "text": [
      "2 poly,0.75non redge: train_error = 1.28 and test_error = 1.75, r^2 = 0.33\n"
     ]
    }
   ],
   "source": [
    "linear_regression_model(X_different_all_news_extra,Y_different_all_news_extra,2,0.75, 500, 600)"
   ]
  },
  {
   "cell_type": "markdown",
   "metadata": {},
   "source": [
    "# SVM models"
   ]
  },
  {
   "cell_type": "markdown",
   "metadata": {},
   "source": [
    "Before process the SVM models, we need to transfer the y to 1 or -1"
   ]
  },
  {
   "cell_type": "code",
   "execution_count": 28,
   "metadata": {},
   "outputs": [],
   "source": [
    "def transfer_y_binary(value):\n",
    "    if value < 0:\n",
    "        out = -1\n",
    "    else:\n",
    "        out = 1\n",
    "    return out"
   ]
  },
  {
   "cell_type": "code",
   "execution_count": 29,
   "metadata": {},
   "outputs": [],
   "source": [
    "def transfer_dataframe_to_x_y_for_SVM(dataframe, y_colum):\n",
    "    #y_dataframe = dataframe[y_colum]\n",
    "    dataframe = dataframe.dropna()\n",
    "    y = dataframe[y_colum].values\n",
    "    x_dataframe = dataframe.drop(columns= [y_colum,\"Date\"])\n",
    "    x = x_dataframe.values\n",
    "    return x,y"
   ]
  },
  {
   "cell_type": "code",
   "execution_count": 30,
   "metadata": {},
   "outputs": [],
   "source": [
    "different_all_news_extra[\"APPL diff\"] = different_all_news_extra[\"APPL diff\"].apply(transfer_y_binary)\n",
    "different_three_news_extra[\"APPL diff\"] = different_three_news_extra[\"APPL diff\"].apply(transfer_y_binary)"
   ]
  },
  {
   "cell_type": "code",
   "execution_count": 31,
   "metadata": {},
   "outputs": [],
   "source": [
    "X_different_three_news_extra,Y_different_three_news_extra = transfer_dataframe_to_x_y_for_SVM(different_three_news_extra,\"APPL diff\")\n",
    "X_different_all_news_extra, Y_different_all_news_extra = transfer_dataframe_to_x_y_for_SVM(different_all_news_extra,\"APPL diff\")\n"
   ]
  },
  {
   "cell_type": "markdown",
   "metadata": {},
   "source": [
    "We need three kernals, with mutiple c as soft margin. <br>\n",
    "kernal one: linear <br>\n",
    "kernal two: RBF <br>\n",
    "kernal three: Polynomial Kernel <br>"
   ]
  },
  {
   "cell_type": "markdown",
   "metadata": {},
   "source": [
    "## SVM_linear"
   ]
  },
  {
   "cell_type": "code",
   "execution_count": 59,
   "metadata": {},
   "outputs": [],
   "source": [
    "acc_train_svm_linear = []\n",
    "acc_test_svm_linear = []\n",
    "svm_linear_f1_score = []\n",
    "svm_linear_auc = []\n",
    "c_svm_linear = []"
   ]
  },
  {
   "cell_type": "code",
   "execution_count": 61,
   "metadata": {},
   "outputs": [],
   "source": [
    "def svm_linear(X_train, X_test, Y_train, Y_test,c):\n",
    "    svc_linear = svm.SVC(probability = False, kernel = \"linear\", C = c)\n",
    "    \n",
    "    svc_linear.fit(X_train,Y_train)\n",
    "    Yhat_svc_linear_train = svc_linear.predict(X_train)\n",
    "    acc_train = np.mean(Yhat_svc_linear_train == Y_train)\n",
    "    \n",
    "    acc_train_svm_linear.append(acc_train)\n",
    "    print('Train Accuracy = {0:f}'.format(acc_train))\n",
    "\n",
    "    \n",
    "    Yhat_svc_linear_test = svc_linear.predict(X_test)\n",
    "    acc_test = np.mean(Yhat_svc_linear_test == Y_test)\n",
    "    \n",
    "    \n",
    "    acc_test_svm_linear.append(acc_test)\n",
    "    print('Test Accuracy = {0:f}'.format(acc_test))\n",
    "    \n",
    "    \n",
    "    f1 = f1_score(Y_test, Yhat_svc_linear_test)\n",
    "    svm_linear_f1_score.append(f1)\n",
    "    print('f1 score = {0:f}'.format(f1))\n",
    "    \n",
    "    fpr, tpr, thresholds = roc_curve(Y_test, Yhat_svc_linear_test)\n",
    "    auc_linear = auc(fpr, tpr)\n",
    "    svm_linear_auc.append(auc_linear)\n",
    "    print('auc = {0:f}'.format(auc_linear))\n",
    "    \n",
    "    \n",
    "    \n",
    "    c_svm_linear.append(c)"
   ]
  },
  {
   "cell_type": "code",
   "execution_count": 62,
   "metadata": {},
   "outputs": [
    {
     "data": {
      "text/plain": [
       "[]"
      ]
     },
     "execution_count": 62,
     "metadata": {},
     "output_type": "execute_result"
    }
   ],
   "source": [
    "acc_train_svm_linear"
   ]
  },
  {
   "cell_type": "code",
   "execution_count": 63,
   "metadata": {},
   "outputs": [],
   "source": [
    "def plot_svm(c_svm_linear, acc_train_svm_linear, acc_test_svm_linear):\n",
    "    \n",
    "    plt.plot(c_svm_linear,acc_train_svm_linear,'g.-',label='train accuracy')\n",
    "    plt.plot(c_svm_linear,acc_test_svm_linear,'r.-',label='test accuracy')\n",
    "    plt.legend(loc='upper right')\n",
    "    plt.show()\n",
    "    plt.clf()\n",
    "    plt.cla()\n",
    "    plt.close()\n"
   ]
  },
  {
   "cell_type": "code",
   "execution_count": 64,
   "metadata": {},
   "outputs": [],
   "source": [
    "def SVM_linear(X, Y):\n",
    "    X_train, X_test, Y_train, Y_test = train_test_split(X, Y, test_size=0.3)\n",
    "    cVals = list(np.arange(0.001,5,0.5))\n",
    "\n",
    "    for c in cVals:\n",
    "        print(c)\n",
    "        svm_linear(X_train, X_test, Y_train, Y_test ,c)\n",
    "    plot_svm(c_svm_linear, acc_train_svm_linear, acc_test_svm_linear)\n",
    "    print(\"done printing\")"
   ]
  },
  {
   "cell_type": "code",
   "execution_count": 65,
   "metadata": {},
   "outputs": [
    {
     "name": "stdout",
     "output_type": "stream",
     "text": [
      "[0.001, 0.051000000000000004, 0.101, 0.15100000000000002, 0.201, 0.251, 0.30100000000000005, 0.35100000000000003, 0.401, 0.451, 0.501, 0.551, 0.6010000000000001, 0.651, 0.7010000000000001, 0.751, 0.801, 0.8510000000000001, 0.901, 0.9510000000000001, 1.001, 1.051, 1.101, 1.151, 1.201, 1.251, 1.301, 1.351, 1.401, 1.451, 1.501, 1.551, 1.601, 1.651, 1.701, 1.751, 1.801, 1.851, 1.901, 1.951]\n"
     ]
    }
   ],
   "source": [
    "cVals = list(np.arange(0.001,2,0.05))\n",
    "print(cVals)"
   ]
  },
  {
   "cell_type": "code",
   "execution_count": 66,
   "metadata": {},
   "outputs": [
    {
     "name": "stdout",
     "output_type": "stream",
     "text": [
      "0.001\n",
      "Train Accuracy = 0.559471\n",
      "Test Accuracy = 0.487179\n",
      "f1 score = 0.655172\n",
      "auc = 0.500000\n",
      "0.501\n",
      "Train Accuracy = 0.685022\n",
      "Test Accuracy = 0.610256\n",
      "f1 score = 0.672414\n",
      "auc = 0.615526\n",
      "1.001\n",
      "Train Accuracy = 0.696035\n",
      "Test Accuracy = 0.600000\n",
      "f1 score = 0.657895\n",
      "auc = 0.604737\n",
      "1.501\n",
      "Train Accuracy = 0.693833\n",
      "Test Accuracy = 0.605128\n",
      "f1 score = 0.666667\n",
      "auc = 0.610263\n",
      "2.001\n",
      "Train Accuracy = 0.691630\n",
      "Test Accuracy = 0.605128\n",
      "f1 score = 0.663755\n",
      "auc = 0.610000\n",
      "2.501\n",
      "Train Accuracy = 0.689427\n",
      "Test Accuracy = 0.600000\n",
      "f1 score = 0.660870\n",
      "auc = 0.605000\n",
      "3.001\n",
      "Train Accuracy = 0.702643\n",
      "Test Accuracy = 0.610256\n",
      "f1 score = 0.663717\n",
      "auc = 0.614737\n",
      "3.501\n",
      "Train Accuracy = 0.698238\n",
      "Test Accuracy = 0.620513\n",
      "f1 score = 0.678261\n",
      "auc = 0.625526\n",
      "4.001\n",
      "Train Accuracy = 0.696035\n",
      "Test Accuracy = 0.615385\n",
      "f1 score = 0.672489\n",
      "auc = 0.620263\n",
      "4.501\n",
      "Train Accuracy = 0.689427\n",
      "Test Accuracy = 0.594872\n",
      "f1 score = 0.658009\n",
      "auc = 0.600000\n"
     ]
    },
    {
     "data": {
      "image/png": "[encoded data removed]",
      "text/plain": [
       "<Figure size 432x288 with 1 Axes>"
      ]
     },
     "metadata": {
      "needs_background": "light"
     },
     "output_type": "display_data"
    },
    {
     "name": "stdout",
     "output_type": "stream",
     "text": [
      "done printing\n"
     ]
    }
   ],
   "source": [
    "\n",
    "SVM_linear(X_different_three_news_extra,Y_different_three_news_extra)\n"
   ]
  },
  {
   "cell_type": "code",
   "execution_count": 68,
   "metadata": {},
   "outputs": [
    {
     "name": "stdout",
     "output_type": "stream",
     "text": [
      "0.8721466850979696\n"
     ]
    }
   ],
   "source": [
    "def pca(X, k):\n",
    "    X = StandardScaler().fit_transform(X)\n",
    "    pca = PCA(n_components=k)\n",
    "    lst = []\n",
    "    for i in range(k):\n",
    "        name = \"principal component \" + str(i + 1)\n",
    "        lst.append(name)\n",
    "\n",
    "    principalComponents = pca.fit_transform(X)\n",
    "    \n",
    "    print(sum(pca.explained_variance_ratio_))\n",
    "    principalDf = pd.DataFrame(data = principalComponents\n",
    "                 , columns = lst)\n",
    "    return principalDf\n",
    "x_diff_three_pca = pca(X_different_three_news_extra, 5)"
   ]
  },
  {
   "cell_type": "code",
   "execution_count": 69,
   "metadata": {
    "scrolled": true
   },
   "outputs": [
    {
     "name": "stdout",
     "output_type": "stream",
     "text": [
      "0.001\n",
      "Train Accuracy = 0.577093\n",
      "Test Accuracy = 0.605128\n",
      "f1 score = 0.733564\n",
      "auc = 0.563509\n",
      "0.501\n",
      "Train Accuracy = 0.669604\n",
      "Test Accuracy = 0.620513\n",
      "f1 score = 0.660550\n",
      "auc = 0.614858\n",
      "1.001\n",
      "Train Accuracy = 0.669604\n",
      "Test Accuracy = 0.620513\n",
      "f1 score = 0.660550\n",
      "auc = 0.614858\n",
      "1.501\n",
      "Train Accuracy = 0.669604\n",
      "Test Accuracy = 0.620513\n",
      "f1 score = 0.660550\n",
      "auc = 0.614858\n",
      "2.001\n",
      "Train Accuracy = 0.669604\n",
      "Test Accuracy = 0.620513\n",
      "f1 score = 0.660550\n",
      "auc = 0.614858\n",
      "2.501\n",
      "Train Accuracy = 0.669604\n",
      "Test Accuracy = 0.620513\n",
      "f1 score = 0.660550\n",
      "auc = 0.614858\n",
      "3.001\n",
      "Train Accuracy = 0.669604\n",
      "Test Accuracy = 0.620513\n",
      "f1 score = 0.660550\n",
      "auc = 0.614858\n",
      "3.501\n",
      "Train Accuracy = 0.669604\n",
      "Test Accuracy = 0.620513\n",
      "f1 score = 0.660550\n",
      "auc = 0.614858\n",
      "4.001\n",
      "Train Accuracy = 0.669604\n",
      "Test Accuracy = 0.620513\n",
      "f1 score = 0.660550\n",
      "auc = 0.614858\n",
      "4.501\n",
      "Train Accuracy = 0.669604\n",
      "Test Accuracy = 0.620513\n",
      "f1 score = 0.660550\n",
      "auc = 0.614858\n"
     ]
    },
    {
     "data": {
      "image/png": "[encoded data removed]",
      "text/plain": [
       "<Figure size 432x288 with 1 Axes>"
      ]
     },
     "metadata": {
      "needs_background": "light"
     },
     "output_type": "display_data"
    },
    {
     "name": "stdout",
     "output_type": "stream",
     "text": [
      "done printing\n"
     ]
    }
   ],
   "source": [
    "\n",
    "acc_train_svm_linear = []\n",
    "acc_test_svm_linear = []\n",
    "svm_linear_f1_score = []\n",
    "svm_linear_auc = []\n",
    "c_svm_linear = []\n",
    "SVM_linear(x_diff_three_pca,Y_different_three_news_extra)"
   ]
  },
  {
   "cell_type": "code",
   "execution_count": 70,
   "metadata": {},
   "outputs": [
    {
     "name": "stdout",
     "output_type": "stream",
     "text": [
      "0.001\n",
      "Train Accuracy = 0.532609\n",
      "Test Accuracy = 0.550505\n",
      "f1 score = 0.710098\n",
      "auc = 0.500000\n",
      "0.501\n",
      "Train Accuracy = 0.652174\n",
      "Test Accuracy = 0.676768\n",
      "f1 score = 0.670103\n",
      "auc = 0.685806\n",
      "1.001\n",
      "Train Accuracy = 0.645652\n",
      "Test Accuracy = 0.686869\n",
      "f1 score = 0.696078\n",
      "auc = 0.690857\n",
      "1.501\n",
      "Train Accuracy = 0.643478\n",
      "Test Accuracy = 0.702020\n",
      "f1 score = 0.709360\n",
      "auc = 0.706680\n",
      "2.001\n",
      "Train Accuracy = 0.645652\n",
      "Test Accuracy = 0.707071\n",
      "f1 score = 0.718447\n",
      "auc = 0.710236\n",
      "2.501\n",
      "Train Accuracy = 0.652174\n",
      "Test Accuracy = 0.707071\n",
      "f1 score = 0.723810\n",
      "auc = 0.708174\n",
      "3.001\n",
      "Train Accuracy = 0.645652\n",
      "Test Accuracy = 0.707071\n",
      "f1 score = 0.718447\n",
      "auc = 0.710236\n",
      "3.501\n",
      "Train Accuracy = 0.645652\n",
      "Test Accuracy = 0.707071\n",
      "f1 score = 0.723810\n",
      "auc = 0.708174\n",
      "4.001\n",
      "Train Accuracy = 0.652174\n",
      "Test Accuracy = 0.707071\n",
      "f1 score = 0.721154\n",
      "auc = 0.709205\n",
      "4.501\n",
      "Train Accuracy = 0.656522\n",
      "Test Accuracy = 0.696970\n",
      "f1 score = 0.714286\n",
      "auc = 0.697969\n"
     ]
    },
    {
     "data": {
      "image/png": "[encoded data removed]",
      "text/plain": [
       "<Figure size 432x288 with 1 Axes>"
      ]
     },
     "metadata": {
      "needs_background": "light"
     },
     "output_type": "display_data"
    },
    {
     "name": "stdout",
     "output_type": "stream",
     "text": [
      "done printing\n"
     ]
    }
   ],
   "source": [
    "SVM_linear(X_different_all_news_extra,Y_different_all_news_extra)"
   ]
  },
  {
   "cell_type": "code",
   "execution_count": 71,
   "metadata": {},
   "outputs": [
    {
     "name": "stdout",
     "output_type": "stream",
     "text": [
      "0.7355843419481973\n",
      "0.001\n",
      "Train Accuracy = 0.554348\n",
      "Test Accuracy = 0.575758\n",
      "f1 score = 0.718121\n",
      "auc = 0.538462\n",
      "0.501\n",
      "Train Accuracy = 0.656522\n",
      "Test Accuracy = 0.656566\n",
      "f1 score = 0.673077\n",
      "auc = 0.656773\n",
      "1.001\n",
      "Train Accuracy = 0.656522\n",
      "Test Accuracy = 0.656566\n",
      "f1 score = 0.673077\n",
      "auc = 0.656773\n",
      "1.501\n",
      "Train Accuracy = 0.658696\n",
      "Test Accuracy = 0.656566\n",
      "f1 score = 0.673077\n",
      "auc = 0.656773\n",
      "2.001\n",
      "Train Accuracy = 0.658696\n",
      "Test Accuracy = 0.656566\n",
      "f1 score = 0.673077\n",
      "auc = 0.656773\n",
      "2.501\n",
      "Train Accuracy = 0.656522\n",
      "Test Accuracy = 0.656566\n",
      "f1 score = 0.673077\n",
      "auc = 0.656773\n",
      "3.001\n",
      "Train Accuracy = 0.658696\n",
      "Test Accuracy = 0.656566\n",
      "f1 score = 0.673077\n",
      "auc = 0.656773\n",
      "3.501\n",
      "Train Accuracy = 0.656522\n",
      "Test Accuracy = 0.656566\n",
      "f1 score = 0.673077\n",
      "auc = 0.656773\n",
      "4.001\n",
      "Train Accuracy = 0.658696\n",
      "Test Accuracy = 0.656566\n",
      "f1 score = 0.673077\n",
      "auc = 0.656773\n",
      "4.501\n",
      "Train Accuracy = 0.658696\n",
      "Test Accuracy = 0.656566\n",
      "f1 score = 0.673077\n",
      "auc = 0.656773\n"
     ]
    },
    {
     "data": {
      "image/png": "[encoded data removed]",
      "text/plain": [
       "<Figure size 432x288 with 1 Axes>"
      ]
     },
     "metadata": {
      "needs_background": "light"
     },
     "output_type": "display_data"
    },
    {
     "name": "stdout",
     "output_type": "stream",
     "text": [
      "done printing\n"
     ]
    }
   ],
   "source": [
    "x_all_three_pca = pca(X_different_all_news_extra, 5)\n",
    "acc_train_svm_linear = []\n",
    "acc_test_svm_linear = []\n",
    "svm_linear_f1_score = []\n",
    "svm_linear_auc = []\n",
    "c_svm_linear = []\n",
    "SVM_linear(x_all_three_pca,Y_different_all_news_extra)"
   ]
  },
  {
   "cell_type": "markdown",
   "metadata": {},
   "source": [
    "## SVM with RBF"
   ]
  },
  {
   "cell_type": "code",
   "execution_count": 87,
   "metadata": {},
   "outputs": [],
   "source": [
    "acc_train_svm_rbf = []\n",
    "acc_test_svm_rbf = []\n",
    "c_svm_rbf = []\n",
    "svm_rbf_f1_score = []\n",
    "svm_rbf_auc = []"
   ]
  },
  {
   "cell_type": "code",
   "execution_count": 88,
   "metadata": {},
   "outputs": [],
   "source": [
    "def svm_rbf(X_train, X_test, Y_train, Y_test,c):\n",
    "    svc_rbf = svm.SVC(probability = False, kernel = \"rbf\", C = c)\n",
    "    \n",
    "    svc_rbf.fit(X_train,Y_train)\n",
    "    Yhat_svc_rbf_train = svc_rbf.predict(X_train)\n",
    "    acc_train = np.mean(Yhat_svc_rbf_train == Y_train)\n",
    "    \n",
    "    acc_train_svm_rbf.append(acc_train)\n",
    "    print('Train Accuracy = {0:f}'.format(acc_train))\n",
    "    \n",
    "    Yhat_svc_rbf_test = svc_rbf.predict(X_test)\n",
    "    acc_test = np.mean(Yhat_svc_rbf_test == Y_test)\n",
    "    \n",
    "    acc_test_svm_rbf.append(acc_test)\n",
    "    print('Test Accuracy = {0:f}'.format(acc_test))\n",
    "    \n",
    "    f1 = f1_score(Y_test, Yhat_svc_rbf_test)\n",
    "    svm_rbf_f1_score.append(f1)\n",
    "    print('f1 score = {0:f}'.format(f1))\n",
    "    \n",
    "    fpr, tpr, thresholds = roc_curve(Y_test, Yhat_svc_rbf_test)\n",
    "    auc_rbf = auc(fpr, tpr)\n",
    "    svm_rbf_auc.append(auc_rbf)\n",
    "    print('auc = {0:f}'.format(auc_rbf))\n",
    "    \n",
    "    c_svm_rbf.append(c)"
   ]
  },
  {
   "cell_type": "code",
   "execution_count": 89,
   "metadata": {},
   "outputs": [],
   "source": [
    "def SVM_rbf(X, Y):\n",
    "    X_train, X_test, Y_train, Y_test = train_test_split(X, Y, test_size=0.3)\n",
    "    \n",
    "    cVals = list(np.arange(0.001,5,0.5))\n",
    "\n",
    "    for c in cVals:\n",
    "        print(c)\n",
    "        svm_rbf(X_train, X_test, Y_train, Y_test ,c)\n",
    "    plot_svm(c_svm_rbf,acc_train_svm_rbf,acc_test_svm_rbf)"
   ]
  },
  {
   "cell_type": "code",
   "execution_count": 90,
   "metadata": {},
   "outputs": [
    {
     "name": "stdout",
     "output_type": "stream",
     "text": [
      "0.001\n",
      "Train Accuracy = 0.535242\n",
      "Test Accuracy = 0.543590\n",
      "f1 score = 0.704319\n",
      "auc = 0.500000\n",
      "0.501\n",
      "Train Accuracy = 0.821586\n",
      "Test Accuracy = 0.471795\n",
      "f1 score = 0.579592\n",
      "auc = 0.452883\n",
      "1.001\n",
      "Train Accuracy = 0.843612\n",
      "Test Accuracy = 0.487179\n",
      "f1 score = 0.545455\n",
      "auc = 0.479648\n",
      "1.501\n",
      "Train Accuracy = 0.850220\n",
      "Test Accuracy = 0.476923\n",
      "f1 score = 0.532110\n",
      "auc = 0.470214\n",
      "2.001\n",
      "Train Accuracy = 0.861233\n",
      "Test Accuracy = 0.476923\n",
      "f1 score = 0.536364\n",
      "auc = 0.469313\n",
      "2.501\n",
      "Train Accuracy = 0.885463\n",
      "Test Accuracy = 0.461538\n",
      "f1 score = 0.524887\n",
      "auc = 0.453360\n",
      "3.001\n",
      "Train Accuracy = 0.887665\n",
      "Test Accuracy = 0.461538\n",
      "f1 score = 0.529148\n",
      "auc = 0.452459\n",
      "3.501\n",
      "Train Accuracy = 0.889868\n",
      "Test Accuracy = 0.471795\n",
      "f1 score = 0.538117\n",
      "auc = 0.462794\n",
      "4.001\n",
      "Train Accuracy = 0.898678\n",
      "Test Accuracy = 0.466667\n",
      "f1 score = 0.535714\n",
      "auc = 0.457176\n",
      "4.501\n",
      "Train Accuracy = 0.905286\n",
      "Test Accuracy = 0.471795\n",
      "f1 score = 0.542222\n",
      "auc = 0.461893\n"
     ]
    },
    {
     "data": {
      "image/png": "[encoded data removed]",
      "text/plain": [
       "<Figure size 432x288 with 1 Axes>"
      ]
     },
     "metadata": {
      "needs_background": "light"
     },
     "output_type": "display_data"
    }
   ],
   "source": [
    "SVM_rbf(X_different_three_news_extra,Y_different_three_news_extra)"
   ]
  },
  {
   "cell_type": "code",
   "execution_count": 91,
   "metadata": {},
   "outputs": [
    {
     "name": "stdout",
     "output_type": "stream",
     "text": [
      "0.8721466850979693\n",
      "0.001\n",
      "Train Accuracy = 0.541850\n",
      "Test Accuracy = 0.528205\n",
      "f1 score = 0.691275\n",
      "auc = 0.500000\n",
      "0.501\n",
      "Train Accuracy = 0.704846\n",
      "Test Accuracy = 0.661538\n",
      "f1 score = 0.715517\n",
      "auc = 0.652913\n",
      "1.001\n",
      "Train Accuracy = 0.707048\n",
      "Test Accuracy = 0.646154\n",
      "f1 score = 0.698690\n",
      "auc = 0.638350\n",
      "1.501\n",
      "Train Accuracy = 0.711454\n",
      "Test Accuracy = 0.630769\n",
      "f1 score = 0.681416\n",
      "auc = 0.623786\n",
      "2.001\n",
      "Train Accuracy = 0.720264\n",
      "Test Accuracy = 0.641026\n",
      "f1 score = 0.687500\n",
      "auc = 0.634656\n",
      "2.501\n",
      "Train Accuracy = 0.729075\n",
      "Test Accuracy = 0.641026\n",
      "f1 score = 0.684685\n",
      "auc = 0.635236\n",
      "3.001\n",
      "Train Accuracy = 0.729075\n",
      "Test Accuracy = 0.635897\n",
      "f1 score = 0.675799\n",
      "auc = 0.630962\n",
      "3.501\n",
      "Train Accuracy = 0.731278\n",
      "Test Accuracy = 0.646154\n",
      "f1 score = 0.682028\n",
      "auc = 0.641832\n",
      "4.001\n",
      "Train Accuracy = 0.737885\n",
      "Test Accuracy = 0.641026\n",
      "f1 score = 0.675926\n",
      "auc = 0.636978\n",
      "4.501\n",
      "Train Accuracy = 0.742291\n",
      "Test Accuracy = 0.641026\n",
      "f1 score = 0.672897\n",
      "auc = 0.637558\n"
     ]
    },
    {
     "data": {
      "image/png": "[encoded data removed]",
      "text/plain": [
       "<Figure size 432x288 with 1 Axes>"
      ]
     },
     "metadata": {
      "needs_background": "light"
     },
     "output_type": "display_data"
    }
   ],
   "source": [
    "acc_train_svm_rbf = []\n",
    "acc_test_svm_rbf = []\n",
    "c_svm_rbf = []\n",
    "svm_rbf_f1_score = []\n",
    "svm_rbf_auc = []\n",
    "X_different_three_news_extra_pca = pca(X_different_three_news_extra, 5)\n",
    "SVM_rbf(X_different_three_news_extra_pca,Y_different_three_news_extra)"
   ]
  },
  {
   "cell_type": "code",
   "execution_count": 92,
   "metadata": {},
   "outputs": [
    {
     "name": "stdout",
     "output_type": "stream",
     "text": [
      "0.001\n",
      "Train Accuracy = 0.528261\n",
      "Test Accuracy = 0.560606\n",
      "f1 score = 0.718447\n",
      "auc = 0.500000\n",
      "0.501\n",
      "Train Accuracy = 0.693478\n",
      "Test Accuracy = 0.545455\n",
      "f1 score = 0.625000\n",
      "auc = 0.527493\n",
      "1.001\n",
      "Train Accuracy = 0.697826\n",
      "Test Accuracy = 0.545455\n",
      "f1 score = 0.618644\n",
      "auc = 0.529978\n",
      "1.501\n",
      "Train Accuracy = 0.708696\n",
      "Test Accuracy = 0.550505\n",
      "f1 score = 0.618026\n",
      "auc = 0.536968\n",
      "2.001\n",
      "Train Accuracy = 0.728261\n",
      "Test Accuracy = 0.550505\n",
      "f1 score = 0.618026\n",
      "auc = 0.536968\n",
      "2.501\n",
      "Train Accuracy = 0.739130\n",
      "Test Accuracy = 0.550505\n",
      "f1 score = 0.618026\n",
      "auc = 0.536968\n",
      "3.001\n",
      "Train Accuracy = 0.752174\n",
      "Test Accuracy = 0.545455\n",
      "f1 score = 0.608696\n",
      "auc = 0.533706\n",
      "3.501\n",
      "Train Accuracy = 0.767391\n",
      "Test Accuracy = 0.545455\n",
      "f1 score = 0.601770\n",
      "auc = 0.536191\n",
      "4.001\n",
      "Train Accuracy = 0.771739\n",
      "Test Accuracy = 0.555556\n",
      "f1 score = 0.603604\n",
      "auc = 0.548928\n",
      "4.501\n",
      "Train Accuracy = 0.773913\n",
      "Test Accuracy = 0.555556\n",
      "f1 score = 0.607143\n",
      "auc = 0.547686\n"
     ]
    },
    {
     "data": {
      "image/png": "[encoded data removed]",
      "text/plain": [
       "<Figure size 432x288 with 1 Axes>"
      ]
     },
     "metadata": {
      "needs_background": "light"
     },
     "output_type": "display_data"
    }
   ],
   "source": [
    "acc_train_svm_rbf = []\n",
    "acc_test_svm_rbf = []\n",
    "c_svm_rbf = []\n",
    "\n",
    "SVM_rbf(X_different_all_news_extra, Y_different_all_news_extra )"
   ]
  },
  {
   "cell_type": "code",
   "execution_count": 93,
   "metadata": {},
   "outputs": [
    {
     "name": "stdout",
     "output_type": "stream",
     "text": [
      "0.7355843389614095\n",
      "0.001\n",
      "Train Accuracy = 0.543478\n",
      "Test Accuracy = 0.525253\n",
      "f1 score = 0.688742\n",
      "auc = 0.500000\n",
      "0.501\n",
      "Train Accuracy = 0.695652\n",
      "Test Accuracy = 0.565657\n",
      "f1 score = 0.650407\n",
      "auc = 0.554828\n",
      "1.001\n",
      "Train Accuracy = 0.689130\n",
      "Test Accuracy = 0.555556\n",
      "f1 score = 0.620690\n",
      "auc = 0.548282\n",
      "1.501\n",
      "Train Accuracy = 0.710870\n",
      "Test Accuracy = 0.535354\n",
      "f1 score = 0.600000\n",
      "auc = 0.528539\n",
      "2.001\n",
      "Train Accuracy = 0.730435\n",
      "Test Accuracy = 0.535354\n",
      "f1 score = 0.603448\n",
      "auc = 0.528028\n",
      "2.501\n",
      "Train Accuracy = 0.732609\n",
      "Test Accuracy = 0.540404\n",
      "f1 score = 0.602620\n",
      "auc = 0.533858\n",
      "3.001\n",
      "Train Accuracy = 0.750000\n",
      "Test Accuracy = 0.535354\n",
      "f1 score = 0.589286\n",
      "auc = 0.530074\n",
      "3.501\n",
      "Train Accuracy = 0.765217\n",
      "Test Accuracy = 0.540404\n",
      "f1 score = 0.591928\n",
      "auc = 0.535393\n",
      "4.001\n",
      "Train Accuracy = 0.765217\n",
      "Test Accuracy = 0.525253\n",
      "f1 score = 0.576577\n",
      "auc = 0.520458\n",
      "4.501\n",
      "Train Accuracy = 0.765217\n",
      "Test Accuracy = 0.530303\n",
      "f1 score = 0.586667\n",
      "auc = 0.524755\n"
     ]
    },
    {
     "data": {
      "image/png": "[encoded data removed]",
      "text/plain": [
       "<Figure size 432x288 with 1 Axes>"
      ]
     },
     "metadata": {
      "needs_background": "light"
     },
     "output_type": "display_data"
    }
   ],
   "source": [
    "acc_train_svm_rbf = []\n",
    "acc_test_svm_rbf = []\n",
    "c_svm_rbf = []\n",
    "X_different_all_news_extra_pca = pca(X_different_all_news_extra, 5)\n",
    "SVM_rbf(X_different_all_news_extra, Y_different_all_news_extra )"
   ]
  },
  {
   "cell_type": "code",
   "execution_count": 98,
   "metadata": {},
   "outputs": [],
   "source": [
    "acc_train_svm_poly = []\n",
    "acc_test_svm_poly = []\n",
    "c_svm_poly = []\n",
    "svm_poly_f1_score = []\n",
    "svm_poly_auc = []"
   ]
  },
  {
   "cell_type": "code",
   "execution_count": 99,
   "metadata": {},
   "outputs": [],
   "source": [
    "def svm_poly(X_train, X_test, Y_train, Y_test,c):\n",
    "    svc_poly = svm.SVC(probability = False, kernel = \"poly\", C = c)\n",
    "    \n",
    "    svc_poly.fit(X_train,Y_train)\n",
    "    Yhat_svc_poly_train = svc_poly.predict(X_train)\n",
    "    acc_train = np.mean(Yhat_svc_poly_train == Y_train)\n",
    "    \n",
    "    acc_train_svm_poly.append(acc_train)\n",
    "    print('Train Accuracy = {0:f}'.format(acc_train))\n",
    "    \n",
    "    Yhat_svc_poly_test = svc_poly.predict(X_test)\n",
    "    acc_test = np.mean(Yhat_svc_poly_test == Y_test)\n",
    "    \n",
    "    acc_test_svm_poly.append(acc_test)\n",
    "    print('Test Accuracy = {0:f}'.format(acc_test))\n",
    "    \n",
    "    f1 = f1_score(Y_test, Yhat_svc_poly_test)\n",
    "    svm_poly_f1_score.append(f1)\n",
    "    print('f1 score = {0:f}'.format(f1))\n",
    "    \n",
    "    fpr, tpr, thresholds = roc_curve(Y_test, Yhat_svc_poly_test)\n",
    "    auc_poly = auc(fpr, tpr)\n",
    "    svm_poly_auc.append(auc_poly)\n",
    "    print('auc = {0:f}'.format(auc_poly))\n",
    "    \n",
    "    \n",
    "    c_svm_poly.append(c)"
   ]
  },
  {
   "cell_type": "code",
   "execution_count": null,
   "metadata": {},
   "outputs": [],
   "source": []
  },
  {
   "cell_type": "code",
   "execution_count": 100,
   "metadata": {},
   "outputs": [],
   "source": [
    "def SVM_poly(X, Y):\n",
    "    X_train, X_test, Y_train, Y_test = train_test_split(X, Y, test_size=0.3)\n",
    "    \n",
    "    cVals = list(np.arange(0.001,5,0.5))\n",
    "\n",
    "    for c in cVals:\n",
    "        print(c)\n",
    "        svm_poly(X_train, X_test, Y_train, Y_test ,c)\n",
    "    plot_svm(c_svm_poly,acc_train_svm_poly,acc_test_svm_poly)"
   ]
  },
  {
   "cell_type": "code",
   "execution_count": 101,
   "metadata": {},
   "outputs": [
    {
     "name": "stdout",
     "output_type": "stream",
     "text": [
      "0.7134981469950756\n",
      "0.001\n",
      "Train Accuracy = 0.599119\n",
      "Test Accuracy = 0.600000\n",
      "f1 score = 0.731034\n",
      "auc = 0.557827\n",
      "0.501\n",
      "Train Accuracy = 0.656388\n",
      "Test Accuracy = 0.635897\n",
      "f1 score = 0.725869\n",
      "auc = 0.609707\n",
      "1.001\n",
      "Train Accuracy = 0.651982\n",
      "Test Accuracy = 0.630769\n",
      "f1 score = 0.718750\n",
      "auc = 0.606043\n",
      "1.501\n",
      "Train Accuracy = 0.654185\n",
      "Test Accuracy = 0.630769\n",
      "f1 score = 0.718750\n",
      "auc = 0.606043\n",
      "2.001\n",
      "Train Accuracy = 0.651982\n",
      "Test Accuracy = 0.630769\n",
      "f1 score = 0.718750\n",
      "auc = 0.606043\n",
      "2.501\n",
      "Train Accuracy = 0.651982\n",
      "Test Accuracy = 0.630769\n",
      "f1 score = 0.718750\n",
      "auc = 0.606043\n",
      "3.001\n",
      "Train Accuracy = 0.651982\n",
      "Test Accuracy = 0.630769\n",
      "f1 score = 0.718750\n",
      "auc = 0.606043\n",
      "3.501\n",
      "Train Accuracy = 0.651982\n",
      "Test Accuracy = 0.630769\n",
      "f1 score = 0.718750\n",
      "auc = 0.606043\n",
      "4.001\n",
      "Train Accuracy = 0.649780\n",
      "Test Accuracy = 0.625641\n",
      "f1 score = 0.715953\n",
      "auc = 0.600361\n",
      "4.501\n",
      "Train Accuracy = 0.649780\n",
      "Test Accuracy = 0.625641\n",
      "f1 score = 0.715953\n",
      "auc = 0.600361\n"
     ]
    },
    {
     "data": {
      "image/png": "[encoded data removed]",
      "text/plain": [
       "<Figure size 432x288 with 1 Axes>"
      ]
     },
     "metadata": {
      "needs_background": "light"
     },
     "output_type": "display_data"
    }
   ],
   "source": [
    "X_different_three_news_extra_pca = pca(X_different_three_news_extra,3)\n",
    "SVM_poly(X_different_three_news_extra_pca,Y_different_three_news_extra)"
   ]
  },
  {
   "cell_type": "code",
   "execution_count": 103,
   "metadata": {},
   "outputs": [
    {
     "name": "stdout",
     "output_type": "stream",
     "text": [
      "0.6472614244648855\n",
      "0.001\n",
      "Train Accuracy = 0.597826\n",
      "Test Accuracy = 0.555556\n",
      "f1 score = 0.690141\n",
      "auc = 0.538886\n",
      "0.501\n",
      "Train Accuracy = 0.630435\n",
      "Test Accuracy = 0.560606\n",
      "f1 score = 0.685921\n",
      "auc = 0.545376\n",
      "1.001\n",
      "Train Accuracy = 0.630435\n",
      "Test Accuracy = 0.560606\n",
      "f1 score = 0.685921\n",
      "auc = 0.545376\n",
      "1.501\n",
      "Train Accuracy = 0.630435\n",
      "Test Accuracy = 0.560606\n",
      "f1 score = 0.685921\n",
      "auc = 0.545376\n",
      "2.001\n",
      "Train Accuracy = 0.630435\n",
      "Test Accuracy = 0.560606\n",
      "f1 score = 0.685921\n",
      "auc = 0.545376\n",
      "2.501\n",
      "Train Accuracy = 0.630435\n",
      "Test Accuracy = 0.560606\n",
      "f1 score = 0.685921\n",
      "auc = 0.545376\n",
      "3.001\n",
      "Train Accuracy = 0.630435\n",
      "Test Accuracy = 0.560606\n",
      "f1 score = 0.685921\n",
      "auc = 0.545376\n",
      "3.501\n",
      "Train Accuracy = 0.630435\n",
      "Test Accuracy = 0.560606\n",
      "f1 score = 0.685921\n",
      "auc = 0.545376\n",
      "4.001\n",
      "Train Accuracy = 0.630435\n",
      "Test Accuracy = 0.560606\n",
      "f1 score = 0.685921\n",
      "auc = 0.545376\n",
      "4.501\n",
      "Train Accuracy = 0.630435\n",
      "Test Accuracy = 0.560606\n",
      "f1 score = 0.685921\n",
      "auc = 0.545376\n"
     ]
    },
    {
     "data": {
      "image/png": "[encoded data removed]",
      "text/plain": [
       "<Figure size 432x288 with 1 Axes>"
      ]
     },
     "metadata": {
      "needs_background": "light"
     },
     "output_type": "display_data"
    }
   ],
   "source": [
    "acc_train_svm_poly = []\n",
    "acc_test_svm_poly = []\n",
    "c_svm_poly = []\n",
    "svm_poly_f1_score = []\n",
    "svm_poly_auc = []\n",
    "X_different_all_news_extra_pca = pca(X_different_all_news_extra,3)\n",
    "SVM_poly(X_different_all_news_extra_pca, Y_different_all_news_extra)"
   ]
  },
  {
   "cell_type": "markdown",
   "metadata": {},
   "source": [
    "# Neural Network models"
   ]
  },
  {
   "cell_type": "markdown",
   "metadata": {},
   "source": [
    "### non-lib"
   ]
  },
  {
   "cell_type": "code",
   "execution_count": 49,
   "metadata": {},
   "outputs": [],
   "source": [
    "def convert_y_to_vect(y):\n",
    "    y_vect = np.zeros((len(y), 2))\n",
    "    for i in range(len(y)):\n",
    "        if y[i] <= 0:\n",
    "            y_vect[i][0] = 1\n",
    "        else:\n",
    "            y_vect[i][1] = 1\n",
    "    return y_vect\n",
    "\n",
    "def f(z):\n",
    "    return 1 / (1 + np.exp(-z))\n",
    "\n",
    "\n",
    "def f_deriv(z):\n",
    "    return f(z) * (1 - f(z))\n",
    "\n",
    "def setup_and_init_weights(nn_structure):\n",
    "    W = {} #creating a dictionary i.e. a set of key: value pairs\n",
    "    b = {}\n",
    "    for l in range(1, len(nn_structure)):\n",
    "        W[l] = r.random_sample((nn_structure[l], nn_structure[l-1])) #Return “continuous uniform” random floats in the half-open interval [0.0, 1.0). \n",
    "        b[l] = r.random_sample((nn_structure[l],))\n",
    "    return W, b\n",
    "\n",
    "def init_tri_values(nn_structure):\n",
    "    tri_W = {}\n",
    "    tri_b = {}\n",
    "    for l in range(1, len(nn_structure)):\n",
    "        tri_W[l] = np.zeros((nn_structure[l], nn_structure[l-1]))\n",
    "        tri_b[l] = np.zeros((nn_structure[l],))\n",
    "    return tri_W, tri_b\n",
    "\n",
    "def feed_forward(x, W, b):\n",
    "    a = {1: x} # create a dictionary for holding the a values for all levels\n",
    "    z = { } # create a dictionary for holding the z values for all the layers\n",
    "    for l in range(1, len(W) + 1): # for each layer\n",
    "        node_in = a[l]\n",
    "        z[l+1] = W[l].dot(node_in) + b[l]  # z^(l+1) = W^(l)*a^(l) + b^(l)\n",
    "        a[l+1] = f(z[l+1]) # a^(l+1) = f(z^(l+1))\n",
    "    return a, z\n",
    "\n",
    "def calculate_out_layer_delta(y, a_out, z_out):\n",
    "    # delta^(nl) = -(y_i - a_i^(nl)) * f'(z_i^(nl))\n",
    "    return -(y-a_out) * f_deriv(z_out) \n",
    "\n",
    "\n",
    "def calculate_hidden_delta(delta_plus_1, w_l, z_l):\n",
    "    # delta^(l) = (transpose(W^(l)) * delta^(l+1)) * f'(z^(l))\n",
    "    return np.dot(np.transpose(w_l), delta_plus_1) * f_deriv(z_l)\n",
    "\n",
    "def train_nn(nn_structure, X, y, iter_num=3000, alpha=0.25):\n",
    "    W, b = setup_and_init_weights(nn_structure)\n",
    "    cnt = 0\n",
    "    N = len(y)\n",
    "    avg_cost_func = []\n",
    "    print('Starting gradient descent for {} iterations'.format(iter_num))\n",
    "    while cnt < iter_num:\n",
    "        if cnt%1000 == 0:\n",
    "            print('Iteration {} of {}'.format(cnt, iter_num))\n",
    "        tri_W, tri_b = init_tri_values(nn_structure)\n",
    "        avg_cost = 0\n",
    "        for i in range(N):\n",
    "            delta = {}\n",
    "            # perform the feed forward pass and return the stored a and z values, to be used in the\n",
    "            # gradient descent step\n",
    "            a, z = feed_forward(X[i, :], W, b)\n",
    "            # loop from nl-1 to 1 backpropagating the errors\n",
    "            for l in range(len(nn_structure), 0, -1):\n",
    "                if l == len(nn_structure):\n",
    "                    delta[l] = calculate_out_layer_delta(y[i,:], a[l], z[l])\n",
    "                    avg_cost += np.linalg.norm((y[i,:]-a[l]))\n",
    "                else:\n",
    "                    if l > 1:\n",
    "                        delta[l] = calculate_hidden_delta(delta[l+1], W[l], z[l])\n",
    "                    # triW^(l) = triW^(l) + delta^(l+1) * transpose(a^(l))\n",
    "                    tri_W[l] += np.dot(delta[l+1][:,np.newaxis], np.transpose(a[l][:,np.newaxis]))# np.newaxis increase the number of dimensions\n",
    "                    # trib^(l) = trib^(l) + delta^(l+1)\n",
    "                    tri_b[l] += delta[l+1]\n",
    "        # perform the gradient descent step for the weights in each layer\n",
    "        for l in range(len(nn_structure) - 1, 0, -1):\n",
    "            W[l] += -alpha * (1.0/N * tri_W[l])\n",
    "            b[l] += -alpha * (1.0/N * tri_b[l])\n",
    "        # complete the average cost calculation\n",
    "        avg_cost = 1.0/N * avg_cost\n",
    "        avg_cost_func.append(avg_cost)\n",
    "        cnt += 1\n",
    "    return W, b, avg_cost_func\n",
    "\n",
    "\n",
    "def predict_y(W, b, X, n_layers):\n",
    "    N = X.shape[0]\n",
    "    y = np.zeros((N,))\n",
    "    for i in range(N):\n",
    "        a, z = feed_forward(X[i, :], W, b)\n",
    "        y[i] = np.argmax(a[n_layers])\n",
    "    print(y)\n",
    "    return y"
   ]
  },
  {
   "cell_type": "code",
   "execution_count": 50,
   "metadata": {},
   "outputs": [],
   "source": [
    "# convert y to [1,0] and [0,1]"
   ]
  },
  {
   "cell_type": "code",
   "execution_count": 51,
   "metadata": {},
   "outputs": [],
   "source": [
    "different_all_news_extra[\"APPL diff\"] = different_all_news_extra[\"APPL diff\"].apply(transfer_y_binary)\n",
    "different_three_news_extra[\"APPL diff\"] = different_three_news_extra[\"APPL diff\"].apply(transfer_y_binary)"
   ]
  },
  {
   "cell_type": "code",
   "execution_count": 52,
   "metadata": {},
   "outputs": [],
   "source": [
    "X_different_three_news_extra,Y_different_three_news_extra = transfer_dataframe_to_x_y_for_SVM(different_three_news_extra,\"APPL diff\")\n",
    "X_different_all_news_extra, Y_different_all_news_extra = transfer_dataframe_to_x_y_for_SVM(different_all_news_extra,\"APPL diff\")\n"
   ]
  },
  {
   "cell_type": "code",
   "execution_count": 53,
   "metadata": {},
   "outputs": [
    {
     "name": "stdout",
     "output_type": "stream",
     "text": [
      "(649, 11)\n"
     ]
    }
   ],
   "source": [
    "print(X_different_three_news_extra.shape)"
   ]
  },
  {
   "cell_type": "code",
   "execution_count": 54,
   "metadata": {},
   "outputs": [
    {
     "ename": "NameError",
     "evalue": "name 'r' is not defined",
     "output_type": "error",
     "traceback": [
      "\u001b[0;31m---------------------------------------------------------------------------\u001b[0m",
      "\u001b[0;31mNameError\u001b[0m                                 Traceback (most recent call last)",
      "\u001b[0;32m<ipython-input-54-ad285b7ba09b>\u001b[0m in \u001b[0;36m<module>\u001b[0;34m\u001b[0m\n\u001b[1;32m      7\u001b[0m \u001b[0mY_V_test\u001b[0m \u001b[0;34m=\u001b[0m \u001b[0mconvert_y_to_vect\u001b[0m\u001b[0;34m(\u001b[0m\u001b[0mY_test\u001b[0m\u001b[0;34m)\u001b[0m\u001b[0;34m\u001b[0m\u001b[0;34m\u001b[0m\u001b[0m\n\u001b[1;32m      8\u001b[0m \u001b[0;31m# train the NN\u001b[0m\u001b[0;34m\u001b[0m\u001b[0;34m\u001b[0m\u001b[0;34m\u001b[0m\u001b[0m\n\u001b[0;32m----> 9\u001b[0;31m \u001b[0mW\u001b[0m\u001b[0;34m,\u001b[0m \u001b[0mb\u001b[0m\u001b[0;34m,\u001b[0m \u001b[0mavg_cost_func\u001b[0m \u001b[0;34m=\u001b[0m \u001b[0mtrain_nn\u001b[0m\u001b[0;34m(\u001b[0m\u001b[0mnn_structure\u001b[0m\u001b[0;34m,\u001b[0m \u001b[0mX_train\u001b[0m\u001b[0;34m,\u001b[0m \u001b[0mY_V_train\u001b[0m\u001b[0;34m,\u001b[0m \u001b[0;36m3000\u001b[0m\u001b[0;34m)\u001b[0m\u001b[0;34m\u001b[0m\u001b[0;34m\u001b[0m\u001b[0m\n\u001b[0m\u001b[1;32m     10\u001b[0m \u001b[0;34m\u001b[0m\u001b[0m\n\u001b[1;32m     11\u001b[0m \u001b[0;31m# get the prediction accuracy and print\u001b[0m\u001b[0;34m\u001b[0m\u001b[0;34m\u001b[0m\u001b[0;34m\u001b[0m\u001b[0m\n",
      "\u001b[0;32m<ipython-input-49-cd467e98614a>\u001b[0m in \u001b[0;36mtrain_nn\u001b[0;34m(nn_structure, X, y, iter_num, alpha)\u001b[0m\n\u001b[1;32m     50\u001b[0m \u001b[0;34m\u001b[0m\u001b[0m\n\u001b[1;32m     51\u001b[0m \u001b[0;32mdef\u001b[0m \u001b[0mtrain_nn\u001b[0m\u001b[0;34m(\u001b[0m\u001b[0mnn_structure\u001b[0m\u001b[0;34m,\u001b[0m \u001b[0mX\u001b[0m\u001b[0;34m,\u001b[0m \u001b[0my\u001b[0m\u001b[0;34m,\u001b[0m \u001b[0miter_num\u001b[0m\u001b[0;34m=\u001b[0m\u001b[0;36m3000\u001b[0m\u001b[0;34m,\u001b[0m \u001b[0malpha\u001b[0m\u001b[0;34m=\u001b[0m\u001b[0;36m0.25\u001b[0m\u001b[0;34m)\u001b[0m\u001b[0;34m:\u001b[0m\u001b[0;34m\u001b[0m\u001b[0;34m\u001b[0m\u001b[0m\n\u001b[0;32m---> 52\u001b[0;31m     \u001b[0mW\u001b[0m\u001b[0;34m,\u001b[0m \u001b[0mb\u001b[0m \u001b[0;34m=\u001b[0m \u001b[0msetup_and_init_weights\u001b[0m\u001b[0;34m(\u001b[0m\u001b[0mnn_structure\u001b[0m\u001b[0;34m)\u001b[0m\u001b[0;34m\u001b[0m\u001b[0;34m\u001b[0m\u001b[0m\n\u001b[0m\u001b[1;32m     53\u001b[0m     \u001b[0mcnt\u001b[0m \u001b[0;34m=\u001b[0m \u001b[0;36m0\u001b[0m\u001b[0;34m\u001b[0m\u001b[0;34m\u001b[0m\u001b[0m\n\u001b[1;32m     54\u001b[0m     \u001b[0mN\u001b[0m \u001b[0;34m=\u001b[0m \u001b[0mlen\u001b[0m\u001b[0;34m(\u001b[0m\u001b[0my\u001b[0m\u001b[0;34m)\u001b[0m\u001b[0;34m\u001b[0m\u001b[0;34m\u001b[0m\u001b[0m\n",
      "\u001b[0;32m<ipython-input-49-cd467e98614a>\u001b[0m in \u001b[0;36msetup_and_init_weights\u001b[0;34m(nn_structure)\u001b[0m\n\u001b[1;32m     19\u001b[0m     \u001b[0mb\u001b[0m \u001b[0;34m=\u001b[0m \u001b[0;34m{\u001b[0m\u001b[0;34m}\u001b[0m\u001b[0;34m\u001b[0m\u001b[0;34m\u001b[0m\u001b[0m\n\u001b[1;32m     20\u001b[0m     \u001b[0;32mfor\u001b[0m \u001b[0ml\u001b[0m \u001b[0;32min\u001b[0m \u001b[0mrange\u001b[0m\u001b[0;34m(\u001b[0m\u001b[0;36m1\u001b[0m\u001b[0;34m,\u001b[0m \u001b[0mlen\u001b[0m\u001b[0;34m(\u001b[0m\u001b[0mnn_structure\u001b[0m\u001b[0;34m)\u001b[0m\u001b[0;34m)\u001b[0m\u001b[0;34m:\u001b[0m\u001b[0;34m\u001b[0m\u001b[0;34m\u001b[0m\u001b[0m\n\u001b[0;32m---> 21\u001b[0;31m         \u001b[0mW\u001b[0m\u001b[0;34m[\u001b[0m\u001b[0ml\u001b[0m\u001b[0;34m]\u001b[0m \u001b[0;34m=\u001b[0m \u001b[0mr\u001b[0m\u001b[0;34m.\u001b[0m\u001b[0mrandom_sample\u001b[0m\u001b[0;34m(\u001b[0m\u001b[0;34m(\u001b[0m\u001b[0mnn_structure\u001b[0m\u001b[0;34m[\u001b[0m\u001b[0ml\u001b[0m\u001b[0;34m]\u001b[0m\u001b[0;34m,\u001b[0m \u001b[0mnn_structure\u001b[0m\u001b[0;34m[\u001b[0m\u001b[0ml\u001b[0m\u001b[0;34m-\u001b[0m\u001b[0;36m1\u001b[0m\u001b[0;34m]\u001b[0m\u001b[0;34m)\u001b[0m\u001b[0;34m)\u001b[0m \u001b[0;31m#Return “continuous uniform” random floats in the half-open interval [0.0, 1.0).\u001b[0m\u001b[0;34m\u001b[0m\u001b[0;34m\u001b[0m\u001b[0m\n\u001b[0m\u001b[1;32m     22\u001b[0m         \u001b[0mb\u001b[0m\u001b[0;34m[\u001b[0m\u001b[0ml\u001b[0m\u001b[0;34m]\u001b[0m \u001b[0;34m=\u001b[0m \u001b[0mr\u001b[0m\u001b[0;34m.\u001b[0m\u001b[0mrandom_sample\u001b[0m\u001b[0;34m(\u001b[0m\u001b[0;34m(\u001b[0m\u001b[0mnn_structure\u001b[0m\u001b[0;34m[\u001b[0m\u001b[0ml\u001b[0m\u001b[0;34m]\u001b[0m\u001b[0;34m,\u001b[0m\u001b[0;34m)\u001b[0m\u001b[0;34m)\u001b[0m\u001b[0;34m\u001b[0m\u001b[0;34m\u001b[0m\u001b[0m\n\u001b[1;32m     23\u001b[0m     \u001b[0;32mreturn\u001b[0m \u001b[0mW\u001b[0m\u001b[0;34m,\u001b[0m \u001b[0mb\u001b[0m\u001b[0;34m\u001b[0m\u001b[0;34m\u001b[0m\u001b[0m\n",
      "\u001b[0;31mNameError\u001b[0m: name 'r' is not defined"
     ]
    }
   ],
   "source": [
    "nn_structure = [11, 12, 2]\n",
    "\n",
    "nn_structure2 = []\n",
    "\n",
    "X_train, X_test, Y_train, Y_test = train_test_split(X_different_three_news_extra, Y_different_three_news_extra, test_size=0.3)\n",
    "Y_V_train = convert_y_to_vect(Y_train)\n",
    "Y_V_test = convert_y_to_vect(Y_test)\n",
    "# train the NN\n",
    "W, b, avg_cost_func = train_nn(nn_structure, X_train, Y_V_train, 3000)\n",
    "\n",
    "# get the prediction accuracy and print\n",
    "y_pred = predict_y(W, b, X_test, 3)\n",
    "print('Prediction accuracy is {}%'.format(accuracy_score(Y_test, y_pred) * 100))"
   ]
  },
  {
   "cell_type": "markdown",
   "metadata": {},
   "source": [
    "### keras lib\n"
   ]
  },
  {
   "cell_type": "code",
   "execution_count": 55,
   "metadata": {},
   "outputs": [],
   "source": [
    "def transfer_y_binary_keras(value):\n",
    "    if value < 0:\n",
    "        out = 0\n",
    "    else:\n",
    "        out = 1\n",
    "    return out"
   ]
  },
  {
   "cell_type": "code",
   "execution_count": 56,
   "metadata": {},
   "outputs": [],
   "source": [
    "def transfer_dataframe_to_x_y_for_SVM(dataframe, y_colum):\n",
    "    #y_dataframe = dataframe[y_colum]\n",
    "    dataframe = dataframe.dropna()\n",
    "    y = dataframe[y_colum].values\n",
    "    x_dataframe = dataframe.drop(columns= [y_colum,\"Date\"])\n",
    "    x = x_dataframe.values\n",
    "    return x,y"
   ]
  },
  {
   "cell_type": "code",
   "execution_count": 57,
   "metadata": {},
   "outputs": [],
   "source": [
    "different_all_news_extra[\"APPL diff\"] = different_all_news_extra[\"APPL diff\"].apply(transfer_y_binary_keras)\n",
    "different_three_news_extra[\"APPL diff\"] = different_three_news_extra[\"APPL diff\"].apply(transfer_y_binary_keras)\n"
   ]
  },
  {
   "cell_type": "code",
   "execution_count": 58,
   "metadata": {},
   "outputs": [],
   "source": [
    "X_different_three_news_extra,Y_different_three_news_extra = transfer_dataframe_to_x_y_for_SVM(different_three_news_extra,\"APPL diff\")\n",
    "X_different_all_news_extra, Y_different_all_news_extra = transfer_dataframe_to_x_y_for_SVM(different_all_news_extra,\"APPL diff\")\n",
    "X_different_three_news_extra = StandardScaler().fit_transform(X_different_three_news_extra)\n",
    "X_different_all_news_extra =  StandardScaler().fit_transform(X_different_all_news_extra)\n"
   ]
  },
  {
   "cell_type": "code",
   "execution_count": null,
   "metadata": {},
   "outputs": [],
   "source": []
  },
  {
   "cell_type": "code",
   "execution_count": null,
   "metadata": {},
   "outputs": [],
   "source": []
  },
  {
   "cell_type": "code",
   "execution_count": null,
   "metadata": {},
   "outputs": [],
   "source": []
  },
  {
   "cell_type": "code",
   "execution_count": 59,
   "metadata": {},
   "outputs": [],
   "source": [
    "# passing x, y before separate into train and test\n",
    "# hidenLayer is hidden layer as list. eg [10,4,2] is three hiden layer with 10 number of Neural etc. \n",
    "# activation is activation function\n",
    "# activity_regularizer is how much to regularizer\n",
    "### kernel_constraint is for constraint number using \n",
    "# optimizer is optimiz function such as sgd\n",
    "# batch_size is smaple size for each gd renew, 每次梯度更新的样本数\n",
    "# epochs: number iterations of generation\n",
    "def nn_classifier(x, y, hidenLayer, activation, regularizer, \n",
    "                  optimizer, batch_size, epochs):\n",
    "    \n",
    "    model = Sequential()\n",
    "    n_parameter = x.shape[1]\n",
    "    model.add(Dense(hidenLayer[0], input_shape = (n_parameter,), activation = activation, name = \"hidden\",\n",
    "                   activity_regularizer = regularizers.l2(regularizer)))\n",
    "    \n",
    "    if len(hidenLayer) > 1:\n",
    "        for layer in range(1,len(hidenLayer)):\n",
    "            name_in = \"hidden\" + str(layer)\n",
    "            model.add(Dense(hidenLayer[layer], activation = activation, name = name_in,\n",
    "                   activity_regularizer = regularizers.l2(regularizer)))\n",
    "            \n",
    "    model.add(Dense(1, activation=activation,activity_regularizer = regularizers.l2(regularizer), \n",
    "                    name='output'))\n",
    "    \n",
    "    model.compile(optimizer=optimizer,\n",
    "                  loss='binary_crossentropy',\n",
    "                  metrics=['accuracy'])\n",
    "    \n",
    "    X_train, X_test, Y_train, Y_test = train_test_split(x, y, test_size=0.2)\n",
    "\n",
    "    model.fit(X_train, Y_train, epochs = epochs, batch_size = batch_size,verbose=0)\n",
    "\n",
    "    lossi_Out, Eout = model.evaluate(X_test,Y_test, verbose=0)\n",
    "    lossi_In, Ein = model.evaluate(X_train,Y_train, verbose=0)\n",
    "    \n",
    "    model.summary()\n",
    "    print()\n",
    "    print(\"RESULT: \")\n",
    "    print(\"optimizer=\"+optimizer+\", activation=\" + activation) \n",
    "    print(\"batch_size=%3d, epoch=%4d, regularizer=%7.5f, loss=%12.4e, Ein=%7.5f, Eout=%7.5f\" % (batch_size, \n",
    "                                                                                               epochs,\n",
    "                                                                                               regularizer,\n",
    "                                                                                               lossi_In,\n",
    "                                                                                               Ein,\n",
    "                                                                                               Eout))\n",
    "    print()\n",
    " "
   ]
  },
  {
   "cell_type": "code",
   "execution_count": 60,
   "metadata": {},
   "outputs": [
    {
     "name": "stdout",
     "output_type": "stream",
     "text": [
      "WARNING:tensorflow:From /Library/Frameworks/Python.framework/Versions/3.7/lib/python3.7/site-packages/tensorflow/python/framework/op_def_library.py:263: colocate_with (from tensorflow.python.framework.ops) is deprecated and will be removed in a future version.\n",
      "Instructions for updating:\n",
      "Colocations handled automatically by placer.\n",
      "WARNING:tensorflow:From /Library/Frameworks/Python.framework/Versions/3.7/lib/python3.7/site-packages/tensorflow/python/ops/math_ops.py:3066: to_int32 (from tensorflow.python.ops.math_ops) is deprecated and will be removed in a future version.\n",
      "Instructions for updating:\n",
      "Use tf.cast instead.\n",
      "_________________________________________________________________\n",
      "Layer (type)                 Output Shape              Param #   \n",
      "=================================================================\n",
      "hidden (Dense)               (None, 20)                780       \n",
      "_________________________________________________________________\n",
      "hidden1 (Dense)              (None, 13)                273       \n",
      "_________________________________________________________________\n",
      "output (Dense)               (None, 1)                 14        \n",
      "=================================================================\n",
      "Total params: 1,067\n",
      "Trainable params: 1,067\n",
      "Non-trainable params: 0\n",
      "_________________________________________________________________\n",
      "\n",
      "RESULT: \n",
      "optimizer=rmsprop, activation=sigmoid\n",
      "batch_size=600, epoch=2000, regularizer=0.00010, loss=  4.8264e-01, Ein=0.72433, Eout=0.56061\n",
      "\n"
     ]
    }
   ],
   "source": [
    "K.clear_session()\n",
    "nn_classifier(X_different_all_news_extra, Y_different_all_news_extra,[20,13],'sigmoid', 0.0001,\"rmsprop\",600,2000)"
   ]
  },
  {
   "cell_type": "code",
   "execution_count": 61,
   "metadata": {},
   "outputs": [
    {
     "name": "stdout",
     "output_type": "stream",
     "text": [
      "_________________________________________________________________\n",
      "Layer (type)                 Output Shape              Param #   \n",
      "=================================================================\n",
      "hidden (Dense)               (None, 5)                 60        \n",
      "_________________________________________________________________\n",
      "output (Dense)               (None, 1)                 6         \n",
      "=================================================================\n",
      "Total params: 66\n",
      "Trainable params: 66\n",
      "Non-trainable params: 0\n",
      "_________________________________________________________________\n",
      "\n",
      "RESULT: \n",
      "optimizer=rmsprop, activation=sigmoid\n",
      "batch_size=600, epoch=2000, regularizer=0.00010, loss=  5.8335e-01, Ein=0.68208, Eout=0.64615\n",
      "\n"
     ]
    }
   ],
   "source": [
    "K.clear_session()\n",
    "nn_classifier(X_different_three_news_extra, Y_different_three_news_extra,[5],'sigmoid', 0.0001,\"rmsprop\",600,2000)"
   ]
  },
  {
   "cell_type": "code",
   "execution_count": 62,
   "metadata": {},
   "outputs": [
    {
     "name": "stdout",
     "output_type": "stream",
     "text": [
      "[0 1 1 0 0 0 0 0 1 1 1 1 1 1 0 0 0 1 1 1 1 0 1 1 0 1 1 0 0 1 1 1 1 0 0 1 0\n",
      " 1 0 1 1 0 1 1 1 1 0 1 1 1 1 1 0 0 1 1 1 0 1 1 1 1 1 0 0 1 1 1 0 1 1 0 0 0\n",
      " 0 0 1 0 1 0 1 1 0 1 0 1 0 0 1 1 1 0 0 1 0 1 1 1 0 1 0 0 0 1 1 1 1 0 0 0 1\n",
      " 0 1 1 1 0 1 0 0 0 0 1 0 0 1 0 1 1 0 1 1 1 0 0 0 0 1 1 1 1 0 1 0 0 0 0 1 1\n",
      " 1 1 0 1 0 1 1 0 0 0 0 0 0 1 1 0 0 0 1 0 0 0 0 1 0 0 1 1 1 1 0 0 1 0 0 0 0\n",
      " 1 1 1 1 0 0 0 1 1 0 1 1 1]\n"
     ]
    }
   ],
   "source": [
    "X_train, X_test, Y_train, Y_test = train_test_split(X_different_all_news_extra, Y_different_all_news_extra, test_size=0.3)\n",
    "print(Y_test)\n",
    "\n"
   ]
  },
  {
   "cell_type": "code",
   "execution_count": null,
   "metadata": {},
   "outputs": [],
   "source": []
  },
  {
   "cell_type": "code",
   "execution_count": null,
   "metadata": {},
   "outputs": [],
   "source": []
  },
  {
   "cell_type": "code",
   "execution_count": null,
   "metadata": {},
   "outputs": [],
   "source": []
  },
  {
   "cell_type": "code",
   "execution_count": null,
   "metadata": {},
   "outputs": [],
   "source": []
  }
 ],
 "metadata": {
  "kernelspec": {
   "display_name": "Python 3",
   "language": "python",
   "name": "python3"
  },
  "language_info": {
   "codemirror_mode": {
    "name": "ipython",
    "version": 3
   },
   "file_extension": ".py",
   "mimetype": "text/x-python",
   "name": "python",
   "nbconvert_exporter": "python",
   "pygments_lexer": "ipython3",
   "version": "3.7.4"
  }
 },
 "nbformat": 4,
 "nbformat_minor": 2
}
