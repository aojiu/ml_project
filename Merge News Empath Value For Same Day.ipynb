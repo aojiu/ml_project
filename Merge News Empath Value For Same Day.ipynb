{
 "cells": [
  {
   "cell_type": "code",
   "execution_count": 1,
   "metadata": {},
   "outputs": [],
   "source": [
    "import pandas as pd\n",
    "import numpy as np\n",
    "import csv"
   ]
  },
  {
   "cell_type": "code",
   "execution_count": 2,
   "metadata": {},
   "outputs": [
    {
     "name": "stderr",
     "output_type": "stream",
     "text": [
      "/usr/local/lib/python3.7/site-packages/IPython/core/interactiveshell.py:3020: DtypeWarning: Columns (34) have mixed types. Specify dtype option on import or set low_memory=False.\n",
      "  interactivity=interactivity, compiler=compiler, result=result)\n"
     ]
    }
   ],
   "source": [
    "news1 = pd.read_csv(\"1_part_anaylsis_with_all_parameters.csv\")\n",
    "news1 = news1.drop(columns = [\"correlation\",\"positive_relavent\",\"negetive_relavent\",\"Unnamed: 0\"])"
   ]
  },
  {
   "cell_type": "code",
   "execution_count": 3,
   "metadata": {},
   "outputs": [],
   "source": [
    "news2 = pd.read_csv(\"2_part_anaylsis_with_all_parameters.csv\")\n",
    "news2 = news2.drop(columns = [\"correlation\",\"positive_relavent\",\"negetive_relavent\",\"Unnamed: 0\"])"
   ]
  },
  {
   "cell_type": "code",
   "execution_count": 4,
   "metadata": {},
   "outputs": [],
   "source": [
    "news3 = pd.read_csv(\"3_part_anaylsis_with_all_parameters.csv\")\n",
    "news3 = news3.drop(columns = [\"correlation\",\"positive_relavent\",\"negetive_relavent\",\"Unnamed: 0\"])"
   ]
  },
  {
   "cell_type": "code",
   "execution_count": 5,
   "metadata": {},
   "outputs": [
    {
     "data": {
      "text/plain": [
       "date                 object\n",
       "social_media        float64\n",
       "computer            float64\n",
       "business            float64\n",
       "programming         float64\n",
       "hearing             float64\n",
       "urban               float64\n",
       "shopping            float64\n",
       "science             float64\n",
       "work                float64\n",
       "valuable            float64\n",
       "fashion             float64\n",
       "technology          float64\n",
       "competing           float64\n",
       "economics           float64\n",
       "office              float64\n",
       "cheerfulness        float64\n",
       "optimism            float64\n",
       "celebration         float64\n",
       "trust               float64\n",
       "positive_emotion    float64\n",
       "hate                float64\n",
       "aggression          float64\n",
       "horror              float64\n",
       "suffering           float64\n",
       "ridicule            float64\n",
       "irritability        float64\n",
       "deception           float64\n",
       "disappointment      float64\n",
       "negative_emotion    float64\n",
       "nervousness         float64\n",
       "dtype: object"
      ]
     },
     "execution_count": 5,
     "metadata": {},
     "output_type": "execute_result"
    }
   ],
   "source": [
    "#print(news1.shape)\n",
    "news1.dtypes\n"
   ]
  },
  {
   "cell_type": "code",
   "execution_count": 6,
   "metadata": {},
   "outputs": [],
   "source": [
    "def merge_news_with_same_day_into_Dictionary(news, dic):\n",
    "    # for news dataset, for same day, add all the three values and divide number of appearance\n",
    "    index = 0\n",
    "    check_list = [\"social_media\",\"computer\",\"business\",\"programming\",\"hearing\",\"urban\",\"shopping\",\"science\",\"work\",\"valuable\",\"fashion\",\"technology\",\"competing\",\"economics\",\"office\",'cheerfulness','optimism','celebration','trust','positive_emotion','hate','aggression','horror','suffering','ridicule','irritability','deception', 'disappointment','negative_emotion','nervousness' ]\n",
    "    for i in range(news.shape[0]):\n",
    "        corr = 1\n",
    "        if corr != 0:\n",
    "            date = news[\"date\"][i]\n",
    "            if pd.isna(news[\"date\"][i]) == True:\n",
    "                index += 1\n",
    "            else:\n",
    "                if len(date) == 10:\n",
    "                    if date[5] == \"0\":\n",
    "                        if date[8] == \"0\":\n",
    "                            date = date[0:5] + date[6:8] + date[9:]\n",
    "                        else:\n",
    "                            date = date[0:5] + date[6:]\n",
    "                    elif date[8] == \"0\":\n",
    "                        date = date[0:8] + date[9:]\n",
    "\n",
    "                if dic.__contains__(date):\n",
    "                    for para in range(len(check_list)):\n",
    "                        dic[date][para] += news[check_list[para]][i]\n",
    "                        \n",
    "                    dic[date][-1] += 1\n",
    "                else:\n",
    "                    dic[date] = []\n",
    "                    for para in range(len(check_list)):\n",
    "                        dic[date].append(news[check_list[para]][i])\n",
    "                    \n",
    "                    dic[date].append(1)\n",
    "                    \n",
    "    print(index)\n",
    "    return dic"
   ]
  },
  {
   "cell_type": "code",
   "execution_count": 7,
   "metadata": {},
   "outputs": [],
   "source": [
    "def merge_dictionary_with_unique_date_to_dataframe(dic):\n",
    "    columns = [\"social_media\",\"computer\",\"business\",\"programming\",\"hearing\",\"urban\",\"shopping\",\"science\",\"work\",\"valuable\",\"fashion\",\"technology\",\"competing\",\"economics\",\"office\",'cheerfulness','optimism','celebration','trust','positive_emotion','hate','aggression','horror','suffering','ridicule','irritability','deception', 'disappointment','negative_emotion','nervousness' ]\n",
    "    data_list = []\n",
    "    for parameter in columns:\n",
    "        data_list.append(np.float32(0))\n",
    "    \n",
    "    \n",
    "    data_list.append(np.float32(0))\n",
    "    data_list.append(\"date-month-day\")\n",
    "        \n",
    "    data_matrix = np.array([data_list])\n",
    "    for key in dic:\n",
    "        dic[key].append(key)\n",
    "        data_matrix = np.insert(data_matrix, 0, [dic[key]], 0)\n",
    "    \n",
    "    dataframe = pd.DataFrame(data_matrix, columns=[\"social_media\",\"computer\",\"business\",\"programming\",\"hearing\",\"urban\",\"shopping\",\"science\",\"work\",\"valuable\",\"fashion\",\"technology\",\"competing\",\"economics\",\"office\",'cheerfulness','optimism','celebration','trust','positive_emotion','hate','aggression','horror','suffering','ridicule','irritability','deception', 'disappointment','negative_emotion','nervousness',\"appear\",\"date-month-day\"])\n",
    "    return dataframe\n",
    "    "
   ]
  },
  {
   "cell_type": "code",
   "execution_count": 3,
   "metadata": {},
   "outputs": [],
   "source": [
    "dic = {}\n",
    "dic = merge_news_with_same_day_into_Dictionary(news1, dic)\n",
    "dic = merge_news_with_same_day_into_Dictionary(news2, dic)\n",
    "dic = merge_news_with_same_day_into_Dictionary(news3, dic)\n",
    "news_merged = merge_dictionary_with_unique_date_to_dataframe(dic)\n",
    "news_merged.head(50)"
   ]
  },
  {
   "cell_type": "code",
   "execution_count": 9,
   "metadata": {},
   "outputs": [
    {
     "data": {
      "text/plain": [
       "(1131, 32)"
      ]
     },
     "execution_count": 9,
     "metadata": {},
     "output_type": "execute_result"
    }
   ],
   "source": [
    "news_merged.shape"
   ]
  },
  {
   "cell_type": "code",
   "execution_count": 2,
   "metadata": {},
   "outputs": [],
   "source": [
    "news_merged.head(500)"
   ]
  },
  {
   "cell_type": "code",
   "execution_count": 12,
   "metadata": {},
   "outputs": [
    {
     "name": "stdout",
     "output_type": "stream",
     "text": [
      "2013: has 132 days\n",
      "2011: has 8 days\n",
      "2017: has 187 days\n",
      "2014: has 87 days\n",
      "2015: has 282 days\n",
      "2012: has 22 days\n",
      "2008: has 3 days\n",
      "2009: has 3 days\n",
      "2010: has 6 days\n",
      "2003: has 2 days\n",
      "2005: has 2 days\n",
      "2000: has 1 days\n",
      "2007: has 1 days\n",
      "2004: has 2 days\n",
      "2016: has 366 days\n",
      "date: has 1 days\n"
     ]
    }
   ],
   "source": [
    "for year in year_dic.keys():\n",
    "    print(year + \": has \" + str(year_dic[year]) + \" days\")"
   ]
  },
  {
   "cell_type": "code",
   "execution_count": 15,
   "metadata": {},
   "outputs": [],
   "source": [
    "def convert_time(old_date):\n",
    "    x = []\n",
    "    for i in range(len(old_date)):\n",
    "        from datetime import datetime, date\n",
    "        c = str(old_date[i])\n",
    "        y,m,d = c.split(\"-\")\n",
    "        try:\n",
    "            utc_date =date(int(y), int(m), int(d))\n",
    "            DAY = 24*60*60\n",
    "            timestamp = (utc_date.toordinal() - date(1970, 1, 1).toordinal()) * DAY\n",
    "\n",
    "            timestamp = (utc_date- date(1970, 1, 1)).days * DAY\n",
    "            date = datetime.utcfromtimestamp(timestamp).strftime('%Y-%m-%d')\n",
    "            x.append(date)\n",
    "        except:\n",
    "            print(c)\n",
    "            x.append(c)\n",
    "    return x"
   ]
  },
  {
   "cell_type": "code",
   "execution_count": 1,
   "metadata": {},
   "outputs": [],
   "source": [
    "a = news_merged[\"date-month-day\"].tolist()\n",
    "x = convert_time(a)\n",
    "print(x)\n",
    "news_merged[\"date-month-day\"] = x\n",
    "news_merged = news_merged.sort_values(by='date-month-day')"
   ]
  },
  {
   "cell_type": "code",
   "execution_count": 18,
   "metadata": {},
   "outputs": [],
   "source": [
    "news_merged.to_csv(\"news_in_days_with_all_parameters.csv\", encoding='utf-8')"
   ]
  }
 ],
 "metadata": {
  "kernelspec": {
   "display_name": "Python 3",
   "language": "python",
   "name": "python3"
  },
  "language_info": {
   "codemirror_mode": {
    "name": "ipython",
    "version": 3
   },
   "file_extension": ".py",
   "mimetype": "text/x-python",
   "name": "python",
   "nbconvert_exporter": "python",
   "pygments_lexer": "ipython3",
   "version": "3.7.2"
  }
 },
 "nbformat": 4,
 "nbformat_minor": 2
}
