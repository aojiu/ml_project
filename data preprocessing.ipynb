{
 "cells": [
  {
   "cell_type": "code",
   "execution_count": 31,
   "metadata": {},
   "outputs": [],
   "source": [
    "import numpy as np\n",
    "import pandas as pd"
   ]
  },
  {
   "cell_type": "code",
   "execution_count": 32,
   "metadata": {},
   "outputs": [
    {
     "data": {
      "text/html": [
       "<div>\n",
       "<style scoped>\n",
       "    .dataframe tbody tr th:only-of-type {\n",
       "        vertical-align: middle;\n",
       "    }\n",
       "\n",
       "    .dataframe tbody tr th {\n",
       "        vertical-align: top;\n",
       "    }\n",
       "\n",
       "    .dataframe thead th {\n",
       "        text-align: right;\n",
       "    }\n",
       "</style>\n",
       "<table border=\"1\" class=\"dataframe\">\n",
       "  <thead>\n",
       "    <tr style=\"text-align: right;\">\n",
       "      <th></th>\n",
       "      <th>Date</th>\n",
       "      <th>TXN diff</th>\n",
       "      <th>QCOM diff</th>\n",
       "      <th>MSFT diff</th>\n",
       "    </tr>\n",
       "  </thead>\n",
       "  <tbody>\n",
       "    <tr>\n",
       "      <th>0</th>\n",
       "      <td>2016-01-04</td>\n",
       "      <td>-0.479999</td>\n",
       "      <td>-0.479999</td>\n",
       "      <td>-0.479999</td>\n",
       "    </tr>\n",
       "    <tr>\n",
       "      <th>1</th>\n",
       "      <td>2016-01-05</td>\n",
       "      <td>-0.119999</td>\n",
       "      <td>-0.119999</td>\n",
       "      <td>-0.119999</td>\n",
       "    </tr>\n",
       "    <tr>\n",
       "      <th>2</th>\n",
       "      <td>2016-01-06</td>\n",
       "      <td>0.270001</td>\n",
       "      <td>0.270001</td>\n",
       "      <td>0.270001</td>\n",
       "    </tr>\n",
       "    <tr>\n",
       "      <th>3</th>\n",
       "      <td>2016-01-07</td>\n",
       "      <td>0.530003</td>\n",
       "      <td>0.530003</td>\n",
       "      <td>0.530003</td>\n",
       "    </tr>\n",
       "    <tr>\n",
       "      <th>4</th>\n",
       "      <td>2016-01-08</td>\n",
       "      <td>0.039997</td>\n",
       "      <td>0.039997</td>\n",
       "      <td>0.039997</td>\n",
       "    </tr>\n",
       "  </tbody>\n",
       "</table>\n",
       "</div>"
      ],
      "text/plain": [
       "         Date  TXN diff  QCOM diff  MSFT diff\n",
       "0  2016-01-04 -0.479999  -0.479999  -0.479999\n",
       "1  2016-01-05 -0.119999  -0.119999  -0.119999\n",
       "2  2016-01-06  0.270001   0.270001   0.270001\n",
       "3  2016-01-07  0.530003   0.530003   0.530003\n",
       "4  2016-01-08  0.039997   0.039997   0.039997"
      ]
     },
     "execution_count": 32,
     "metadata": {},
     "output_type": "execute_result"
    }
   ],
   "source": [
    "def get_dayclose(dataset, name):\n",
    "    data_dayclose = dataset.loc[:,[\"Date\",\"Close\"]]\n",
    "    dayclose_name = name + \" close price\"\n",
    "    data_dayclose.columns = [\"Date\", dayclose_name]\n",
    "    return data_dayclose\n",
    "\n",
    "def get_diff(dataset, name):\n",
    "    dataset[\"diff\"] = dataset[\"Open\"] - dataset[\"Close\"]\n",
    "    data_diff = dataset.loc[:,[\"Date\",\"diff\"]]\n",
    "    diff_name = name + \" diff\"\n",
    "    data_diff.columns = [\"Date\", diff_name]\n",
    "    return data_diff\n",
    "\n",
    "\n",
    "data_APPL = pd.read_csv(\"AAPL.csv\")\n",
    "data_APPL_dayclose = get_dayclose(data_APPL, \"APPL\")\n",
    "data_APPL_diff = get_diff(data_APPL, \"APPL\")\n",
    "\n",
    "data_MSFT = pd.read_csv(\"MSFT.csv\")\n",
    "data_MSFT_dayclose = get_dayclose(data_MSFT, \"MSFT\")\n",
    "data_MSFT_diff = get_diff(data_MSFT, \"MSFT\")\n",
    "\n",
    "\n",
    "data_QCOM = pd.read_csv(\"QCOM.csv\")\n",
    "data_QCOM_dayclose = get_dayclose(data_QCOM, \"QCOM\")\n",
    "data_QCOM_diff = get_diff(data_MSFT, \"QCOM\")\n",
    "\n",
    "data_TXN = pd.read_csv(\"TXN.csv\")\n",
    "data_TXN_dayclose = get_dayclose(data_TXN, \"TXN\")\n",
    "data_TXN_diff = get_diff(data_MSFT, \"TXN\")\n",
    "\n",
    "data_all_closeprice = pd.merge(data_TXN_dayclose,data_QCOM_dayclose)\n",
    "data_all_closeprice = pd.merge(data_all_closeprice,data_MSFT_dayclose)\n",
    "\n",
    "data_all_closeprice.head(5)\n",
    "\n",
    "data_all_diff = pd.merge(data_TXN_diff,data_QCOM_diff)\n",
    "data_all_diff = pd.merge(data_all_diff,data_MSFT_diff)\n",
    "data_all_diff.head(5)\n"
   ]
  },
  {
   "cell_type": "code",
   "execution_count": 33,
   "metadata": {
    "scrolled": true
   },
   "outputs": [
    {
     "data": {
      "text/html": [
       "<div>\n",
       "<style scoped>\n",
       "    .dataframe tbody tr th:only-of-type {\n",
       "        vertical-align: middle;\n",
       "    }\n",
       "\n",
       "    .dataframe tbody tr th {\n",
       "        vertical-align: top;\n",
       "    }\n",
       "\n",
       "    .dataframe thead th {\n",
       "        text-align: right;\n",
       "    }\n",
       "</style>\n",
       "<table border=\"1\" class=\"dataframe\">\n",
       "  <thead>\n",
       "    <tr style=\"text-align: right;\">\n",
       "      <th></th>\n",
       "      <th>Date</th>\n",
       "      <th>Euro exchange rate</th>\n",
       "      <th>Canada exchange rate</th>\n",
       "      <th>China exchange rate</th>\n",
       "      <th>Hong Kong exchange rate</th>\n",
       "    </tr>\n",
       "  </thead>\n",
       "  <tbody>\n",
       "    <tr>\n",
       "      <th>0</th>\n",
       "      <td>2016-01-01</td>\n",
       "      <td>NaN</td>\n",
       "      <td>NaN</td>\n",
       "      <td>NaN</td>\n",
       "      <td>NaN</td>\n",
       "    </tr>\n",
       "    <tr>\n",
       "      <th>1</th>\n",
       "      <td>2016-01-04</td>\n",
       "      <td>0.925669</td>\n",
       "      <td>1.3970</td>\n",
       "      <td>6.5338</td>\n",
       "      <td>7.7505</td>\n",
       "    </tr>\n",
       "    <tr>\n",
       "      <th>2</th>\n",
       "      <td>2016-01-05</td>\n",
       "      <td>0.930839</td>\n",
       "      <td>1.3991</td>\n",
       "      <td>6.5219</td>\n",
       "      <td>7.7517</td>\n",
       "    </tr>\n",
       "    <tr>\n",
       "      <th>3</th>\n",
       "      <td>2016-01-06</td>\n",
       "      <td>0.929195</td>\n",
       "      <td>1.4084</td>\n",
       "      <td>6.5554</td>\n",
       "      <td>7.7523</td>\n",
       "    </tr>\n",
       "    <tr>\n",
       "      <th>4</th>\n",
       "      <td>2016-01-07</td>\n",
       "      <td>0.920810</td>\n",
       "      <td>1.4061</td>\n",
       "      <td>6.5926</td>\n",
       "      <td>7.7541</td>\n",
       "    </tr>\n",
       "  </tbody>\n",
       "</table>\n",
       "</div>"
      ],
      "text/plain": [
       "         Date  Euro exchange rate  Canada exchange rate  China exchange rate  \\\n",
       "0  2016-01-01                 NaN                   NaN                  NaN   \n",
       "1  2016-01-04            0.925669                1.3970               6.5338   \n",
       "2  2016-01-05            0.930839                1.3991               6.5219   \n",
       "3  2016-01-06            0.929195                1.4084               6.5554   \n",
       "4  2016-01-07            0.920810                1.4061               6.5926   \n",
       "\n",
       "   Hong Kong exchange rate  \n",
       "0                      NaN  \n",
       "1                   7.7505  \n",
       "2                   7.7517  \n",
       "3                   7.7523  \n",
       "4                   7.7541  "
      ]
     },
     "execution_count": 33,
     "metadata": {},
     "output_type": "execute_result"
    }
   ],
   "source": [
    "data_exchange = pd.read_csv(\"daily.csv\")\n",
    "\n",
    "def exchange_rate_contry(dataset, country):\n",
    "    data_con = dataset.loc[data_exchange[\"Country\"] == country]\n",
    "    data_con = data_con.drop(columns = [\"Country\"])\n",
    "    data_con = data_con.set_index(\"Date\")\n",
    "    data_con = data_con[\"2016-01-01\":\"2016-12-31\"]\n",
    "    date = data_con.index\n",
    "    ind = np.arange(data_con.shape[0])\n",
    "    data_con = data_con.set_index(ind)\n",
    "    data_con[\"Date\"] = date\n",
    "    exchange_name = country + \" exchange rate\"\n",
    "    data_con.columns = [exchange_name, \"Date\"]\n",
    "    return data_con\n",
    "\n",
    "data_exchange_chn = exchange_rate_contry(data_exchange, \"China\")\n",
    "\n",
    "data_exchange_can = exchange_rate_contry(data_exchange, \"Canada\")\n",
    "\n",
    "data_exchange_euro = exchange_rate_contry(data_exchange, \"Euro\")    \n",
    "\n",
    "data_exchange_hk = exchange_rate_contry(data_exchange, \"Hong Kong\")\n",
    "\n",
    "# data_exchange_hk.head(5)\n",
    "\n",
    "\n",
    "data_all_exchangerate = pd.merge(data_exchange_euro, data_exchange_can)\n",
    "data_all_exchangerate = pd.merge(data_all_exchangerate, data_exchange_chn)\n",
    "data_all_exchangerate = pd.merge(data_all_exchangerate, data_exchange_hk)\n",
    "\n",
    "#switch order\n",
    "cols = data_all_exchangerate.columns.tolist()\n",
    "a = cols[0]\n",
    "cols[0] = cols[1]\n",
    "cols[1] = a\n",
    "data_all_exchangerate = data_all_exchangerate[cols]\n",
    "data_all_exchangerate.head(5)"
   ]
  },
  {
   "cell_type": "code",
   "execution_count": null,
   "metadata": {},
   "outputs": [],
   "source": [
    "\n"
   ]
  },
  {
   "cell_type": "code",
   "execution_count": null,
   "metadata": {},
   "outputs": [],
   "source": [
    "\n",
    "\n"
   ]
  },
  {
   "cell_type": "code",
   "execution_count": null,
   "metadata": {},
   "outputs": [],
   "source": []
  },
  {
   "cell_type": "code",
   "execution_count": null,
   "metadata": {},
   "outputs": [],
   "source": []
  },
  {
   "cell_type": "code",
   "execution_count": null,
   "metadata": {},
   "outputs": [],
   "source": []
  },
  {
   "cell_type": "code",
   "execution_count": null,
   "metadata": {},
   "outputs": [],
   "source": []
  },
  {
   "cell_type": "code",
   "execution_count": null,
   "metadata": {},
   "outputs": [],
   "source": []
  },
  {
   "cell_type": "code",
   "execution_count": null,
   "metadata": {},
   "outputs": [],
   "source": []
  },
  {
   "cell_type": "code",
   "execution_count": null,
   "metadata": {},
   "outputs": [],
   "source": []
  },
  {
   "cell_type": "code",
   "execution_count": null,
   "metadata": {},
   "outputs": [],
   "source": [
    "\n"
   ]
  },
  {
   "cell_type": "code",
   "execution_count": null,
   "metadata": {},
   "outputs": [],
   "source": []
  },
  {
   "cell_type": "code",
   "execution_count": null,
   "metadata": {},
   "outputs": [],
   "source": []
  },
  {
   "cell_type": "code",
   "execution_count": null,
   "metadata": {},
   "outputs": [],
   "source": []
  },
  {
   "cell_type": "code",
   "execution_count": null,
   "metadata": {},
   "outputs": [],
   "source": []
  },
  {
   "cell_type": "code",
   "execution_count": null,
   "metadata": {},
   "outputs": [],
   "source": []
  }
 ],
 "metadata": {
  "kernelspec": {
   "display_name": "Python 3",
   "language": "python",
   "name": "python3"
  },
  "language_info": {
   "codemirror_mode": {
    "name": "ipython",
    "version": 3
   },
   "file_extension": ".py",
   "mimetype": "text/x-python",
   "name": "python",
   "nbconvert_exporter": "python",
   "pygments_lexer": "ipython3",
   "version": "3.7.2"
  }
 },
 "nbformat": 4,
 "nbformat_minor": 2
}
